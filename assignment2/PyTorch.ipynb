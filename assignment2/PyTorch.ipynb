{
 "cells": [
  {
   "cell_type": "markdown",
   "metadata": {},
   "source": [
    "# Задание 2.2 - Введение в PyTorch\n",
    "\n",
    "Для этого задания потребуется установить версию PyTorch 1.0\n",
    "\n",
    "https://pytorch.org/get-started/locally/\n",
    "\n",
    "В этом задании мы познакомимся с основными компонентами PyTorch и натренируем несколько небольших моделей.<br>\n",
    "GPU нам пока не понадобится.\n",
    "\n",
    "Основные ссылки:  \n",
    "https://pytorch.org/tutorials/beginner/deep_learning_60min_blitz.html  \n",
    "https://pytorch.org/docs/stable/nn.html  \n",
    "https://pytorch.org/docs/stable/torchvision/index.html  "
   ]
  },
  {
   "cell_type": "code",
   "execution_count": 1,
   "metadata": {
    "ExecuteTime": {
     "end_time": "2019-05-10T17:12:54.042293Z",
     "start_time": "2019-05-10T17:12:38.476239Z"
    },
    "scrolled": true
   },
   "outputs": [],
   "source": [
    "import numpy as np\n",
    "import torch\n",
    "import torch.nn as nn\n",
    "import torch.optim as optim\n",
    "import torchvision.datasets as dset\n",
    "from torch.utils.data.sampler import SubsetRandomSampler, Sampler\n",
    "\n",
    "from torchvision import transforms\n",
    "\n",
    "import matplotlib.pyplot as plt\n",
    "%matplotlib inline"
   ]
  },
  {
   "cell_type": "markdown",
   "metadata": {},
   "source": [
    "## Как всегда, начинаем с загрузки данных\n",
    "\n",
    "PyTorch поддерживает загрузку SVHN из коробки."
   ]
  },
  {
   "cell_type": "code",
   "execution_count": 2,
   "metadata": {
    "ExecuteTime": {
     "end_time": "2019-05-10T17:13:05.415924Z",
     "start_time": "2019-05-10T17:12:54.047292Z"
    },
    "scrolled": true
   },
   "outputs": [],
   "source": [
    "# First, lets load the dataset\n",
    "data_train = dset.SVHN('./data/', split='train',\n",
    "                       transform=transforms.Compose([\n",
    "                           transforms.ToTensor(),\n",
    "                           transforms.Normalize(mean=[0.43, 0.44, 0.47],\n",
    "                                                std=[0.20, 0.20, 0.20])\n",
    "                       ])\n",
    "                       )\n",
    "data_test = dset.SVHN('./data/', split='test',\n",
    "                      transform=transforms.Compose([\n",
    "                          transforms.ToTensor(),\n",
    "                          transforms.Normalize(mean=[0.43, 0.44, 0.47],\n",
    "                                               std=[0.20, 0.20, 0.20])\n",
    "                      ]))"
   ]
  },
  {
   "cell_type": "markdown",
   "metadata": {},
   "source": [
    "Теперь мы разделим данные на training и validation с использованием классов `SubsetRandomSampler` и `DataLoader`.\n",
    "\n",
    "`DataLoader` подгружает данные, предоставляемые классом `Dataset`, во время тренировки и группирует их в батчи.\n",
    "Он дает возможность указать `Sampler`, который выбирает, какие примеры из датасета использовать для тренировки. Мы используем это, чтобы разделить данные на training и validation.\n",
    "\n",
    "Подробнее: https://pytorch.org/tutorials/beginner/data_loading_tutorial.html"
   ]
  },
  {
   "cell_type": "code",
   "execution_count": 3,
   "metadata": {
    "ExecuteTime": {
     "end_time": "2019-05-10T17:13:05.434961Z",
     "start_time": "2019-05-10T17:13:05.417924Z"
    },
    "scrolled": true
   },
   "outputs": [],
   "source": [
    "batch_size = 64\n",
    "\n",
    "data_size = data_train.data.shape[0]\n",
    "validation_split = .2\n",
    "split = int(np.floor(validation_split * data_size))\n",
    "indices = list(range(data_size))\n",
    "np.random.shuffle(indices)\n",
    "\n",
    "train_indices, val_indices = indices[split:], indices[:split]\n",
    "\n",
    "train_sampler = SubsetRandomSampler(train_indices)\n",
    "val_sampler = SubsetRandomSampler(val_indices)\n",
    "\n",
    "train_loader = torch.utils.data.DataLoader(data_train, batch_size=batch_size,\n",
    "                                           sampler=train_sampler)\n",
    "val_loader = torch.utils.data.DataLoader(data_train, batch_size=batch_size,\n",
    "                                         sampler=val_sampler)"
   ]
  },
  {
   "cell_type": "markdown",
   "metadata": {},
   "source": [
    "В нашей задаче мы получаем на вход изображения, но работаем с ними как с одномерными массивами. Чтобы превратить многомерный массив в одномерный, мы воспользуемся очень простым вспомогательным модулем `Flattener`."
   ]
  },
  {
   "cell_type": "code",
   "execution_count": 4,
   "metadata": {
    "ExecuteTime": {
     "end_time": "2019-05-10T17:13:06.555478Z",
     "start_time": "2019-05-10T17:13:05.436958Z"
    },
    "scrolled": true
   },
   "outputs": [
    {
     "name": "stdout",
     "output_type": "stream",
     "text": [
      "SVHN data sample shape:  torch.Size([3, 32, 32])\n"
     ]
    }
   ],
   "source": [
    "sample, label = data_train[0]\n",
    "print(\"SVHN data sample shape: \", sample.shape)\n",
    "# As you can see, the data is shaped like an image\n",
    "\n",
    "# We'll use a special helper module to shape it into a tensor\n",
    "\n",
    "\n",
    "class Flattener(nn.Module):\n",
    "    def forward(self, x):\n",
    "        batch_size, *_ = x.shape\n",
    "        return x.view(batch_size, -1)"
   ]
  },
  {
   "cell_type": "markdown",
   "metadata": {},
   "source": [
    "И наконец, мы создаем основные объекты PyTorch:\n",
    "- `nn_model` - собственно, модель с нейросетью\n",
    "- `loss` - функцию ошибки, в нашем случае `CrossEntropyLoss`\n",
    "- `optimizer` - алгоритм оптимизации, в нашем случае просто `SGD`"
   ]
  },
  {
   "cell_type": "code",
   "execution_count": 5,
   "metadata": {
    "ExecuteTime": {
     "end_time": "2019-05-10T17:13:06.720611Z",
     "start_time": "2019-05-10T17:13:06.563476Z"
    },
    "scrolled": true
   },
   "outputs": [],
   "source": [
    "nn_model = nn.Sequential(\n",
    "    Flattener(),\n",
    "    nn.Linear(3*32*32, 100),\n",
    "    nn.ReLU(inplace=True),\n",
    "    nn.Linear(100, 10),\n",
    ")\n",
    "nn_model.type(torch.FloatTensor)\n",
    "\n",
    "# We will minimize cross-entropy between the ground truth and\n",
    "# network predictions using an SGD optimizer\n",
    "loss = nn.CrossEntropyLoss().type(torch.FloatTensor)\n",
    "optimizer = optim.SGD(nn_model.parameters(), lr=1e-2, weight_decay=1e-1)"
   ]
  },
  {
   "cell_type": "markdown",
   "metadata": {},
   "source": [
    "## Тренируем!\n",
    "\n",
    "Ниже приведена функция `train_model`, реализующая основной цикл тренировки PyTorch.\n",
    "\n",
    "Каждую эпоху эта функция вызывает функцию `compute_accuracy`, которая вычисляет точность на validation, эту последнюю функцию предлагается реализовать вам."
   ]
  },
  {
   "cell_type": "code",
   "execution_count": 6,
   "metadata": {
    "ExecuteTime": {
     "end_time": "2019-05-10T17:14:20.937106Z",
     "start_time": "2019-05-10T17:13:06.721633Z"
    },
    "scrolled": true
   },
   "outputs": [
    {
     "name": "stdout",
     "output_type": "stream",
     "text": [
      "Average loss: 1.811259, Train accuracy: 0.420725, Val accuracy: 0.545560\n",
      "Average loss: 1.454580, Train accuracy: 0.579804, Val accuracy: 0.604942\n",
      "Average loss: 1.384367, Train accuracy: 0.615620, Val accuracy: 0.637090\n"
     ]
    }
   ],
   "source": [
    "# This is how to implement the same main train loop in PyTorch. Pretty easy, right?\n",
    "\n",
    "\n",
    "def train_model(model, train_loader, val_loader, loss, optimizer, num_epochs):\n",
    "    loss_history = []\n",
    "    train_history = []\n",
    "    val_history = []\n",
    "    for epoch in range(num_epochs):\n",
    "        model.train()  # Enter train mode\n",
    "\n",
    "        loss_accum = 0\n",
    "        correct_samples = 0\n",
    "        total_samples = 0\n",
    "        for i_step, (x, y) in enumerate(train_loader):\n",
    "            prediction = model(x)\n",
    "            loss_value = loss(prediction, y)\n",
    "            optimizer.zero_grad()\n",
    "            loss_value.backward()\n",
    "            optimizer.step()\n",
    "\n",
    "            _, indices = torch.max(prediction, 1)\n",
    "            correct_samples += torch.sum(indices == y)\n",
    "            total_samples += y.shape[0]\n",
    "\n",
    "            loss_accum += loss_value\n",
    "\n",
    "        ave_loss = loss_accum / (i_step + 1)\n",
    "        train_accuracy = float(correct_samples) / total_samples\n",
    "        val_accuracy = compute_accuracy(model, val_loader)\n",
    "\n",
    "        loss_history.append(float(ave_loss))\n",
    "        train_history.append(train_accuracy)\n",
    "        val_history.append(val_accuracy)\n",
    "\n",
    "        print(\"Average loss: %f, Train accuracy: %f, Val accuracy: %f\" %\n",
    "              (ave_loss, train_accuracy, val_accuracy))\n",
    "\n",
    "    return loss_history, train_history, val_history\n",
    "\n",
    "\n",
    "def compute_accuracy(model, loader):\n",
    "    \"\"\"\n",
    "    Computes accuracy on the dataset wrapped in a loader\n",
    "\n",
    "    Returns: accuracy as a float value between 0 and 1\n",
    "    \"\"\"\n",
    "    model.eval()  # Evaluation mode\n",
    "    # TODO: Implement the inference of the model on all of the batches from loader,\n",
    "    #       and compute the overall accuracy.\n",
    "    # Hint: PyTorch has the argmax function!\n",
    "\n",
    "    #raise Exception(\"Not implemented\")\n",
    "    correct = 0\n",
    "    total_samples = 0\n",
    "    for x, y in loader:\n",
    "        total_samples += y.shape[0]\n",
    "        prediction = torch.argmax(model(x), dim=1)\n",
    "        correct += torch.sum(prediction == y)\n",
    "\n",
    "    return float(correct)/total_samples\n",
    "\n",
    "\n",
    "loss_history, train_history, val_history = train_model(\n",
    "    nn_model, train_loader, val_loader, loss, optimizer, 3)"
   ]
  },
  {
   "cell_type": "markdown",
   "metadata": {},
   "source": [
    "## После основного цикла\n",
    "\n",
    "Посмотрим на другие возможности и оптимизации, которые предоставляет PyTorch.\n",
    "\n",
    "Добавьте еще один скрытый слой размера 100 нейронов к модели"
   ]
  },
  {
   "cell_type": "code",
   "execution_count": 7,
   "metadata": {
    "ExecuteTime": {
     "end_time": "2019-05-10T17:16:14.624165Z",
     "start_time": "2019-05-10T17:14:20.940111Z"
    },
    "scrolled": true
   },
   "outputs": [
    {
     "name": "stdout",
     "output_type": "stream",
     "text": [
      "Average loss: 2.186604, Train accuracy: 0.200201, Val accuracy: 0.227903\n",
      "Average loss: 1.990464, Train accuracy: 0.287547, Val accuracy: 0.348577\n",
      "Average loss: 1.784070, Train accuracy: 0.390301, Val accuracy: 0.404478\n",
      "Average loss: 1.700602, Train accuracy: 0.426936, Val accuracy: 0.426933\n",
      "Average loss: 1.679393, Train accuracy: 0.436030, Val accuracy: 0.426660\n"
     ]
    }
   ],
   "source": [
    "# Since it's so easy to add layers, let's add some!\n",
    "\n",
    "# TODO: Implement a model with 2 hidden layers of the size 100\n",
    "nn_model = nn.Sequential(\n",
    "    Flattener(),\n",
    "    nn.Linear(3*32*32, 100),\n",
    "    nn.ReLU(inplace=True),\n",
    "    nn.Linear(100, 100),\n",
    "    nn.ReLU(inplace=True),\n",
    "    nn.Linear(100, 10),\n",
    ")\n",
    "nn_model.type(torch.FloatTensor)\n",
    "\n",
    "optimizer = optim.SGD(nn_model.parameters(), lr=1e-2, weight_decay=1e-1)\n",
    "loss_history, train_history, val_history = train_model(\n",
    "    nn_model, train_loader, val_loader, loss, optimizer, 5)"
   ]
  },
  {
   "cell_type": "markdown",
   "metadata": {},
   "source": [
    "Добавьте слой с Batch Normalization"
   ]
  },
  {
   "cell_type": "code",
   "execution_count": 8,
   "metadata": {
    "ExecuteTime": {
     "end_time": "2019-05-10T17:18:06.935165Z",
     "start_time": "2019-05-10T17:16:14.628164Z"
    },
    "scrolled": true
   },
   "outputs": [
    {
     "name": "stdout",
     "output_type": "stream",
     "text": [
      "Average loss: 2.177558, Train accuracy: 0.258062, Val accuracy: 0.341274\n",
      "Average loss: 1.996149, Train accuracy: 0.378971, Val accuracy: 0.412736\n",
      "Average loss: 1.889072, Train accuracy: 0.433607, Val accuracy: 0.462494\n",
      "Average loss: 1.813220, Train accuracy: 0.471846, Val accuracy: 0.498806\n",
      "Average loss: 1.752771, Train accuracy: 0.495820, Val accuracy: 0.511910\n"
     ]
    }
   ],
   "source": [
    "# We heard batch normalization is powerful, let's use it!\n",
    "# TODO: Add batch normalization after each of the hidden layers of the network, before or after non-linearity\n",
    "# Hint: check out torch.nn.BatchNorm1d\n",
    "\n",
    "nn_model = nn.Sequential(\n",
    "    Flattener(),\n",
    "    nn.Linear(3*32*32, 100),\n",
    "    nn.BatchNorm1d(100),\n",
    "    nn.ReLU(inplace=True),\n",
    "    nn.Linear(100, 100),\n",
    "    nn.BatchNorm1d(100),\n",
    "    nn.ReLU(inplace=True),\n",
    "    nn.Linear(100, 10),\n",
    ")\n",
    "\n",
    "optimizer = optim.SGD(nn_model.parameters(), lr=1e-3, weight_decay=1e-1)\n",
    "loss_history, train_history, val_history = train_model(\n",
    "    nn_model, train_loader, val_loader, loss, optimizer, 5)"
   ]
  },
  {
   "cell_type": "markdown",
   "metadata": {},
   "source": [
    "Добавьте уменьшение скорости обучения по ходу тренировки."
   ]
  },
  {
   "cell_type": "code",
   "execution_count": 9,
   "metadata": {
    "ExecuteTime": {
     "end_time": "2019-05-10T17:18:06.951167Z",
     "start_time": "2019-05-10T17:18:06.939166Z"
    }
   },
   "outputs": [],
   "source": [
    "def train_model_s(model, train_loader, val_loader, loss, optimizer, schedulers, num_epochs):\n",
    "    loss_history = []\n",
    "    train_history = []\n",
    "    val_history = []\n",
    "    for epoch in range(num_epochs):\n",
    "        model.train()  # Enter train mode\n",
    "\n",
    "        loss_accum = 0\n",
    "        correct_samples = 0\n",
    "        total_samples = 0\n",
    "        for i_step, (x, y) in enumerate(train_loader):\n",
    "            prediction = model(x)\n",
    "            loss_value = loss(prediction, y)\n",
    "            optimizer.zero_grad()\n",
    "            loss_value.backward()\n",
    "            optimizer.step()\n",
    "\n",
    "            _, indices = torch.max(prediction, 1)\n",
    "            correct_samples += torch.sum(indices == y)\n",
    "            total_samples += y.shape[0]\n",
    "\n",
    "            loss_accum += loss_value\n",
    "\n",
    "        ave_loss = loss_accum / (i_step + 1)\n",
    "        train_accuracy = float(correct_samples) / total_samples\n",
    "        val_accuracy = compute_accuracy(model, val_loader)\n",
    "\n",
    "        loss_history.append(float(ave_loss))\n",
    "        train_history.append(train_accuracy)\n",
    "        val_history.append(val_accuracy)\n",
    "\n",
    "        schedulers.step()\n",
    "\n",
    "        print(\"Average loss: %f, Train accuracy: %f, Val accuracy: %f\" %\n",
    "              (ave_loss, train_accuracy, val_accuracy))\n",
    "\n",
    "    return loss_history, train_history, val_history"
   ]
  },
  {
   "cell_type": "code",
   "execution_count": 10,
   "metadata": {
    "ExecuteTime": {
     "end_time": "2019-05-10T17:21:58.523705Z",
     "start_time": "2019-05-10T17:18:06.953166Z"
    },
    "scrolled": true
   },
   "outputs": [
    {
     "name": "stdout",
     "output_type": "stream",
     "text": [
      "Average loss: 2.201585, Train accuracy: 0.246579, Val accuracy: 0.326667\n",
      "Average loss: 2.030529, Train accuracy: 0.339351, Val accuracy: 0.368029\n",
      "Average loss: 1.930073, Train accuracy: 0.379825, Val accuracy: 0.396560\n",
      "Average loss: 1.866004, Train accuracy: 0.412142, Val accuracy: 0.433622\n",
      "Average loss: 1.824845, Train accuracy: 0.434273, Val accuracy: 0.456146\n",
      "Average loss: 1.797716, Train accuracy: 0.454800, Val accuracy: 0.460856\n",
      "Average loss: 1.781193, Train accuracy: 0.465174, Val accuracy: 0.478466\n",
      "Average loss: 1.768740, Train accuracy: 0.475463, Val accuracy: 0.479216\n",
      "Average loss: 1.762643, Train accuracy: 0.478296, Val accuracy: 0.487134\n",
      "Average loss: 1.758407, Train accuracy: 0.477170, Val accuracy: 0.485701\n"
     ]
    }
   ],
   "source": [
    "# Learning rate annealing\n",
    "# Reduce your learning rate 2x every 2 epochs\n",
    "# Hint: look up learning rate schedulers in PyTorch. You might need to extend train_model function a little bit too!\n",
    "\n",
    "nn_model = nn.Sequential(\n",
    "    Flattener(),\n",
    "    nn.Linear(3*32*32, 100),\n",
    "    nn.BatchNorm1d(100, eps=1e-3),\n",
    "    nn.ReLU(inplace=True),\n",
    "    nn.Linear(100, 100),\n",
    "    nn.BatchNorm1d(100, eps=1e-3),\n",
    "    nn.ReLU(inplace=True),\n",
    "    nn.Linear(100, 10),\n",
    ")\n",
    "\n",
    "\n",
    "optimizer = optim.SGD(nn_model.parameters(), lr=1e-3, weight_decay=1e-1)\n",
    "schedulers = optim.lr_scheduler.LambdaLR(\n",
    "    optimizer, lr_lambda=[lambda epoch: 0.99**epoch])\n",
    "loss_history, train_history, val_history = train_model_s(\n",
    "    nn_model, train_loader, val_loader, loss, optimizer, schedulers, 10)"
   ]
  },
  {
   "cell_type": "code",
   "execution_count": 11,
   "metadata": {
    "ExecuteTime": {
     "end_time": "2019-05-10T17:21:58.531702Z",
     "start_time": "2019-05-10T17:21:58.525701Z"
    }
   },
   "outputs": [
    {
     "data": {
      "text/plain": [
       "[0.0009043820750088044]"
      ]
     },
     "execution_count": 11,
     "metadata": {},
     "output_type": "execute_result"
    }
   ],
   "source": [
    "schedulers.get_lr()"
   ]
  },
  {
   "cell_type": "markdown",
   "metadata": {},
   "source": [
    "# Визуализируем ошибки модели\n",
    "\n",
    "Попробуем посмотреть, на каких изображениях наша модель ошибается.\n",
    "Для этого мы получим все предсказания модели на validation set и сравним их с истинными метками (ground truth).\n",
    "\n",
    "Первая часть - реализовать код на PyTorch, который вычисляет все предсказания модели на validation set.  \n",
    "Чтобы это сделать мы приводим код `SubsetSampler`, который просто проходит по всем заданным индексам последовательно и составляет из них батчи. \n",
    "\n",
    "Реализуйте функцию `evaluate_model`, которая прогоняет модель через все сэмплы validation set и запоминает предсказания модели и истинные метки."
   ]
  },
  {
   "cell_type": "code",
   "execution_count": 12,
   "metadata": {
    "ExecuteTime": {
     "end_time": "2019-05-10T17:22:01.359703Z",
     "start_time": "2019-05-10T17:21:58.533703Z"
    }
   },
   "outputs": [],
   "source": [
    "class SubsetSampler(Sampler):\n",
    "    r\"\"\"Samples elements with given indices sequentially\n",
    "\n",
    "    Arguments:\n",
    "        indices (ndarray): indices of the samples to take\n",
    "    \"\"\"\n",
    "\n",
    "    def __init__(self, indices):\n",
    "        self.indices = indices\n",
    "\n",
    "    def __iter__(self):\n",
    "        return (self.indices[i] for i in range(len(self.indices)))\n",
    "\n",
    "    def __len__(self):\n",
    "        return len(self.indices)\n",
    "\n",
    "\n",
    "def evaluate_model(model, dataset, indices):\n",
    "    \"\"\"\n",
    "    Computes predictions and ground truth labels for the indices of the dataset\n",
    "\n",
    "    Returns: \n",
    "    predictions: np array of ints - model predictions\n",
    "    grount_truth: np array of ints - actual labels of the dataset\n",
    "    \"\"\"\n",
    "    model.eval()  # Evaluation mode\n",
    "\n",
    "    # TODO: Evaluate model on the list of indices and capture predictions\n",
    "    # and ground truth labels\n",
    "    # Hint: SubsetSampler above could be useful!\n",
    "\n",
    "#     raise Exception(\"Not implemented\")\n",
    "    sampler = SubsetSampler(indices)\n",
    "    loader = torch.utils.data.DataLoader(dataset, batch_size=batch_size,\n",
    "                                         sampler=sampler)\n",
    "    predictions = []\n",
    "    ground_truth = []\n",
    "    for x, y in loader:\n",
    "        predictions.extend(torch.argmax(model(x), dim=1).tolist())\n",
    "        ground_truth.extend(y.data.tolist())\n",
    "    return predictions, ground_truth\n",
    "\n",
    "\n",
    "# Evaluate model on validation\n",
    "predictions, gt = evaluate_model(nn_model, data_train, val_indices)\n",
    "assert len(predictions) == len(val_indices)\n",
    "assert len(gt) == len(val_indices)\n",
    "assert gt[100] == data_train[val_indices[100]][1]\n",
    "assert np.any(np.not_equal(gt, predictions))"
   ]
  },
  {
   "attachments": {
    "image.png": {
     "image/png": "[encoded data removed]"
    }
   },
   "cell_type": "markdown",
   "metadata": {},
   "source": [
    "## Confusion matrix\n",
    "Первая часть визуализации - вывести confusion matrix (https://en.wikipedia.org/wiki/Confusion_matrix ).\n",
    "\n",
    "Confusion matrix - это матрица, где каждой строке соответствуют классы предсказанный, а столбцу - классы истинных меток (ground truth). Число с координатами `i,j` - это количество сэмплов класса `j`, которые модель считает классом `i`.\n",
    "\n",
    "![image.png](attachment:image.png)\n",
    "\n",
    "Для того, чтобы облегчить вам задачу, ниже реализована функция `visualize_confusion_matrix` которая визуализирует такую матрицу.  \n",
    "Вам осталось реализовать функцию `build_confusion_matrix`, которая ее вычислит.\n",
    "\n",
    "Результатом должна быть матрица 10x10."
   ]
  },
  {
   "cell_type": "code",
   "execution_count": 13,
   "metadata": {
    "ExecuteTime": {
     "end_time": "2019-05-10T17:22:01.949703Z",
     "start_time": "2019-05-10T17:22:01.360703Z"
    }
   },
   "outputs": [
    {
     "data": {
      "image/png": "[encoded data removed]",
      "text/plain": [
       "<Figure size 720x720 with 2 Axes>"
      ]
     },
     "metadata": {
      "needs_background": "light"
     },
     "output_type": "display_data"
    }
   ],
   "source": [
    "def visualize_confusion_matrix(confusion_matrix):\n",
    "    \"\"\"\n",
    "    Visualizes confusion matrix\n",
    "\n",
    "    confusion_matrix: np array of ints, x axis - predicted class, y axis - actual class\n",
    "                      [i][j] should have the count of samples that were predicted to be class i,\n",
    "                      but have j in the ground truth\n",
    "\n",
    "    \"\"\"\n",
    "    # Adapted from\n",
    "    # https://stackoverflow.com/questions/2897826/confusion-matrix-with-number-of-classified-misclassified-instances-on-it-python\n",
    "    assert confusion_matrix.shape[0] == confusion_matrix.shape[1]\n",
    "    size = confusion_matrix.shape[0]\n",
    "    fig = plt.figure(figsize=(10, 10))\n",
    "    plt.title(\"Confusion matrix\")\n",
    "    plt.ylabel(\"predicted\")\n",
    "    plt.xlabel(\"ground truth\")\n",
    "    res = plt.imshow(confusion_matrix, cmap='GnBu', interpolation='nearest')\n",
    "    cb = fig.colorbar(res)\n",
    "    plt.xticks(np.arange(size))\n",
    "    plt.yticks(np.arange(size))\n",
    "    for i, row in enumerate(confusion_matrix):\n",
    "        for j, count in enumerate(row):\n",
    "            plt.text(j, i, count, fontsize=14,\n",
    "                     horizontalalignment='center', verticalalignment='center')\n",
    "\n",
    "\n",
    "def build_confusion_matrix(predictions, ground_truth):\n",
    "    \"\"\"\n",
    "    Builds confusion matrix from predictions and ground truth\n",
    "\n",
    "    predictions: np array of ints, model predictions for all validation samples\n",
    "    ground_truth: np array of ints, ground truth for all validation samples\n",
    "\n",
    "    Returns:\n",
    "    np array of ints, (10,10), counts of samples for predicted/ground_truth classes\n",
    "    \"\"\"\n",
    "\n",
    "    confusion_matrix = np.zeros((10, 10), np.int)\n",
    "\n",
    "    # TODO: Implement filling the prediction matrix\n",
    "    for p, gt in zip(predictions, ground_truth):\n",
    "        confusion_matrix[p, gt] += 1\n",
    "    return confusion_matrix\n",
    "\n",
    "\n",
    "confusion_matrix = build_confusion_matrix(predictions, gt)\n",
    "visualize_confusion_matrix(confusion_matrix)"
   ]
  },
  {
   "cell_type": "markdown",
   "metadata": {},
   "source": [
    "Наконец, посмотрим на изображения, соответствующие некоторым элементам этой матрицы.\n",
    "\n",
    "Как и раньше, вам дана функция `visualize_images`, которой нужно воспрользоваться при реализации функции `visualize_predicted_actual`. Эта функция должна вывести несколько примеров, соответствующих заданному элементу матрицы.\n",
    "\n",
    "Визуализируйте наиболее частые ошибки и попробуйте понять, почему модель их совершает."
   ]
  },
  {
   "cell_type": "code",
   "execution_count": 14,
   "metadata": {
    "ExecuteTime": {
     "end_time": "2019-05-10T17:22:04.064737Z",
     "start_time": "2019-05-10T17:22:01.950703Z"
    }
   },
   "outputs": [
    {
     "data": {
      "image/png": "[encoded data removed]",
      "text/plain": [
       "<Figure size 720x108 with 10 Axes>"
      ]
     },
     "metadata": {
      "needs_background": "light"
     },
     "output_type": "display_data"
    },
    {
     "data": {
      "image/png": "[encoded data removed]",
      "text/plain": [
       "<Figure size 720x108 with 10 Axes>"
      ]
     },
     "metadata": {
      "needs_background": "light"
     },
     "output_type": "display_data"
    }
   ],
   "source": [
    "data_train_images = dset.SVHN('./data/', split='train')\n",
    "\n",
    "\n",
    "def visualize_images(indices, data, title='', max_num=10):\n",
    "    \"\"\"\n",
    "    Visualizes several images from the dataset\n",
    "\n",
    "    indices: array of indices to visualize\n",
    "    data: torch Dataset with the images\n",
    "    title: string, title of the plot\n",
    "    max_num: int, max number of images to display\n",
    "    \"\"\"\n",
    "    to_show = min(len(indices), max_num)\n",
    "    fig = plt.figure(figsize=(10, 1.5))\n",
    "    fig.suptitle(title)\n",
    "    for i, index in enumerate(indices[:to_show]):\n",
    "        plt.subplot(1, to_show, i+1)\n",
    "        plt.axis('off')\n",
    "        sample = data[index][0]\n",
    "        plt.imshow(sample)\n",
    "\n",
    "\n",
    "def visualize_predicted_actual(predicted_class, gt_class, predictions, groud_truth, val_indices, data):\n",
    "    \"\"\"\n",
    "    Visualizes images of a ground truth class which were predicted as the other class \n",
    "\n",
    "    predicted: int 0-9, index of the predicted class\n",
    "    gt_class: int 0-9, index of the ground truth class\n",
    "    predictions: np array of ints, model predictions for all validation samples\n",
    "    ground_truth: np array of ints, ground truth for all validation samples\n",
    "    val_indices: np array of ints, indices of validation samples\n",
    "    \"\"\"\n",
    "\n",
    "    # TODO: Implement visualization using visualize_images above\n",
    "    # predictions and ground_truth are provided for validation set only, defined by val_indices\n",
    "    # Hint: numpy index arrays might be helpful\n",
    "    # https://docs.scipy.org/doc/numpy/user/basics.indexing.html#index-arrays\n",
    "    # Please make the title meaningful!\n",
    "\n",
    "#     raise Exception(\"Not implemented\")\n",
    "    indices = []\n",
    "    for i, dt in enumerate(zip(predictions, groud_truth)):\n",
    "        p, gt = dt\n",
    "        if p == predicted_class and gt == gt_class:\n",
    "            indices.append(val_indices[i])\n",
    "    visualize_images(\n",
    "        indices, data, f'visualization error {gt_class} in predicted {predicted_class}')\n",
    "\n",
    "\n",
    "visualize_predicted_actual(6, 8, predictions, gt,\n",
    "                           np.array(val_indices), data_train_images)\n",
    "visualize_predicted_actual(1, 7, predictions, gt,\n",
    "                           np.array(val_indices), data_train_images)"
   ]
  },
  {
   "cell_type": "markdown",
   "metadata": {},
   "source": [
    "# Переходим к свободным упражнениям!\n",
    "\n",
    "Натренируйте модель как можно лучше - экспериментируйте сами!\n",
    "Что следует обязательно попробовать:\n",
    "- перебор гиперпараметров с помощью валидационной выборки\n",
    "- другие оптимизаторы вместо SGD\n",
    "- изменение количества слоев и их размеров\n",
    "- наличие Batch Normalization\n",
    "\n",
    "Но ограничиваться этим не стоит!\n",
    "\n",
    "Точность на валидацонной выборке должна быть доведена до **60%**\n",
    "\n",
    "За лучший результат в группе вы получите дополнительные баллы :)"
   ]
  },
  {
   "cell_type": "code",
   "execution_count": 17,
   "metadata": {
    "ExecuteTime": {
     "end_time": "2019-05-10T19:46:25.418822Z",
     "start_time": "2019-05-10T19:19:59.166190Z"
    },
    "scrolled": true
   },
   "outputs": [
    {
     "name": "stdout",
     "output_type": "stream",
     "text": [
      "64 1 0.1\n",
      "current accuracy 0.3649580233431165\n",
      "64 1 0.01\n",
      "current accuracy 0.7144222237389939\n",
      "64 1 0.001\n",
      "current accuracy 0.7950993106272609\n",
      "64 1 0.0001\n",
      "current accuracy 0.8318886082861238\n",
      "64 1 1e-05\n",
      "current accuracy 0.8342775237185175\n",
      "64 0.1 0.1\n",
      "current accuracy 0.6974267968056788\n",
      "64 0.1 0.01\n",
      "current accuracy 0.7975564807862945\n",
      "64 0.1 0.001\n",
      "current accuracy 0.8097740768548222\n",
      "64 0.1 0.0001\n",
      "current accuracy 0.8121629922872159\n",
      "64 0.1 1e-05\n",
      "current accuracy 0.8134598320933725\n",
      "64 0.01 0.1\n",
      "current accuracy 0.7370827929834141\n",
      "64 0.01 0.01\n",
      "current accuracy 0.7166063749914682\n",
      "64 0.01 0.001\n",
      "current accuracy 0.7349668964575797\n",
      "64 0.01 0.0001\n",
      "current accuracy 0.7020681182171865\n",
      "64 0.01 1e-05\n",
      "current accuracy 0.717015903351307\n",
      "128 1 0.1\n",
      "current accuracy 0.525766159306532\n",
      "128 1 0.01\n",
      "current accuracy 0.7082110436147703\n",
      "128 1 0.001\n",
      "current accuracy 0.7973517166063749\n",
      "128 1 0.0001\n",
      "current accuracy 0.824994880895502\n",
      "128 1 1e-05\n",
      "current accuracy 0.8296362023070097\n",
      "128 0.1 0.1\n",
      "current accuracy 0.7415193502150024\n",
      "128 0.1 0.01\n",
      "current accuracy 0.793188178281346\n",
      "128 0.1 0.001\n",
      "current accuracy 0.783700771278411\n",
      "128 0.1 0.0001\n",
      "current accuracy 0.7967374240666166\n",
      "128 0.1 1e-05\n",
      "current accuracy 0.7972834618797352\n",
      "128 0.01 0.1\n",
      "Average loss: 2.091474, Train accuracy: 0.276030, Val accuracy: 0.386731\n",
      "Average loss: 1.885903, Train accuracy: 0.420810, Val accuracy: 0.454713\n",
      "Average loss: 1.808117, Train accuracy: 0.483005, Val accuracy: 0.514982\n",
      "Average loss: 1.753421, Train accuracy: 0.529246, Val accuracy: 0.541874\n",
      "Average loss: 1.711192, Train accuracy: 0.571921, Val accuracy: 0.591632\n",
      "Average loss: 1.676963, Train accuracy: 0.601491, Val accuracy: 0.626578\n",
      "Average loss: 1.646486, Train accuracy: 0.626489, Val accuracy: 0.635042\n",
      "Average loss: 1.619503, Train accuracy: 0.647067, Val accuracy: 0.650058\n",
      "Average loss: 1.594870, Train accuracy: 0.661093, Val accuracy: 0.665415\n",
      "Average loss: 1.574506, Train accuracy: 0.673549, Val accuracy: 0.677496\n",
      "current accuracy 0.6774964166268514\n",
      "128 0.01 0.01\n",
      "Average loss: 2.065123, Train accuracy: 0.278316, Val accuracy: 0.428640\n",
      "Average loss: 1.716041, Train accuracy: 0.495956, Val accuracy: 0.550679\n",
      "Average loss: 1.596223, Train accuracy: 0.567467, Val accuracy: 0.600437\n",
      "Average loss: 1.524179, Train accuracy: 0.608351, Val accuracy: 0.629786\n",
      "Average loss: 1.470895, Train accuracy: 0.636931, Val accuracy: 0.657634\n",
      "Average loss: 1.431159, Train accuracy: 0.658363, Val accuracy: 0.672309\n",
      "Average loss: 1.395113, Train accuracy: 0.674470, Val accuracy: 0.692308\n",
      "Average loss: 1.366875, Train accuracy: 0.688052, Val accuracy: 0.700976\n",
      "Average loss: 1.341872, Train accuracy: 0.698939, Val accuracy: 0.711078\n",
      "Average loss: 1.319303, Train accuracy: 0.707368, Val accuracy: 0.711965\n",
      "current accuracy 0.7119650535799604\n",
      "128 0.01 0.001\n",
      "Average loss: 2.087358, Train accuracy: 0.283145, Val accuracy: 0.387346\n",
      "Average loss: 1.896044, Train accuracy: 0.428693, Val accuracy: 0.478261\n",
      "Average loss: 1.816741, Train accuracy: 0.500341, Val accuracy: 0.540100\n",
      "Average loss: 1.757311, Train accuracy: 0.546668, Val accuracy: 0.578254\n",
      "Average loss: 1.709702, Train accuracy: 0.583575, Val accuracy: 0.608696\n",
      "Average loss: 1.669994, Train accuracy: 0.605518, Val accuracy: 0.619548\n",
      "Average loss: 1.634252, Train accuracy: 0.623452, Val accuracy: 0.639410\n",
      "Average loss: 1.604195, Train accuracy: 0.639559, Val accuracy: 0.659955\n",
      "Average loss: 1.578971, Train accuracy: 0.652715, Val accuracy: 0.658726\n",
      "Average loss: 1.555252, Train accuracy: 0.661400, Val accuracy: 0.672719\n",
      "current accuracy 0.672718585762064\n",
      "128 0.01 0.0001\n",
      "Average loss: 2.002731, Train accuracy: 0.308825, Val accuracy: 0.447273\n",
      "Average loss: 1.671853, Train accuracy: 0.508924, Val accuracy: 0.557300\n",
      "Average loss: 1.550226, Train accuracy: 0.588575, Val accuracy: 0.628490\n",
      "Average loss: 1.478911, Train accuracy: 0.633724, Val accuracy: 0.657498\n",
      "Average loss: 1.424764, Train accuracy: 0.663567, Val accuracy: 0.680636\n",
      "Average loss: 1.384925, Train accuracy: 0.681586, Val accuracy: 0.703570\n",
      "Average loss: 1.350958, Train accuracy: 0.696840, Val accuracy: 0.715310\n",
      "Average loss: 1.323400, Train accuracy: 0.708119, Val accuracy: 0.717767\n",
      "Average loss: 1.298658, Train accuracy: 0.716923, Val accuracy: 0.724046\n",
      "Average loss: 1.278012, Train accuracy: 0.723868, Val accuracy: 0.730189\n",
      "current accuracy 0.7301890655927923\n",
      "128 0.01 1e-05\n",
      "Average loss: 2.151064, Train accuracy: 0.210320, Val accuracy: 0.340932\n",
      "Average loss: 1.871866, Train accuracy: 0.410453, Val accuracy: 0.462016\n",
      "Average loss: 1.769394, Train accuracy: 0.491656, Val accuracy: 0.531977\n",
      "Average loss: 1.705855, Train accuracy: 0.534792, Val accuracy: 0.564944\n",
      "Average loss: 1.658993, Train accuracy: 0.564652, Val accuracy: 0.595386\n",
      "Average loss: 1.619237, Train accuracy: 0.593557, Val accuracy: 0.619139\n",
      "Average loss: 1.585135, Train accuracy: 0.616063, Val accuracy: 0.627261\n",
      "Average loss: 1.554595, Train accuracy: 0.638313, Val accuracy: 0.654495\n",
      "Average loss: 1.526220, Train accuracy: 0.654319, Val accuracy: 0.668146\n",
      "Average loss: 1.504251, Train accuracy: 0.665956, Val accuracy: 0.677428\n",
      "current accuracy 0.6774281619002116\n",
      "best accuracy 0.8342775237185175\n"
     ]
    }
   ],
   "source": [
    "# Experiment here!\n",
    "import pickle\n",
    "import os.path as path\n",
    "\n",
    "\n",
    "def search_param(train_loader, val_loader, lr, l2, epochs):\n",
    "    nn_model = nn.Sequential(\n",
    "        Flattener(),\n",
    "        nn.Linear(3*32*32, 100),\n",
    "        nn.BatchNorm1d(100),\n",
    "        nn.ReLU(inplace=True),\n",
    "        nn.Linear(100, 100),\n",
    "        nn.BatchNorm1d(100),\n",
    "        nn.ReLU(inplace=True),\n",
    "        nn.Linear(100, 10),\n",
    "        nn.BatchNorm1d(10),\n",
    "        #         nn.Softmax(1),\n",
    "    )\n",
    "\n",
    "    loss = nn.CrossEntropyLoss().type(torch.FloatTensor)\n",
    "    optimizer = optim.Adadelta(nn_model.parameters(), lr=lr, weight_decay=l2)\n",
    "    schedulers = optim.lr_scheduler.LambdaLR(\n",
    "        optimizer, lr_lambda=[lambda epoch: 0.9**epoch])\n",
    "    loss_history, train_history, val_history = train_model_s(\n",
    "        nn_model, train_loader, val_loader, loss, optimizer, schedulers, epochs)\n",
    "\n",
    "    return loss_history, train_history, val_history, nn_model\n",
    "\n",
    "\n",
    "batch_sizes = [64, 128]\n",
    "lrs = [1, 1e-1, 1e-2]\n",
    "regs = [1e-1, 1e-2, 1e-3, 1e-4, 1e-5]\n",
    "params = {\n",
    "    'batch size': [],\n",
    "    'lr': [],\n",
    "    'l2': [],\n",
    "    'accuracy': []\n",
    "}\n",
    "model_dir = 'data/models'\n",
    "best_model = None\n",
    "best_acc = 0\n",
    "for bs in batch_sizes:\n",
    "    train_loader = torch.utils.data.DataLoader(data_train, batch_size=bs,\n",
    "                                               sampler=train_sampler)\n",
    "    val_loader = torch.utils.data.DataLoader(data_train, batch_size=bs,\n",
    "                                             sampler=val_sampler)\n",
    "    for lr in lrs:\n",
    "        for l2 in regs:\n",
    "            params['batch size'].append(bs)\n",
    "            params['lr'].append(lr)\n",
    "            params['l2'].append(l2)\n",
    "            print(bs, lr, l2)\n",
    "            try:\n",
    "                with open(path.join(model_dir, str(bs)+'_'+str(lr)+'_'+str(l2)+'.model'), 'rb') as f:\n",
    "                    nn_model = pickle.load(f)\n",
    "                    val_history = [compute_accuracy(nn_model, val_loader)]\n",
    "            except FileNotFoundError:\n",
    "                loss_history, train_history, val_history, nn_model = search_param(\n",
    "                    train_loader, val_loader, lr, l2, 10)\n",
    "                with open(path.join(model_dir, str(bs)+'_'+str(lr)+'_'+str(l2)+'.model'), 'wb') as f:\n",
    "                    pickle.dump(nn_model, f)\n",
    "                with open(path.join(model_dir, str(bs)+'_'+str(lr)+'_'+str(l2)+'.info'), 'wb') as f:\n",
    "                    pickle.dump(loss_history, f)\n",
    "                    pickle.dump(train_history, f)\n",
    "                    pickle.dump(val_history, f)\n",
    "            params['accuracy'].append(val_history[-1])\n",
    "            print(f'current accuracy {val_history[-1]}')\n",
    "            if best_acc < val_history[-1]:\n",
    "                best_acc = val_history[-1]\n",
    "                best_model = nn_model\n",
    "nn_model = best_model\n",
    "print(f'best accuracy {best_acc}')"
   ]
  },
  {
   "cell_type": "code",
   "execution_count": 18,
   "metadata": {
    "ExecuteTime": {
     "end_time": "2019-05-10T19:46:32.284512Z",
     "start_time": "2019-05-10T19:46:26.439512Z"
    }
   },
   "outputs": [
    {
     "name": "stdout",
     "output_type": "stream",
     "text": [
      "Test accuracy: 0.8061\n"
     ]
    }
   ],
   "source": [
    "# Как всегда, в конце проверяем на test set\n",
    "test_loader = torch.utils.data.DataLoader(data_test, batch_size=batch_size)\n",
    "test_accuracy = compute_accuracy(nn_model, test_loader)\n",
    "print(\"Test accuracy: %2.4f\" % test_accuracy)"
   ]
  },
  {
   "cell_type": "code",
   "execution_count": null,
   "metadata": {},
   "outputs": [],
   "source": []
  }
 ],
 "metadata": {
  "kernelspec": {
   "display_name": "Python 3",
   "language": "python",
   "name": "python3"
  },
  "language_info": {
   "codemirror_mode": {
    "name": "ipython",
    "version": 3
   },
   "file_extension": ".py",
   "mimetype": "text/x-python",
   "name": "python",
   "nbconvert_exporter": "python",
   "pygments_lexer": "ipython3",
   "version": "3.7.3"
  },
  "varInspector": {
   "cols": {
    "lenName": 16,
    "lenType": 16,
    "lenVar": 40
   },
   "kernels_config": {
    "python": {
     "delete_cmd_postfix": "",
     "delete_cmd_prefix": "del ",
     "library": "var_list.py",
     "varRefreshCmd": "print(var_dic_list())"
    },
    "r": {
     "delete_cmd_postfix": ") ",
     "delete_cmd_prefix": "rm(",
     "library": "var_list.r",
     "varRefreshCmd": "cat(var_dic_list()) "
    }
   },
   "types_to_exclude": [
    "module",
    "function",
    "builtin_function_or_method",
    "instance",
    "_Feature"
   ],
   "window_display": false
  }
 },
 "nbformat": 4,
 "nbformat_minor": 2
}
