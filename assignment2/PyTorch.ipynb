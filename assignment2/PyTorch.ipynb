{
 "cells": [
  {
   "cell_type": "markdown",
   "metadata": {},
   "source": [
    "# Задание 2.2 - Введение в PyTorch\n",
    "\n",
    "Для этого задания потребуется установить версию PyTorch 1.0\n",
    "\n",
    "https://pytorch.org/get-started/locally/\n",
    "\n",
    "В этом задании мы познакомимся с основными компонентами PyTorch и натренируем несколько небольших моделей.<br>\n",
    "GPU нам пока не понадобится.\n",
    "\n",
    "Основные ссылки:  \n",
    "https://pytorch.org/tutorials/beginner/deep_learning_60min_blitz.html  \n",
    "https://pytorch.org/docs/stable/nn.html  \n",
    "https://pytorch.org/docs/stable/torchvision/index.html  "
   ]
  },
  {
   "cell_type": "code",
   "execution_count": 1,
   "metadata": {
    "ExecuteTime": {
     "end_time": "2019-05-16T18:04:22.954732Z",
     "start_time": "2019-05-16T18:04:20.714888Z"
    },
    "scrolled": true
   },
   "outputs": [],
   "source": [
    "import numpy as np\n",
    "import torch\n",
    "import torch.nn as nn\n",
    "import torch.optim as optim\n",
    "import torchvision.datasets as dset\n",
    "from torch.utils.data.sampler import SubsetRandomSampler, Sampler\n",
    "\n",
    "from torchvision import transforms\n",
    "\n",
    "import matplotlib.pyplot as plt\n",
    "%matplotlib inline"
   ]
  },
  {
   "cell_type": "markdown",
   "metadata": {},
   "source": [
    "## Как всегда, начинаем с загрузки данных\n",
    "\n",
    "PyTorch поддерживает загрузку SVHN из коробки."
   ]
  },
  {
   "cell_type": "code",
   "execution_count": 2,
   "metadata": {
    "ExecuteTime": {
     "end_time": "2019-05-16T18:04:27.648302Z",
     "start_time": "2019-05-16T18:04:24.681628Z"
    },
    "scrolled": true
   },
   "outputs": [],
   "source": [
    "# First, lets load the dataset\n",
    "data_train = dset.SVHN('./data/', split='train',\n",
    "                       transform=transforms.Compose([\n",
    "                           transforms.ToTensor(),\n",
    "                           transforms.Normalize(mean=[0.43, 0.44, 0.47],\n",
    "                                                std=[0.20, 0.20, 0.20])\n",
    "                       ])\n",
    "                       )\n",
    "data_test = dset.SVHN('./data/', split='test',\n",
    "                      transform=transforms.Compose([\n",
    "                          transforms.ToTensor(),\n",
    "                          transforms.Normalize(mean=[0.43, 0.44, 0.47],\n",
    "                                               std=[0.20, 0.20, 0.20])\n",
    "                      ]))"
   ]
  },
  {
   "cell_type": "markdown",
   "metadata": {},
   "source": [
    "Теперь мы разделим данные на training и validation с использованием классов `SubsetRandomSampler` и `DataLoader`.\n",
    "\n",
    "`DataLoader` подгружает данные, предоставляемые классом `Dataset`, во время тренировки и группирует их в батчи.\n",
    "Он дает возможность указать `Sampler`, который выбирает, какие примеры из датасета использовать для тренировки. Мы используем это, чтобы разделить данные на training и validation.\n",
    "\n",
    "Подробнее: https://pytorch.org/tutorials/beginner/data_loading_tutorial.html"
   ]
  },
  {
   "cell_type": "code",
   "execution_count": 3,
   "metadata": {
    "ExecuteTime": {
     "end_time": "2019-05-16T18:04:28.635360Z",
     "start_time": "2019-05-16T18:04:28.621362Z"
    },
    "scrolled": true
   },
   "outputs": [],
   "source": [
    "batch_size = 64\n",
    "\n",
    "data_size = data_train.data.shape[0]\n",
    "validation_split = .2\n",
    "split = int(np.floor(validation_split * data_size))\n",
    "indices = list(range(data_size))\n",
    "np.random.shuffle(indices)\n",
    "\n",
    "train_indices, val_indices = indices[split:], indices[:split]\n",
    "\n",
    "train_sampler = SubsetRandomSampler(train_indices)\n",
    "val_sampler = SubsetRandomSampler(val_indices)\n",
    "\n",
    "train_loader = torch.utils.data.DataLoader(data_train, batch_size=batch_size,\n",
    "                                           sampler=train_sampler)\n",
    "val_loader = torch.utils.data.DataLoader(data_train, batch_size=batch_size,\n",
    "                                         sampler=val_sampler)"
   ]
  },
  {
   "cell_type": "markdown",
   "metadata": {},
   "source": [
    "В нашей задаче мы получаем на вход изображения, но работаем с ними как с одномерными массивами. Чтобы превратить многомерный массив в одномерный, мы воспользуемся очень простым вспомогательным модулем `Flattener`."
   ]
  },
  {
   "cell_type": "code",
   "execution_count": 4,
   "metadata": {
    "ExecuteTime": {
     "end_time": "2019-05-16T18:04:31.475264Z",
     "start_time": "2019-05-16T18:04:31.446270Z"
    },
    "scrolled": true
   },
   "outputs": [
    {
     "name": "stdout",
     "output_type": "stream",
     "text": [
      "SVHN data sample shape:  torch.Size([3, 32, 32])\n"
     ]
    }
   ],
   "source": [
    "sample, label = data_train[0]\n",
    "print(\"SVHN data sample shape: \", sample.shape)\n",
    "# As you can see, the data is shaped like an image\n",
    "\n",
    "# We'll use a special helper module to shape it into a tensor\n",
    "\n",
    "\n",
    "class Flattener(nn.Module):\n",
    "    def forward(self, x):\n",
    "        batch_size, *_ = x.shape\n",
    "        return x.view(batch_size, -1)"
   ]
  },
  {
   "cell_type": "markdown",
   "metadata": {},
   "source": [
    "И наконец, мы создаем основные объекты PyTorch:\n",
    "- `nn_model` - собственно, модель с нейросетью\n",
    "- `loss` - функцию ошибки, в нашем случае `CrossEntropyLoss`\n",
    "- `optimizer` - алгоритм оптимизации, в нашем случае просто `SGD`"
   ]
  },
  {
   "cell_type": "code",
   "execution_count": 5,
   "metadata": {
    "ExecuteTime": {
     "end_time": "2019-05-16T18:04:35.242972Z",
     "start_time": "2019-05-16T18:04:35.229972Z"
    },
    "scrolled": true
   },
   "outputs": [],
   "source": [
    "nn_model = nn.Sequential(\n",
    "    Flattener(),\n",
    "    nn.Linear(3*32*32, 100),\n",
    "    nn.ReLU(inplace=True),\n",
    "    nn.Linear(100, 10),\n",
    ")\n",
    "nn_model.type(torch.FloatTensor)\n",
    "\n",
    "# We will minimize cross-entropy between the ground truth and\n",
    "# network predictions using an SGD optimizer\n",
    "loss = nn.CrossEntropyLoss().type(torch.FloatTensor)\n",
    "optimizer = optim.SGD(nn_model.parameters(), lr=1e-2, weight_decay=1e-1)"
   ]
  },
  {
   "cell_type": "markdown",
   "metadata": {},
   "source": [
    "## Тренируем!\n",
    "\n",
    "Ниже приведена функция `train_model`, реализующая основной цикл тренировки PyTorch.\n",
    "\n",
    "Каждую эпоху эта функция вызывает функцию `compute_accuracy`, которая вычисляет точность на validation, эту последнюю функцию предлагается реализовать вам."
   ]
  },
  {
   "cell_type": "code",
   "execution_count": 6,
   "metadata": {
    "ExecuteTime": {
     "end_time": "2019-05-16T18:05:48.792953Z",
     "start_time": "2019-05-16T18:04:36.750956Z"
    },
    "scrolled": true
   },
   "outputs": [
    {
     "name": "stdout",
     "output_type": "stream",
     "text": [
      "Average loss: 1.820195, Train accuracy: 0.412091, Val accuracy: 0.528223\n",
      "Average loss: 1.454737, Train accuracy: 0.582602, Val accuracy: 0.612245\n",
      "Average loss: 1.379279, Train accuracy: 0.619049, Val accuracy: 0.637431\n"
     ]
    }
   ],
   "source": [
    "# This is how to implement the same main train loop in PyTorch. Pretty easy, right?\n",
    "\n",
    "\n",
    "def train_model(model, train_loader, val_loader, loss, optimizer, num_epochs):\n",
    "    loss_history = []\n",
    "    train_history = []\n",
    "    val_history = []\n",
    "    for epoch in range(num_epochs):\n",
    "        model.train()  # Enter train mode\n",
    "\n",
    "        loss_accum = 0\n",
    "        correct_samples = 0\n",
    "        total_samples = 0\n",
    "        for i_step, (x, y) in enumerate(train_loader):\n",
    "            prediction = model(x)\n",
    "            loss_value = loss(prediction, y)\n",
    "            optimizer.zero_grad()\n",
    "            loss_value.backward()\n",
    "            optimizer.step()\n",
    "\n",
    "            _, indices = torch.max(prediction, 1)\n",
    "            correct_samples += torch.sum(indices == y)\n",
    "            total_samples += y.shape[0]\n",
    "\n",
    "            loss_accum += loss_value\n",
    "\n",
    "        ave_loss = loss_accum / (i_step + 1)\n",
    "        train_accuracy = float(correct_samples) / total_samples\n",
    "        val_accuracy = compute_accuracy(model, val_loader)\n",
    "\n",
    "        loss_history.append(float(ave_loss))\n",
    "        train_history.append(train_accuracy)\n",
    "        val_history.append(val_accuracy)\n",
    "\n",
    "        print(\"Average loss: %f, Train accuracy: %f, Val accuracy: %f\" %\n",
    "              (ave_loss, train_accuracy, val_accuracy))\n",
    "\n",
    "    return loss_history, train_history, val_history\n",
    "\n",
    "\n",
    "def compute_accuracy(model, loader):\n",
    "    \"\"\"\n",
    "    Computes accuracy on the dataset wrapped in a loader\n",
    "\n",
    "    Returns: accuracy as a float value between 0 and 1\n",
    "    \"\"\"\n",
    "    with torch.no_grad():\n",
    "        model.eval()  # Evaluation mode\n",
    "    # TODO: Implement the inference of the model on all of the batches from loader,\n",
    "    #       and compute the overall accuracy.\n",
    "    # Hint: PyTorch has the argmax function!\n",
    "\n",
    "    #raise Exception(\"Not implemented\")\n",
    "    correct = 0\n",
    "    total_samples = 0\n",
    "    with torch.no_grad():\n",
    "        for x, y in loader:\n",
    "            total_samples += y.shape[0]\n",
    "            prediction = torch.argmax(model(x), dim=1)\n",
    "            correct += torch.sum(prediction == y)\n",
    "\n",
    "    return float(correct)/total_samples\n",
    "\n",
    "\n",
    "loss_history, train_history, val_history = train_model(\n",
    "    nn_model, train_loader, val_loader, loss, optimizer, 3)"
   ]
  },
  {
   "cell_type": "markdown",
   "metadata": {},
   "source": [
    "## После основного цикла\n",
    "\n",
    "Посмотрим на другие возможности и оптимизации, которые предоставляет PyTorch.\n",
    "\n",
    "Добавьте еще один скрытый слой размера 100 нейронов к модели"
   ]
  },
  {
   "cell_type": "code",
   "execution_count": 7,
   "metadata": {
    "ExecuteTime": {
     "end_time": "2019-05-16T15:18:23.643757Z",
     "start_time": "2019-05-16T15:16:15.654073Z"
    },
    "scrolled": true
   },
   "outputs": [
    {
     "name": "stdout",
     "output_type": "stream",
     "text": [
      "Average loss: 2.184098, Train accuracy: 0.193939, Val accuracy: 0.224558\n",
      "Average loss: 2.033313, Train accuracy: 0.258694, Val accuracy: 0.311378\n",
      "Average loss: 1.831218, Train accuracy: 0.365202, Val accuracy: 0.402498\n",
      "Average loss: 1.712495, Train accuracy: 0.418421, Val accuracy: 0.430824\n",
      "Average loss: 1.684479, Train accuracy: 0.430417, Val accuracy: 0.435260\n"
     ]
    }
   ],
   "source": [
    "# Since it's so easy to add layers, let's add some!\n",
    "\n",
    "# TODO: Implement a model with 2 hidden layers of the size 100\n",
    "nn_model = nn.Sequential(\n",
    "    Flattener(),\n",
    "    nn.Linear(3*32*32, 100),\n",
    "    nn.ReLU(inplace=True),\n",
    "    nn.Linear(100, 100),\n",
    "    nn.ReLU(inplace=True),\n",
    "    nn.Linear(100, 10),\n",
    ")\n",
    "nn_model.type(torch.FloatTensor)\n",
    "\n",
    "optimizer = optim.SGD(nn_model.parameters(), lr=1e-2, weight_decay=1e-1)\n",
    "loss_history, train_history, val_history = train_model(\n",
    "    nn_model, train_loader, val_loader, loss, optimizer, 5)"
   ]
  },
  {
   "cell_type": "markdown",
   "metadata": {},
   "source": [
    "Добавьте слой с Batch Normalization"
   ]
  },
  {
   "cell_type": "code",
   "execution_count": 8,
   "metadata": {
    "ExecuteTime": {
     "end_time": "2019-05-16T15:20:43.051588Z",
     "start_time": "2019-05-16T15:18:23.646760Z"
    },
    "scrolled": true
   },
   "outputs": [
    {
     "name": "stdout",
     "output_type": "stream",
     "text": [
      "Average loss: 2.170397, Train accuracy: 0.252363, Val accuracy: 0.334039\n",
      "Average loss: 1.994361, Train accuracy: 0.366191, Val accuracy: 0.412054\n",
      "Average loss: 1.892105, Train accuracy: 0.417432, Val accuracy: 0.447205\n",
      "Average loss: 1.817137, Train accuracy: 0.449715, Val accuracy: 0.455054\n",
      "Average loss: 1.762257, Train accuracy: 0.475702, Val accuracy: 0.508293\n"
     ]
    }
   ],
   "source": [
    "# We heard batch normalization is powerful, let's use it!\n",
    "# TODO: Add batch normalization after each of the hidden layers of the network, before or after non-linearity\n",
    "# Hint: check out torch.nn.BatchNorm1d\n",
    "\n",
    "nn_model = nn.Sequential(\n",
    "    Flattener(),\n",
    "    nn.Linear(3*32*32, 100),\n",
    "    nn.BatchNorm1d(100),\n",
    "    nn.ReLU(inplace=True),\n",
    "    nn.Linear(100, 100),\n",
    "    nn.BatchNorm1d(100),\n",
    "    nn.ReLU(inplace=True),\n",
    "    nn.Linear(100, 10),\n",
    ")\n",
    "\n",
    "optimizer = optim.SGD(nn_model.parameters(), lr=1e-3, weight_decay=1e-1)\n",
    "loss_history, train_history, val_history = train_model(\n",
    "    nn_model, train_loader, val_loader, loss, optimizer, 5)"
   ]
  },
  {
   "cell_type": "markdown",
   "metadata": {},
   "source": [
    "Добавьте уменьшение скорости обучения по ходу тренировки."
   ]
  },
  {
   "cell_type": "code",
   "execution_count": 9,
   "metadata": {
    "ExecuteTime": {
     "end_time": "2019-05-16T15:20:43.062588Z",
     "start_time": "2019-05-16T15:20:43.053590Z"
    }
   },
   "outputs": [],
   "source": [
    "def train_model_s(model, train_loader, val_loader, loss, optimizer, schedulers, num_epochs):\n",
    "    loss_history = []\n",
    "    train_history = []\n",
    "    val_history = []\n",
    "    for epoch in range(num_epochs):\n",
    "        model.train()  # Enter train mode\n",
    "\n",
    "        loss_accum = 0\n",
    "        correct_samples = 0\n",
    "        total_samples = 0\n",
    "        for i_step, (x, y) in enumerate(train_loader):\n",
    "            prediction = model(x)\n",
    "            loss_value = loss(prediction, y)\n",
    "            optimizer.zero_grad()\n",
    "            loss_value.backward()\n",
    "            optimizer.step()\n",
    "\n",
    "            _, indices = torch.max(prediction, 1)\n",
    "            correct_samples += torch.sum(indices == y)\n",
    "            total_samples += y.shape[0]\n",
    "\n",
    "            loss_accum += loss_value\n",
    "\n",
    "        ave_loss = loss_accum / (i_step + 1)\n",
    "        train_accuracy = float(correct_samples) / total_samples\n",
    "        val_accuracy = compute_accuracy(model, val_loader)\n",
    "\n",
    "        loss_history.append(float(ave_loss))\n",
    "        train_history.append(train_accuracy)\n",
    "        val_history.append(val_accuracy)\n",
    "\n",
    "        schedulers.step()\n",
    "\n",
    "        print(\"Average loss: %f, Train accuracy: %f, Val accuracy: %f\" %\n",
    "              (ave_loss, train_accuracy, val_accuracy))\n",
    "\n",
    "    return loss_history, train_history, val_history"
   ]
  },
  {
   "cell_type": "code",
   "execution_count": 10,
   "metadata": {
    "ExecuteTime": {
     "end_time": "2019-05-16T15:25:09.407468Z",
     "start_time": "2019-05-16T15:20:43.064588Z"
    },
    "scrolled": true
   },
   "outputs": [
    {
     "name": "stdout",
     "output_type": "stream",
     "text": [
      "Average loss: 2.171578, Train accuracy: 0.266867, Val accuracy: 0.337110\n",
      "Average loss: 2.007036, Train accuracy: 0.359110, Val accuracy: 0.400928\n",
      "Average loss: 1.915304, Train accuracy: 0.403167, Val accuracy: 0.428571\n",
      "Average loss: 1.853188, Train accuracy: 0.433727, Val accuracy: 0.457784\n",
      "Average loss: 1.808775, Train accuracy: 0.455295, Val accuracy: 0.463245\n",
      "Average loss: 1.774202, Train accuracy: 0.471692, Val accuracy: 0.489182\n",
      "Average loss: 1.752590, Train accuracy: 0.482425, Val accuracy: 0.494779\n",
      "Average loss: 1.738198, Train accuracy: 0.487732, Val accuracy: 0.505085\n",
      "Average loss: 1.730772, Train accuracy: 0.492390, Val accuracy: 0.492321\n",
      "Average loss: 1.727256, Train accuracy: 0.490957, Val accuracy: 0.499147\n"
     ]
    }
   ],
   "source": [
    "# Learning rate annealing\n",
    "# Reduce your learning rate 2x every 2 epochs\n",
    "# Hint: look up learning rate schedulers in PyTorch. You might need to extend train_model function a little bit too!\n",
    "\n",
    "nn_model = nn.Sequential(\n",
    "    Flattener(),\n",
    "    nn.Linear(3*32*32, 100),\n",
    "    nn.BatchNorm1d(100, eps=1e-3),\n",
    "    nn.ReLU(inplace=True),\n",
    "    nn.Linear(100, 100),\n",
    "    nn.BatchNorm1d(100, eps=1e-3),\n",
    "    nn.ReLU(inplace=True),\n",
    "    nn.Linear(100, 10),\n",
    ")\n",
    "\n",
    "\n",
    "optimizer = optim.SGD(nn_model.parameters(), lr=1e-3, weight_decay=1e-1)\n",
    "schedulers = optim.lr_scheduler.LambdaLR(\n",
    "    optimizer, lr_lambda=[lambda epoch: 0.99**epoch])\n",
    "loss_history, train_history, val_history = train_model_s(\n",
    "    nn_model, train_loader, val_loader, loss, optimizer, schedulers, 10)"
   ]
  },
  {
   "cell_type": "code",
   "execution_count": 11,
   "metadata": {
    "ExecuteTime": {
     "end_time": "2019-05-16T15:25:09.415473Z",
     "start_time": "2019-05-16T15:25:09.409471Z"
    }
   },
   "outputs": [
    {
     "data": {
      "text/plain": [
       "[0.0009043820750088044]"
      ]
     },
     "execution_count": 11,
     "metadata": {},
     "output_type": "execute_result"
    }
   ],
   "source": [
    "schedulers.get_lr()"
   ]
  },
  {
   "cell_type": "markdown",
   "metadata": {},
   "source": [
    "# Визуализируем ошибки модели\n",
    "\n",
    "Попробуем посмотреть, на каких изображениях наша модель ошибается.\n",
    "Для этого мы получим все предсказания модели на validation set и сравним их с истинными метками (ground truth).\n",
    "\n",
    "Первая часть - реализовать код на PyTorch, который вычисляет все предсказания модели на validation set.  \n",
    "Чтобы это сделать мы приводим код `SubsetSampler`, который просто проходит по всем заданным индексам последовательно и составляет из них батчи. \n",
    "\n",
    "Реализуйте функцию `evaluate_model`, которая прогоняет модель через все сэмплы validation set и запоминает предсказания модели и истинные метки."
   ]
  },
  {
   "cell_type": "code",
   "execution_count": 7,
   "metadata": {
    "ExecuteTime": {
     "end_time": "2019-05-16T18:05:51.838955Z",
     "start_time": "2019-05-16T18:05:48.835954Z"
    }
   },
   "outputs": [],
   "source": [
    "class SubsetSampler(Sampler):\n",
    "    r\"\"\"Samples elements with given indices sequentially\n",
    "\n",
    "    Arguments:\n",
    "        indices (ndarray): indices of the samples to take\n",
    "    \"\"\"\n",
    "\n",
    "    def __init__(self, indices):\n",
    "        self.indices = indices\n",
    "\n",
    "    def __iter__(self):\n",
    "        return (self.indices[i] for i in range(len(self.indices)))\n",
    "\n",
    "    def __len__(self):\n",
    "        return len(self.indices)\n",
    "\n",
    "\n",
    "def evaluate_model(model, dataset, indices):\n",
    "    \"\"\"\n",
    "    Computes predictions and ground truth labels for the indices of the dataset\n",
    "\n",
    "    Returns: \n",
    "    predictions: np array of ints - model predictions\n",
    "    grount_truth: np array of ints - actual labels of the dataset\n",
    "    \"\"\"\n",
    "    model.eval()  # Evaluation mode\n",
    "\n",
    "    # TODO: Evaluate model on the list of indices and capture predictions\n",
    "    # and ground truth labels\n",
    "    # Hint: SubsetSampler above could be useful!\n",
    "\n",
    "#     raise Exception(\"Not implemented\")\n",
    "    sampler = SubsetSampler(indices)\n",
    "    loader = torch.utils.data.DataLoader(dataset, batch_size=batch_size,\n",
    "                                         sampler=sampler)\n",
    "    predictions = []\n",
    "    ground_truth = []\n",
    "    for x, y in loader:\n",
    "        predictions.extend(torch.argmax(model(x), dim=1).tolist())\n",
    "        ground_truth.extend(y.data.tolist())\n",
    "    return predictions, ground_truth\n",
    "\n",
    "\n",
    "# Evaluate model on validation\n",
    "predictions, gt = evaluate_model(nn_model, data_train, val_indices)\n",
    "assert len(predictions) == len(val_indices)\n",
    "assert len(gt) == len(val_indices)\n",
    "assert gt[100] == data_train[val_indices[100]][1]\n",
    "assert np.any(np.not_equal(gt, predictions))"
   ]
  },
  {
   "attachments": {
    "image.png": {
     "image/png": "[encoded data removed]"
    }
   },
   "cell_type": "markdown",
   "metadata": {},
   "source": [
    "## Confusion matrix\n",
    "Первая часть визуализации - вывести confusion matrix (https://en.wikipedia.org/wiki/Confusion_matrix ).\n",
    "\n",
    "Confusion matrix - это матрица, где каждой строке соответствуют классы предсказанный, а столбцу - классы истинных меток (ground truth). Число с координатами `i,j` - это количество сэмплов класса `j`, которые модель считает классом `i`.\n",
    "\n",
    "![image.png](attachment:image.png)\n",
    "\n",
    "Для того, чтобы облегчить вам задачу, ниже реализована функция `visualize_confusion_matrix` которая визуализирует такую матрицу.  \n",
    "Вам осталось реализовать функцию `build_confusion_matrix`, которая ее вычислит.\n",
    "\n",
    "Результатом должна быть матрица 10x10."
   ]
  },
  {
   "cell_type": "code",
   "execution_count": 8,
   "metadata": {
    "ExecuteTime": {
     "end_time": "2019-05-16T18:05:52.632951Z",
     "start_time": "2019-05-16T18:05:51.880954Z"
    }
   },
   "outputs": [
    {
     "data": {
      "image/png": "[encoded data removed]",
      "text/plain": [
       "<Figure size 720x720 with 2 Axes>"
      ]
     },
     "metadata": {
      "needs_background": "light"
     },
     "output_type": "display_data"
    }
   ],
   "source": [
    "def visualize_confusion_matrix(confusion_matrix):\n",
    "    \"\"\"\n",
    "    Visualizes confusion matrix\n",
    "\n",
    "    confusion_matrix: np array of ints, x axis - predicted class, y axis - actual class\n",
    "                      [i][j] should have the count of samples that were predicted to be class i,\n",
    "                      but have j in the ground truth\n",
    "\n",
    "    \"\"\"\n",
    "    # Adapted from\n",
    "    # https://stackoverflow.com/questions/2897826/confusion-matrix-with-number-of-classified-misclassified-instances-on-it-python\n",
    "    assert confusion_matrix.shape[0] == confusion_matrix.shape[1]\n",
    "    size = confusion_matrix.shape[0]\n",
    "    fig = plt.figure(figsize=(10, 10))\n",
    "    plt.title(\"Confusion matrix\")\n",
    "    plt.ylabel(\"predicted\")\n",
    "    plt.xlabel(\"ground truth\")\n",
    "    res = plt.imshow(confusion_matrix, cmap='GnBu', interpolation='nearest')\n",
    "    cb = fig.colorbar(res)\n",
    "    plt.xticks(np.arange(size))\n",
    "    plt.yticks(np.arange(size))\n",
    "    for i, row in enumerate(confusion_matrix):\n",
    "        for j, count in enumerate(row):\n",
    "            plt.text(j, i, count, fontsize=14,\n",
    "                     horizontalalignment='center', verticalalignment='center')\n",
    "\n",
    "\n",
    "def build_confusion_matrix(predictions, ground_truth):\n",
    "    \"\"\"\n",
    "    Builds confusion matrix from predictions and ground truth\n",
    "\n",
    "    predictions: np array of ints, model predictions for all validation samples\n",
    "    ground_truth: np array of ints, ground truth for all validation samples\n",
    "\n",
    "    Returns:\n",
    "    np array of ints, (10,10), counts of samples for predicted/ground_truth classes\n",
    "    \"\"\"\n",
    "\n",
    "    confusion_matrix = np.zeros((10, 10), np.int)\n",
    "\n",
    "    # TODO: Implement filling the prediction matrix\n",
    "    for p, gt in zip(predictions, ground_truth):\n",
    "        confusion_matrix[p, gt] += 1\n",
    "    return confusion_matrix\n",
    "\n",
    "\n",
    "confusion_matrix = build_confusion_matrix(predictions, gt)\n",
    "visualize_confusion_matrix(confusion_matrix)"
   ]
  },
  {
   "cell_type": "markdown",
   "metadata": {},
   "source": [
    "Наконец, посмотрим на изображения, соответствующие некоторым элементам этой матрицы.\n",
    "\n",
    "Как и раньше, вам дана функция `visualize_images`, которой нужно воспрользоваться при реализации функции `visualize_predicted_actual`. Эта функция должна вывести несколько примеров, соответствующих заданному элементу матрицы.\n",
    "\n",
    "Визуализируйте наиболее частые ошибки и попробуйте понять, почему модель их совершает."
   ]
  },
  {
   "cell_type": "code",
   "execution_count": 9,
   "metadata": {
    "ExecuteTime": {
     "end_time": "2019-05-16T18:05:54.813954Z",
     "start_time": "2019-05-16T18:05:52.683979Z"
    }
   },
   "outputs": [
    {
     "data": {
      "image/png": "[encoded data removed]",
      "text/plain": [
       "<Figure size 720x108 with 10 Axes>"
      ]
     },
     "metadata": {
      "needs_background": "light"
     },
     "output_type": "display_data"
    },
    {
     "data": {
      "image/png": "[encoded data removed]",
      "text/plain": [
       "<Figure size 720x108 with 10 Axes>"
      ]
     },
     "metadata": {
      "needs_background": "light"
     },
     "output_type": "display_data"
    }
   ],
   "source": [
    "data_train_images = dset.SVHN('./data/', split='train')\n",
    "\n",
    "\n",
    "def visualize_images(indices, data, title='', max_num=10):\n",
    "    \"\"\"\n",
    "    Visualizes several images from the dataset\n",
    "\n",
    "    indices: array of indices to visualize\n",
    "    data: torch Dataset with the images\n",
    "    title: string, title of the plot\n",
    "    max_num: int, max number of images to display\n",
    "    \"\"\"\n",
    "    to_show = min(len(indices), max_num)\n",
    "    fig = plt.figure(figsize=(10, 1.5))\n",
    "    fig.suptitle(title)\n",
    "    for i, index in enumerate(indices[:to_show]):\n",
    "        plt.subplot(1, to_show, i+1)\n",
    "        plt.axis('off')\n",
    "        sample = data[index][0]\n",
    "        plt.imshow(sample)\n",
    "\n",
    "\n",
    "def visualize_predicted_actual(predicted_class, gt_class, predictions, groud_truth, val_indices, data):\n",
    "    \"\"\"\n",
    "    Visualizes images of a ground truth class which were predicted as the other class \n",
    "\n",
    "    predicted: int 0-9, index of the predicted class\n",
    "    gt_class: int 0-9, index of the ground truth class\n",
    "    predictions: np array of ints, model predictions for all validation samples\n",
    "    ground_truth: np array of ints, ground truth for all validation samples\n",
    "    val_indices: np array of ints, indices of validation samples\n",
    "    \"\"\"\n",
    "\n",
    "    # TODO: Implement visualization using visualize_images above\n",
    "    # predictions and ground_truth are provided for validation set only, defined by val_indices\n",
    "    # Hint: numpy index arrays might be helpful\n",
    "    # https://docs.scipy.org/doc/numpy/user/basics.indexing.html#index-arrays\n",
    "    # Please make the title meaningful!\n",
    "\n",
    "#     raise Exception(\"Not implemented\")\n",
    "    indices = []\n",
    "    for i, dt in enumerate(zip(predictions, groud_truth)):\n",
    "        p, gt = dt\n",
    "        if p == predicted_class and gt == gt_class:\n",
    "            indices.append(val_indices[i])\n",
    "    visualize_images(\n",
    "        indices, data, f'visualization error {gt_class} in predicted {predicted_class}')\n",
    "\n",
    "\n",
    "visualize_predicted_actual(6, 8, predictions, gt,\n",
    "                           np.array(val_indices), data_train_images)\n",
    "visualize_predicted_actual(1, 7, predictions, gt,\n",
    "                           np.array(val_indices), data_train_images)"
   ]
  },
  {
   "cell_type": "markdown",
   "metadata": {},
   "source": [
    "# Переходим к свободным упражнениям!\n",
    "\n",
    "Натренируйте модель как можно лучше - экспериментируйте сами!\n",
    "Что следует обязательно попробовать:\n",
    "- перебор гиперпараметров с помощью валидационной выборки\n",
    "- другие оптимизаторы вместо SGD\n",
    "- изменение количества слоев и их размеров\n",
    "- наличие Batch Normalization\n",
    "\n",
    "Но ограничиваться этим не стоит!\n",
    "\n",
    "Точность на валидацонной выборке должна быть доведена до **60%**\n",
    "\n",
    "За лучший результат в группе вы получите дополнительные баллы :)"
   ]
  },
  {
   "cell_type": "code",
   "execution_count": 10,
   "metadata": {
    "ExecuteTime": {
     "end_time": "2019-05-16T18:07:25.968953Z",
     "start_time": "2019-05-16T18:05:54.850958Z"
    },
    "scrolled": true
   },
   "outputs": [
    {
     "name": "stdout",
     "output_type": "stream",
     "text": [
      "64 1 0.1\n",
      "current accuracy 0.37956453484403796\n",
      "64 1 0.01\n",
      "current accuracy 0.6884854276158624\n",
      "64 1 0.001\n",
      "current accuracy 0.8226742201897481\n",
      "64 1 0.0001\n",
      "current accuracy 0.8514094601051123\n",
      "64 1 1e-05\n",
      "current accuracy 0.8589857347621322\n",
      "64 0.1 0.1\n",
      "current accuracy 0.7445908129137943\n",
      "64 0.1 0.01\n",
      "current accuracy 0.8214456351102314\n",
      "64 0.1 0.001\n",
      "current accuracy 0.8452665347075285\n",
      "64 0.1 0.0001\n",
      "current accuracy 0.8355061087980342\n",
      "64 0.1 1e-05\n",
      "current accuracy 0.8430141287284144\n",
      "64 0.01 0.1\n",
      "current accuracy 0.7479352945191454\n",
      "64 0.01 0.01\n",
      "current accuracy 0.7217937342160945\n",
      "64 0.01 0.001\n",
      "current accuracy 0.7299843014128728\n",
      "64 0.01 0.0001\n",
      "current accuracy 0.7250699610948058\n",
      "64 0.01 1e-05\n",
      "current accuracy 0.7101904306873251\n",
      "128 1 0.1\n",
      "current accuracy 0.5031738447887516\n",
      "128 1 0.01\n",
      "current accuracy 0.7624735512934271\n",
      "128 1 0.001\n",
      "current accuracy 0.806088321616272\n",
      "128 1 0.0001\n",
      "current accuracy 0.8552317247969422\n",
      "128 1 1e-05\n",
      "current accuracy 0.858712715855573\n",
      "128 0.1 0.1\n",
      "current accuracy 0.7529861442904922\n",
      "128 0.1 0.01\n",
      "current accuracy 0.8102518599413009\n",
      "128 0.1 0.001\n",
      "current accuracy 0.8249266261688621\n",
      "128 0.1 0.0001\n",
      "current accuracy 0.8312743157463655\n",
      "128 0.1 1e-05\n",
      "current accuracy 0.8308647873865265\n",
      "128 0.01 0.1\n",
      "current accuracy 0.7085523172479694\n",
      "128 0.01 0.01\n",
      "current accuracy 0.7426796805678794\n",
      "128 0.01 0.001\n",
      "current accuracy 0.7202238755033786\n",
      "128 0.01 0.0001\n",
      "current accuracy 0.6557914135553887\n",
      "128 0.01 1e-05\n",
      "current accuracy 0.652651696129957\n",
      "best accuracy 0.8589857347621322\n"
     ]
    }
   ],
   "source": [
    "# Experiment here!\n",
    "import pickle\n",
    "import os.path as path\n",
    "\n",
    "\n",
    "def search_param(nn_model, train_loader, val_loader, lr, l2, epochs):\n",
    "    loss = nn.CrossEntropyLoss().type(torch.FloatTensor)\n",
    "    optimizer = optim.Adadelta(nn_model.parameters(), lr=lr, weight_decay=l2)\n",
    "    schedulers = optim.lr_scheduler.LambdaLR(\n",
    "        optimizer, lr_lambda=[lambda epoch: 0.9**epoch])\n",
    "    loss_history, train_history, val_history = train_model_s(\n",
    "        nn_model, train_loader, val_loader, loss, optimizer, schedulers, epochs)\n",
    "\n",
    "    return loss_history, train_history, val_history, nn_model\n",
    "\n",
    "\n",
    "batch_sizes = [64, 128]\n",
    "lrs = [1, 1e-1, 1e-2]\n",
    "regs = [1e-1, 1e-2, 1e-3, 1e-4, 1e-5]\n",
    "params = {\n",
    "    'batch size': [],\n",
    "    'lr': [],\n",
    "    'l2': [],\n",
    "    'accuracy': []\n",
    "}\n",
    "model_dir = 'data/models'\n",
    "best_model = None\n",
    "best_acc = 0\n",
    "for bs in batch_sizes:\n",
    "    train_loader = torch.utils.data.DataLoader(data_train, batch_size=bs,\n",
    "                                               sampler=train_sampler)\n",
    "    val_loader = torch.utils.data.DataLoader(data_train, batch_size=bs,\n",
    "                                             sampler=val_sampler)\n",
    "    for lr in lrs:\n",
    "        for l2 in regs:\n",
    "            params['batch size'].append(bs)\n",
    "            params['lr'].append(lr)\n",
    "            params['l2'].append(l2)\n",
    "            print(bs, lr, l2)\n",
    "            model = nn.Sequential(\n",
    "                Flattener(),\n",
    "                nn.Linear(3*32*32, 100),\n",
    "                nn.BatchNorm1d(100),\n",
    "                nn.ReLU(inplace=True),\n",
    "                nn.Linear(100, 100),\n",
    "                nn.BatchNorm1d(100),\n",
    "                nn.ReLU(inplace=True),\n",
    "                nn.Linear(100, 10),\n",
    "                nn.BatchNorm1d(10),\n",
    "                #         nn.Softmax(1),\n",
    "            )\n",
    "            file_name = model_dir + '/' +str(bs)+'_'+str(lr)+'_'+str(l2)\n",
    "            try:\n",
    "                model.load_state_dict(torch.load(file_name+'.pt'))\n",
    "                # model.eval()\n",
    "                val_history = [compute_accuracy(model, val_loader)]\n",
    "            except FileNotFoundError:\n",
    "                loss_history, train_history, val_history, model = search_param(model,\n",
    "                    train_loader, val_loader, lr, l2, 10)\n",
    "                torch.save(model.state_dict(), file_name+'.pt')\n",
    "                with open(file_name+'.info', 'wb') as f:\n",
    "                    pickle.dump(loss_history, f)\n",
    "                    pickle.dump(train_history, f)\n",
    "                    pickle.dump(val_history, f)\n",
    "            params['accuracy'].append(val_history[-1])\n",
    "            print(f'current accuracy {val_history[-1]}')\n",
    "            if best_acc < val_history[-1]:\n",
    "                best_acc = val_history[-1]\n",
    "                best_model = model\n",
    "nn_model = best_model\n",
    "print(f'best accuracy {best_acc}')"
   ]
  },
  {
   "cell_type": "code",
   "execution_count": 11,
   "metadata": {
    "ExecuteTime": {
     "end_time": "2019-05-16T18:07:30.673952Z",
     "start_time": "2019-05-16T18:07:25.999956Z"
    }
   },
   "outputs": [
    {
     "name": "stdout",
     "output_type": "stream",
     "text": [
      "Test accuracy: 0.7968\n"
     ]
    }
   ],
   "source": [
    "# Как всегда, в конце проверяем на test set\n",
    "test_loader = torch.utils.data.DataLoader(data_test, batch_size=batch_size)\n",
    "test_accuracy = compute_accuracy(nn_model, test_loader)\n",
    "print(\"Test accuracy: %2.4f\" % test_accuracy)"
   ]
  },
  {
   "cell_type": "code",
   "execution_count": null,
   "metadata": {},
   "outputs": [],
   "source": []
  }
 ],
 "metadata": {
  "kernelspec": {
   "display_name": "Python 3",
   "language": "python",
   "name": "python3"
  },
  "language_info": {
   "codemirror_mode": {
    "name": "ipython",
    "version": 3
   },
   "file_extension": ".py",
   "mimetype": "text/x-python",
   "name": "python",
   "nbconvert_exporter": "python",
   "pygments_lexer": "ipython3",
   "version": "3.7.3"
  },
  "varInspector": {
   "cols": {
    "lenName": 16,
    "lenType": 16,
    "lenVar": 40
   },
   "kernels_config": {
    "python": {
     "delete_cmd_postfix": "",
     "delete_cmd_prefix": "del ",
     "library": "var_list.py",
     "varRefreshCmd": "print(var_dic_list())"
    },
    "r": {
     "delete_cmd_postfix": ") ",
     "delete_cmd_prefix": "rm(",
     "library": "var_list.r",
     "varRefreshCmd": "cat(var_dic_list()) "
    }
   },
   "types_to_exclude": [
    "module",
    "function",
    "builtin_function_or_method",
    "instance",
    "_Feature"
   ],
   "window_display": false
  }
 },
 "nbformat": 4,
 "nbformat_minor": 2
}
