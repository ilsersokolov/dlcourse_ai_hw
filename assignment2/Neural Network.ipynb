{
 "cells": [
  {
   "cell_type": "markdown",
   "metadata": {},
   "source": [
    "# Задание 2.1 - Нейронные сети\n",
    "\n",
    "В этом задании вы реализуете и натренируете настоящую нейроную сеть своими руками!\n",
    "\n",
    "В некотором смысле это будет расширением прошлого задания - нам нужно просто составить несколько линейных классификаторов вместе!\n",
    "\n",
    "<img src=\"https://i.redd.it/n9fgba8b0qr01.png\" alt=\"Stack_more_layers\" width=\"400px\"/>"
   ]
  },
  {
   "cell_type": "code",
   "execution_count": 1,
   "metadata": {
    "ExecuteTime": {
     "end_time": "2019-05-04T10:41:22.910434Z",
     "start_time": "2019-05-04T10:41:22.250418Z"
    }
   },
   "outputs": [],
   "source": [
    "import numpy as np\n",
    "import matplotlib.pyplot as plt\n",
    "\n",
    "%matplotlib inline\n",
    "\n",
    "%load_ext autoreload\n",
    "%autoreload 2"
   ]
  },
  {
   "cell_type": "code",
   "execution_count": 2,
   "metadata": {
    "ExecuteTime": {
     "end_time": "2019-05-04T10:41:23.395406Z",
     "start_time": "2019-05-04T10:41:22.910434Z"
    }
   },
   "outputs": [],
   "source": [
    "from dataset import load_svhn, random_split_train_val\n",
    "from gradient_check import check_layer_gradient, check_layer_param_gradient, check_model_gradient\n",
    "from layers import FullyConnectedLayer, ReLULayer\n",
    "from model import TwoLayerNet\n",
    "from trainer import Trainer, Dataset\n",
    "from optim import SGD, MomentumSGD\n",
    "from metrics import multiclass_accuracy"
   ]
  },
  {
   "cell_type": "markdown",
   "metadata": {},
   "source": [
    "# Загружаем данные\n",
    "\n",
    "И разделяем их на training и validation."
   ]
  },
  {
   "cell_type": "code",
   "execution_count": 3,
   "metadata": {
    "ExecuteTime": {
     "end_time": "2019-05-04T10:41:29.343468Z",
     "start_time": "2019-05-04T10:41:23.395406Z"
    }
   },
   "outputs": [],
   "source": [
    "def prepare_for_neural_network(train_X, test_X):\n",
    "    train_flat = train_X.reshape(train_X.shape[0], -1).astype(np.float) / 255.0\n",
    "    test_flat = test_X.reshape(test_X.shape[0], -1).astype(np.float) / 255.0\n",
    "    \n",
    "    # Subtract mean\n",
    "    mean_image = np.mean(train_flat, axis = 0)\n",
    "    train_flat -= mean_image\n",
    "    test_flat -= mean_image\n",
    "    \n",
    "    return train_flat, test_flat\n",
    "    \n",
    "train_X, train_y, test_X, test_y = load_svhn(\"data\", max_train=10000, max_test=1000)    \n",
    "train_X, test_X = prepare_for_neural_network(train_X, test_X)\n",
    "# Split train into train and val\n",
    "train_X, train_y, val_X, val_y = random_split_train_val(train_X, train_y, num_val = 1000)"
   ]
  },
  {
   "cell_type": "markdown",
   "metadata": {},
   "source": [
    "# Как всегда, начинаем с кирпичиков\n",
    "\n",
    "Мы будем реализовывать необходимые нам слои по очереди. Каждый слой должен реализовать:\n",
    "- прямой проход (forward pass), который генерирует выход слоя по входу и запоминает необходимые данные\n",
    "- обратный проход (backward pass), который получает градиент по выходу слоя и вычисляет градиент по входу и по параметрам\n",
    "\n",
    "Начнем с ReLU, у которого параметров нет."
   ]
  },
  {
   "cell_type": "code",
   "execution_count": 13,
   "metadata": {
    "ExecuteTime": {
     "end_time": "2019-05-04T10:55:04.420919Z",
     "start_time": "2019-05-04T10:55:04.118755Z"
    },
    "scrolled": false
   },
   "outputs": [
    {
     "name": "stdout",
     "output_type": "stream",
     "text": [
      "Gradient check passed!\n"
     ]
    }
   ],
   "source": [
    "# TODO: Implement ReLULayer layer in layers.py\n",
    "# Note: you'll need to copy implementation of the gradient_check function from the previous assignment\n",
    "\n",
    "X = np.array([[1,-2,3],\n",
    "              [-1, 2, 0.1]\n",
    "              ])\n",
    "\n",
    "assert check_layer_gradient(ReLULayer(), X)"
   ]
  },
  {
   "cell_type": "markdown",
   "metadata": {},
   "source": [
    "А теперь реализуем полносвязный слой (fully connected layer), у которого будет два массива параметров: W (weights) и B (bias).\n",
    "\n",
    "Все параметры наши слои будут использовать для параметров специальный класс `Param`, в котором будут храниться значения параметров и градиенты этих параметров, вычисляемые во время обратного прохода.\n",
    "\n",
    "Это даст возможность аккумулировать (суммировать) градиенты из разных частей функции потерь, например, из cross-entropy loss и regularization loss."
   ]
  },
  {
   "cell_type": "code",
   "execution_count": 14,
   "metadata": {
    "ExecuteTime": {
     "end_time": "2019-05-04T10:55:06.196693Z",
     "start_time": "2019-05-04T10:55:05.936709Z"
    }
   },
   "outputs": [
    {
     "name": "stdout",
     "output_type": "stream",
     "text": [
      "Gradient check passed!\n",
      "Gradient check passed!\n",
      "Gradient check passed!\n"
     ]
    }
   ],
   "source": [
    "# TODO: Implement FullyConnected layer forward and backward methods\n",
    "assert check_layer_gradient(FullyConnectedLayer(3, 4), X)\n",
    "# TODO: Implement storing gradients for W and B\n",
    "assert check_layer_param_gradient(FullyConnectedLayer(3, 4), X, 'W')\n",
    "assert check_layer_param_gradient(FullyConnectedLayer(3, 4), X, 'B')"
   ]
  },
  {
   "cell_type": "markdown",
   "metadata": {},
   "source": [
    "## Создаем нейронную сеть\n",
    "\n",
    "Теперь мы реализуем простейшую нейронную сеть с двумя полносвязным слоями и нелинейностью ReLU. Реализуйте функцию `compute_loss_and_gradients`, она должна запустить прямой и обратный проход через оба слоя для вычисления градиентов.\n",
    "\n",
    "Не забудьте реализовать очистку градиентов в начале функции."
   ]
  },
  {
   "cell_type": "code",
   "execution_count": 17,
   "metadata": {
    "ExecuteTime": {
     "end_time": "2019-05-04T10:55:45.335202Z",
     "start_time": "2019-05-04T10:55:36.096272Z"
    }
   },
   "outputs": [
    {
     "name": "stdout",
     "output_type": "stream",
     "text": [
      "Checking gradient for W0\n",
      "Gradient check passed!\n",
      "Checking gradient for B0\n",
      "Gradient check passed!\n",
      "Checking gradient for W1\n",
      "Gradient check passed!\n",
      "Checking gradient for B1\n",
      "Gradient check passed!\n"
     ]
    },
    {
     "data": {
      "text/plain": [
       "True"
      ]
     },
     "execution_count": 17,
     "metadata": {},
     "output_type": "execute_result"
    }
   ],
   "source": [
    "# TODO: In model.py, implement compute_loss_and_gradients function\n",
    "model = TwoLayerNet(n_input = train_X.shape[1], n_output = 10, hidden_layer_size = 3, reg = 0)\n",
    "loss = model.compute_loss_and_gradients(train_X[:2], train_y[:2])\n",
    "\n",
    "# TODO Now implement backward pass and aggregate all of the params\n",
    "check_model_gradient(model, train_X[:2], train_y[:2])"
   ]
  },
  {
   "cell_type": "markdown",
   "metadata": {},
   "source": [
    "Теперь добавьте к модели регуляризацию - она должна прибавляться к loss и делать свой вклад в градиенты."
   ]
  },
  {
   "cell_type": "code",
   "execution_count": 18,
   "metadata": {
    "ExecuteTime": {
     "end_time": "2019-05-04T10:55:58.388453Z",
     "start_time": "2019-05-04T10:55:48.398154Z"
    }
   },
   "outputs": [
    {
     "name": "stdout",
     "output_type": "stream",
     "text": [
      "Checking gradient for W0\n",
      "Gradient check passed!\n",
      "Checking gradient for B0\n",
      "Gradient check passed!\n",
      "Checking gradient for W1\n",
      "Gradient check passed!\n",
      "Checking gradient for B1\n",
      "Gradient check passed!\n"
     ]
    },
    {
     "data": {
      "text/plain": [
       "True"
      ]
     },
     "execution_count": 18,
     "metadata": {},
     "output_type": "execute_result"
    }
   ],
   "source": [
    "# TODO Now implement l2 regularization in the forward and backward pass\n",
    "model_with_reg = TwoLayerNet(n_input = train_X.shape[1], n_output = 10, hidden_layer_size = 3, reg = 1e1)\n",
    "loss_with_reg = model_with_reg.compute_loss_and_gradients(train_X[:2], train_y[:2])\n",
    "assert loss_with_reg > loss and not np.isclose(loss_with_reg, loss), \\\n",
    "    \"Loss with regularization (%2.4f) should be higher than without it (%2.4f)!\" % (loss, loss_with_reg)\n",
    "\n",
    "check_model_gradient(model_with_reg, train_X[:2], train_y[:2])"
   ]
  },
  {
   "cell_type": "markdown",
   "metadata": {},
   "source": [
    "Также реализуем функцию предсказания (вычисления значения) модели на новых данных.\n",
    "\n",
    "Какое значение точности мы ожидаем увидеть до начала тренировки?"
   ]
  },
  {
   "cell_type": "code",
   "execution_count": 19,
   "metadata": {
    "ExecuteTime": {
     "end_time": "2019-05-04T10:56:01.572913Z",
     "start_time": "2019-05-04T10:56:01.267930Z"
    }
   },
   "outputs": [
    {
     "data": {
      "text/plain": [
       "0.03333333333333333"
      ]
     },
     "execution_count": 19,
     "metadata": {},
     "output_type": "execute_result"
    }
   ],
   "source": [
    "# Finally, implement predict function!\n",
    "\n",
    "# TODO: Implement predict function\n",
    "# What would be the value we expect?\n",
    "multiclass_accuracy(model_with_reg.predict(train_X[:30]), train_y[:30]) "
   ]
  },
  {
   "cell_type": "markdown",
   "metadata": {},
   "source": [
    "# Допишем код для процесса тренировки"
   ]
  },
  {
   "cell_type": "code",
   "execution_count": 26,
   "metadata": {
    "ExecuteTime": {
     "end_time": "2019-05-04T11:11:33.408276Z",
     "start_time": "2019-05-04T11:08:22.915138Z"
    }
   },
   "outputs": [
    {
     "name": "stdout",
     "output_type": "stream",
     "text": [
      "Loss: 2.371232, Train accuracy: 0.148222, val accuracy: 0.140000\n",
      "Loss: 2.190023, Train accuracy: 0.251444, val accuracy: 0.248000\n",
      "Loss: 2.109512, Train accuracy: 0.307889, val accuracy: 0.300000\n",
      "Loss: 1.602587, Train accuracy: 0.306000, val accuracy: 0.298000\n",
      "Loss: 2.118404, Train accuracy: 0.314111, val accuracy: 0.300000\n",
      "Loss: 1.780123, Train accuracy: 0.323889, val accuracy: 0.310000\n",
      "Loss: 1.568589, Train accuracy: 0.339556, val accuracy: 0.312000\n",
      "Loss: 1.827189, Train accuracy: 0.346556, val accuracy: 0.324000\n",
      "Loss: 2.052840, Train accuracy: 0.341444, val accuracy: 0.316000\n",
      "Loss: 1.843110, Train accuracy: 0.348889, val accuracy: 0.319000\n",
      "Loss: 1.983501, Train accuracy: 0.355556, val accuracy: 0.331000\n",
      "Loss: 1.777461, Train accuracy: 0.354889, val accuracy: 0.325000\n",
      "Loss: 2.066839, Train accuracy: 0.359000, val accuracy: 0.336000\n",
      "Loss: 2.163057, Train accuracy: 0.350556, val accuracy: 0.314000\n",
      "Loss: 1.917888, Train accuracy: 0.348000, val accuracy: 0.312000\n",
      "Loss: 2.103744, Train accuracy: 0.363111, val accuracy: 0.326000\n",
      "Loss: 1.852713, Train accuracy: 0.364000, val accuracy: 0.333000\n",
      "Loss: 1.665899, Train accuracy: 0.349111, val accuracy: 0.310000\n",
      "Loss: 1.657733, Train accuracy: 0.363889, val accuracy: 0.323000\n",
      "Loss: 1.436025, Train accuracy: 0.393111, val accuracy: 0.357000\n"
     ]
    }
   ],
   "source": [
    "model = TwoLayerNet(n_input = train_X.shape[1], n_output = 10, hidden_layer_size = 100, reg = 1e-5)\n",
    "dataset = Dataset(train_X, train_y, val_X, val_y)\n",
    "trainer = Trainer(model, dataset, SGD(),learning_rate=1e-1)\n",
    "\n",
    "# TODO Implement missing pieces in Trainer.fit function\n",
    "# You should expect loss to go down and train and val accuracy go up for every epoch\n",
    "loss_history, train_history, val_history = trainer.fit()"
   ]
  },
  {
   "cell_type": "code",
   "execution_count": 27,
   "metadata": {
    "ExecuteTime": {
     "end_time": "2019-05-04T11:11:34.823213Z",
     "start_time": "2019-05-04T11:11:34.393217Z"
    }
   },
   "outputs": [
    {
     "data": {
      "text/plain": [
       "[<matplotlib.lines.Line2D at 0x21e051ddcf8>]"
      ]
     },
     "execution_count": 27,
     "metadata": {},
     "output_type": "execute_result"
    },
    {
     "data": {
      "image/png": "[encoded data removed]",
      "text/plain": [
       "<Figure size 432x288 with 1 Axes>"
      ]
     },
     "metadata": {
      "needs_background": "light"
     },
     "output_type": "display_data"
    }
   ],
   "source": [
    "plt.plot(train_history)\n",
    "plt.plot(val_history)"
   ]
  },
  {
   "cell_type": "markdown",
   "metadata": {},
   "source": [
    "# Улучшаем процесс тренировки\n",
    "\n",
    "Мы реализуем несколько ключевых оптимизаций, необходимых для тренировки современных нейросетей."
   ]
  },
  {
   "cell_type": "markdown",
   "metadata": {},
   "source": [
    "## Уменьшение скорости обучения (learning rate decay)\n",
    "\n",
    "Одна из необходимых оптимизаций во время тренировки нейронных сетей - постепенное уменьшение скорости обучения по мере тренировки.\n",
    "\n",
    "Один из стандартных методов - уменьшение скорости обучения (learning rate) каждые N эпох на коэффициент d (часто называемый decay). Значения N и d, как всегда, являются гиперпараметрами и должны подбираться на основе эффективности на проверочных данных (validation data). \n",
    "\n",
    "В нашем случае N будет равным 1."
   ]
  },
  {
   "cell_type": "code",
   "execution_count": 29,
   "metadata": {
    "ExecuteTime": {
     "end_time": "2019-05-04T11:20:29.808418Z",
     "start_time": "2019-05-04T11:17:13.875749Z"
    }
   },
   "outputs": [
    {
     "name": "stdout",
     "output_type": "stream",
     "text": [
      "Loss: 2.329456, Train accuracy: 0.148222, val accuracy: 0.140000\n",
      "Loss: 2.267185, Train accuracy: 0.154111, val accuracy: 0.139000\n",
      "Loss: 2.137389, Train accuracy: 0.164000, val accuracy: 0.142000\n",
      "Loss: 2.183547, Train accuracy: 0.217444, val accuracy: 0.199000\n",
      "Loss: 2.035910, Train accuracy: 0.235333, val accuracy: 0.205000\n",
      "Loss: 2.135559, Train accuracy: 0.245222, val accuracy: 0.221000\n",
      "Loss: 1.984761, Train accuracy: 0.249222, val accuracy: 0.223000\n",
      "Loss: 2.324807, Train accuracy: 0.247556, val accuracy: 0.230000\n",
      "Loss: 2.179817, Train accuracy: 0.268556, val accuracy: 0.236000\n",
      "Loss: 2.100097, Train accuracy: 0.278778, val accuracy: 0.236000\n",
      "Loss: 1.617454, Train accuracy: 0.286222, val accuracy: 0.243000\n",
      "Loss: 1.940812, Train accuracy: 0.282444, val accuracy: 0.243000\n",
      "Loss: 1.939723, Train accuracy: 0.290111, val accuracy: 0.242000\n",
      "Loss: 2.039355, Train accuracy: 0.285111, val accuracy: 0.245000\n",
      "Loss: 1.876405, Train accuracy: 0.288333, val accuracy: 0.241000\n",
      "Loss: 2.148526, Train accuracy: 0.292556, val accuracy: 0.254000\n",
      "Loss: 1.708712, Train accuracy: 0.294000, val accuracy: 0.254000\n",
      "Loss: 2.110806, Train accuracy: 0.293889, val accuracy: 0.252000\n",
      "Loss: 1.791954, Train accuracy: 0.299889, val accuracy: 0.254000\n",
      "Loss: 2.045201, Train accuracy: 0.303667, val accuracy: 0.253000\n"
     ]
    }
   ],
   "source": [
    "# TODO Implement learning rate decay inside Trainer.fit method\n",
    "# Decay should happen once per epoch\n",
    "\n",
    "model = TwoLayerNet(n_input = train_X.shape[1], n_output = 10, hidden_layer_size = 100, reg = 1e-5)\n",
    "dataset = Dataset(train_X, train_y, val_X, val_y)\n",
    "trainer = Trainer(model, dataset, SGD(), learning_rate_decay=0.99,learning_rate=1e-1)\n",
    "\n",
    "initial_learning_rate = trainer.learning_rate\n",
    "loss_history, train_history, val_history = trainer.fit()\n",
    "\n",
    "assert trainer.learning_rate < initial_learning_rate, \"Learning rate should've been reduced\"\n",
    "assert trainer.learning_rate > 0.5*initial_learning_rate, \"Learning rate shouldn'tve been reduced that much!\""
   ]
  },
  {
   "cell_type": "markdown",
   "metadata": {},
   "source": [
    "# Накопление импульса (Momentum SGD)\n",
    "\n",
    "Другой большой класс оптимизаций - использование более эффективных методов градиентного спуска. Мы реализуем один из них - накопление импульса (Momentum SGD).\n",
    "\n",
    "Этот метод хранит скорость движения, использует градиент для ее изменения на каждом шаге, и изменяет веса пропорционально значению скорости.\n",
    "(Физическая аналогия: Вместо скорости градиенты теперь будут задавать ускорение, но будет присутствовать сила трения.)\n",
    "\n",
    "```\n",
    "velocity = momentum * velocity - learning_rate * gradient \n",
    "w = w + velocity\n",
    "```\n",
    "\n",
    "`momentum` здесь коэффициент затухания, который тоже является гиперпараметром (к счастью, для него часто есть хорошее значение по умолчанию, типичный диапазон -- 0.8-0.99).\n",
    "\n",
    "Несколько полезных ссылок, где метод разбирается более подробно:  \n",
    "http://cs231n.github.io/neural-networks-3/#sgd  \n",
    "https://distill.pub/2017/momentum/"
   ]
  },
  {
   "cell_type": "code",
   "execution_count": 32,
   "metadata": {
    "ExecuteTime": {
     "end_time": "2019-05-04T11:35:12.229189Z",
     "start_time": "2019-05-04T11:31:13.410701Z"
    }
   },
   "outputs": [
    {
     "name": "stdout",
     "output_type": "stream",
     "text": [
      "Loss: 2.216653, Train accuracy: 0.196667, val accuracy: 0.206000\n",
      "Loss: 1.910852, Train accuracy: 0.302000, val accuracy: 0.303000\n",
      "Loss: 2.031970, Train accuracy: 0.357556, val accuracy: 0.368000\n",
      "Loss: 1.223458, Train accuracy: 0.397222, val accuracy: 0.403000\n",
      "Loss: 1.519811, Train accuracy: 0.405778, val accuracy: 0.401000\n",
      "Loss: 1.828500, Train accuracy: 0.421556, val accuracy: 0.420000\n",
      "Loss: 1.801781, Train accuracy: 0.425667, val accuracy: 0.431000\n",
      "Loss: 1.531535, Train accuracy: 0.426333, val accuracy: 0.422000\n",
      "Loss: 1.578265, Train accuracy: 0.437333, val accuracy: 0.430000\n",
      "Loss: 1.753024, Train accuracy: 0.438222, val accuracy: 0.434000\n",
      "Loss: 1.915738, Train accuracy: 0.443556, val accuracy: 0.438000\n",
      "Loss: 1.316627, Train accuracy: 0.436333, val accuracy: 0.426000\n",
      "Loss: 1.241993, Train accuracy: 0.443444, val accuracy: 0.426000\n",
      "Loss: 1.312618, Train accuracy: 0.446556, val accuracy: 0.433000\n",
      "Loss: 1.514479, Train accuracy: 0.450778, val accuracy: 0.427000\n",
      "Loss: 1.639355, Train accuracy: 0.456111, val accuracy: 0.430000\n",
      "Loss: 1.508842, Train accuracy: 0.448889, val accuracy: 0.427000\n",
      "Loss: 2.047624, Train accuracy: 0.459000, val accuracy: 0.440000\n",
      "Loss: 1.642698, Train accuracy: 0.458778, val accuracy: 0.434000\n",
      "Loss: 1.334799, Train accuracy: 0.465444, val accuracy: 0.439000\n"
     ]
    }
   ],
   "source": [
    "# TODO: Implement MomentumSGD.update function in optim.py\n",
    "\n",
    "model = TwoLayerNet(n_input = train_X.shape[1], n_output = 10, hidden_layer_size = 100, reg = 1e-5)\n",
    "dataset = Dataset(train_X, train_y, val_X, val_y)\n",
    "trainer = Trainer(model, dataset, MomentumSGD(), learning_rate=1e-2, learning_rate_decay=0.99)\n",
    "\n",
    "# You should see even better results than before!\n",
    "loss_history, train_history, val_history = trainer.fit()"
   ]
  },
  {
   "cell_type": "markdown",
   "metadata": {},
   "source": [
    "# Ну что, давайте уже тренировать сеть!"
   ]
  },
  {
   "cell_type": "markdown",
   "metadata": {},
   "source": [
    "## Последний тест - переобучимся (overfit) на маленьком наборе данных\n",
    "\n",
    "Хороший способ проверить, все ли реализовано корректно - переобучить сеть на маленьком наборе данных.  \n",
    "Наша модель обладает достаточной мощностью, чтобы приблизить маленький набор данных идеально, поэтому мы ожидаем, что на нем мы быстро дойдем до 100% точности на тренировочном наборе. \n",
    "\n",
    "Если этого не происходит, то где-то была допущена ошибка!"
   ]
  },
  {
   "cell_type": "code",
   "execution_count": null,
   "metadata": {
    "ExecuteTime": {
     "start_time": "2019-05-05T18:48:50.573Z"
    },
    "scrolled": true
   },
   "outputs": [
    {
     "name": "stdout",
     "output_type": "stream",
     "text": [
      "Loss: 2.302672, Train accuracy: 0.100000, val accuracy: 0.000000\n",
      "Loss: 2.302951, Train accuracy: 0.100000, val accuracy: 0.000000\n",
      "Loss: 2.302331, Train accuracy: 0.100000, val accuracy: 0.000000\n",
      "Loss: 2.302521, Train accuracy: 0.100000, val accuracy: 0.000000\n",
      "Loss: 2.302167, Train accuracy: 0.100000, val accuracy: 0.000000\n",
      "Loss: 2.302334, Train accuracy: 0.200000, val accuracy: 0.000000\n",
      "Loss: 2.301971, Train accuracy: 0.200000, val accuracy: 0.100000\n",
      "Loss: 2.301632, Train accuracy: 0.300000, val accuracy: 0.100000\n",
      "Loss: 2.302285, Train accuracy: 0.300000, val accuracy: 0.100000\n",
      "Loss: 2.301438, Train accuracy: 0.300000, val accuracy: 0.100000\n",
      "Loss: 2.301334, Train accuracy: 0.300000, val accuracy: 0.100000\n",
      "Loss: 2.301695, Train accuracy: 0.300000, val accuracy: 0.100000\n",
      "Loss: 2.301293, Train accuracy: 0.300000, val accuracy: 0.100000\n",
      "Loss: 2.301534, Train accuracy: 0.300000, val accuracy: 0.100000\n",
      "Loss: 2.300951, Train accuracy: 0.300000, val accuracy: 0.100000\n",
      "Loss: 2.300961, Train accuracy: 0.300000, val accuracy: 0.100000\n",
      "Loss: 2.300705, Train accuracy: 0.300000, val accuracy: 0.100000\n",
      "Loss: 2.301426, Train accuracy: 0.300000, val accuracy: 0.100000\n",
      "Loss: 2.299662, Train accuracy: 0.300000, val accuracy: 0.100000\n",
      "Loss: 2.299976, Train accuracy: 0.300000, val accuracy: 0.100000\n",
      "Loss: 2.299656, Train accuracy: 0.300000, val accuracy: 0.100000\n",
      "Loss: 2.300598, Train accuracy: 0.300000, val accuracy: 0.100000\n",
      "Loss: 2.300204, Train accuracy: 0.300000, val accuracy: 0.100000\n",
      "Loss: 2.300039, Train accuracy: 0.300000, val accuracy: 0.100000\n",
      "Loss: 2.301007, Train accuracy: 0.300000, val accuracy: 0.100000\n",
      "Loss: 2.299665, Train accuracy: 0.300000, val accuracy: 0.100000\n",
      "Loss: 2.299353, Train accuracy: 0.300000, val accuracy: 0.100000\n",
      "Loss: 2.299698, Train accuracy: 0.300000, val accuracy: 0.100000\n",
      "Loss: 2.299671, Train accuracy: 0.300000, val accuracy: 0.100000\n",
      "Loss: 2.299335, Train accuracy: 0.300000, val accuracy: 0.100000\n",
      "Loss: 2.300542, Train accuracy: 0.300000, val accuracy: 0.100000\n",
      "Loss: 2.298017, Train accuracy: 0.300000, val accuracy: 0.100000\n",
      "Loss: 2.300334, Train accuracy: 0.300000, val accuracy: 0.100000\n",
      "Loss: 2.298969, Train accuracy: 0.300000, val accuracy: 0.100000\n",
      "Loss: 2.298480, Train accuracy: 0.300000, val accuracy: 0.100000\n",
      "Loss: 2.299777, Train accuracy: 0.300000, val accuracy: 0.100000\n",
      "Loss: 2.298174, Train accuracy: 0.300000, val accuracy: 0.100000\n",
      "Loss: 2.299459, Train accuracy: 0.300000, val accuracy: 0.100000\n",
      "Loss: 2.298311, Train accuracy: 0.300000, val accuracy: 0.100000\n",
      "Loss: 2.298081, Train accuracy: 0.300000, val accuracy: 0.100000\n",
      "Loss: 2.298035, Train accuracy: 0.300000, val accuracy: 0.100000\n",
      "Loss: 2.298062, Train accuracy: 0.300000, val accuracy: 0.000000\n",
      "Loss: 2.299402, Train accuracy: 0.300000, val accuracy: 0.000000\n",
      "Loss: 2.295971, Train accuracy: 0.300000, val accuracy: 0.000000\n",
      "Loss: 2.297435, Train accuracy: 0.300000, val accuracy: 0.000000\n",
      "Loss: 2.297392, Train accuracy: 0.300000, val accuracy: 0.000000\n",
      "Loss: 2.296887, Train accuracy: 0.300000, val accuracy: 0.000000\n",
      "Loss: 2.297049, Train accuracy: 0.300000, val accuracy: 0.000000\n",
      "Loss: 2.299082, Train accuracy: 0.300000, val accuracy: 0.000000\n",
      "Loss: 2.300485, Train accuracy: 0.300000, val accuracy: 0.000000\n",
      "Loss: 2.292988, Train accuracy: 0.300000, val accuracy: 0.000000\n",
      "Loss: 2.298494, Train accuracy: 0.300000, val accuracy: 0.000000\n",
      "Loss: 2.296415, Train accuracy: 0.300000, val accuracy: 0.000000\n",
      "Loss: 2.296347, Train accuracy: 0.300000, val accuracy: 0.000000\n",
      "Loss: 2.295964, Train accuracy: 0.300000, val accuracy: 0.000000\n",
      "Loss: 2.293738, Train accuracy: 0.300000, val accuracy: 0.000000\n",
      "Loss: 2.296001, Train accuracy: 0.300000, val accuracy: 0.000000\n",
      "Loss: 2.293898, Train accuracy: 0.300000, val accuracy: 0.000000\n",
      "Loss: 2.295925, Train accuracy: 0.300000, val accuracy: 0.000000\n",
      "Loss: 2.291084, Train accuracy: 0.300000, val accuracy: 0.000000\n",
      "Loss: 2.295496, Train accuracy: 0.300000, val accuracy: 0.100000\n",
      "Loss: 2.295424, Train accuracy: 0.300000, val accuracy: 0.100000\n",
      "Loss: 2.295150, Train accuracy: 0.300000, val accuracy: 0.100000\n",
      "Loss: 2.292921, Train accuracy: 0.300000, val accuracy: 0.100000\n",
      "Loss: 2.294984, Train accuracy: 0.300000, val accuracy: 0.100000\n",
      "Loss: 2.294911, Train accuracy: 0.300000, val accuracy: 0.100000\n",
      "Loss: 2.297180, Train accuracy: 0.300000, val accuracy: 0.100000\n",
      "Loss: 2.294471, Train accuracy: 0.300000, val accuracy: 0.100000\n",
      "Loss: 2.297329, Train accuracy: 0.300000, val accuracy: 0.100000\n",
      "Loss: 2.294271, Train accuracy: 0.300000, val accuracy: 0.100000\n",
      "Loss: 2.294269, Train accuracy: 0.300000, val accuracy: 0.100000\n",
      "Loss: 2.294092, Train accuracy: 0.300000, val accuracy: 0.100000\n",
      "Loss: 2.296820, Train accuracy: 0.300000, val accuracy: 0.100000\n",
      "Loss: 2.296771, Train accuracy: 0.300000, val accuracy: 0.100000\n",
      "Loss: 2.296743, Train accuracy: 0.300000, val accuracy: 0.100000\n",
      "Loss: 2.296789, Train accuracy: 0.300000, val accuracy: 0.100000\n",
      "Loss: 2.293781, Train accuracy: 0.300000, val accuracy: 0.100000\n",
      "Loss: 2.293827, Train accuracy: 0.300000, val accuracy: 0.100000\n",
      "Loss: 2.290168, Train accuracy: 0.300000, val accuracy: 0.100000\n",
      "Loss: 2.296287, Train accuracy: 0.300000, val accuracy: 0.100000\n",
      "Loss: 2.289745, Train accuracy: 0.300000, val accuracy: 0.100000\n",
      "Loss: 2.292841, Train accuracy: 0.300000, val accuracy: 0.100000\n",
      "Loss: 2.293124, Train accuracy: 0.300000, val accuracy: 0.100000\n",
      "Loss: 2.292672, Train accuracy: 0.300000, val accuracy: 0.100000\n"
     ]
    }
   ],
   "source": [
    "data_size = 10\n",
    "model = TwoLayerNet(n_input = train_X.shape[1], n_output = 10, hidden_layer_size = 150, reg = 1e-5)\n",
    "dataset = Dataset(train_X[:data_size], train_y[:data_size], val_X[:data_size], val_y[:data_size])\n",
    "trainer = Trainer(model, dataset, SGD(), learning_rate=1e-3, num_epochs=300, batch_size=5)\n",
    "\n",
    "# You should expect this to reach 1.0 training accuracy \n",
    "loss_history, train_history, val_history = trainer.fit()"
   ]
  },
  {
   "cell_type": "markdown",
   "metadata": {},
   "source": [
    "Теперь найдем гипепараметры, для которых этот процесс сходится быстрее.\n",
    "Если все реализовано корректно, то существуют параметры, при которых процесс сходится в **20** эпох или еще быстрее.\n",
    "Найдите их!"
   ]
  },
  {
   "cell_type": "code",
   "execution_count": 50,
   "metadata": {
    "ExecuteTime": {
     "end_time": "2019-05-04T11:44:16.788982Z",
     "start_time": "2019-05-04T11:44:15.013934Z"
    },
    "scrolled": false
   },
   "outputs": [
    {
     "name": "stdout",
     "output_type": "stream",
     "text": [
      "Loss: 2.329430, Train accuracy: 0.200000, val accuracy: 0.133333\n",
      "Loss: 2.330671, Train accuracy: 0.200000, val accuracy: 0.133333\n",
      "Loss: 2.293484, Train accuracy: 0.200000, val accuracy: 0.133333\n",
      "Loss: 2.313949, Train accuracy: 0.333333, val accuracy: 0.066667\n",
      "Loss: 2.281462, Train accuracy: 0.266667, val accuracy: 0.000000\n",
      "Loss: 2.271883, Train accuracy: 0.200000, val accuracy: 0.133333\n",
      "Loss: 2.321659, Train accuracy: 0.200000, val accuracy: 0.133333\n",
      "Loss: 2.278206, Train accuracy: 0.200000, val accuracy: 0.133333\n",
      "Loss: 2.267878, Train accuracy: 0.266667, val accuracy: 0.000000\n",
      "Loss: 2.379453, Train accuracy: 0.266667, val accuracy: 0.000000\n",
      "Loss: 2.250510, Train accuracy: 0.266667, val accuracy: 0.000000\n",
      "Loss: 2.150565, Train accuracy: 0.266667, val accuracy: 0.000000\n",
      "Loss: 2.478929, Train accuracy: 0.266667, val accuracy: 0.000000\n",
      "Loss: 1.946470, Train accuracy: 0.266667, val accuracy: 0.000000\n",
      "Loss: 2.503055, Train accuracy: 0.266667, val accuracy: 0.000000\n",
      "Loss: 2.306408, Train accuracy: 0.266667, val accuracy: 0.000000\n",
      "Loss: 1.645164, Train accuracy: 0.266667, val accuracy: 0.000000\n",
      "Loss: 2.433683, Train accuracy: 0.266667, val accuracy: 0.000000\n",
      "Loss: 2.023977, Train accuracy: 0.266667, val accuracy: 0.000000\n",
      "Loss: 1.933362, Train accuracy: 0.266667, val accuracy: 0.000000\n"
     ]
    }
   ],
   "source": [
    "# Now, tweak some hyper parameters and make it train to 1.0 accuracy in 20 epochs or less\n",
    "\n",
    "model = TwoLayerNet(n_input = train_X.shape[1], n_output = 10, hidden_layer_size = 100, reg = 1e-1)\n",
    "dataset = Dataset(train_X[:data_size], train_y[:data_size], val_X[:data_size], val_y[:data_size])\n",
    "# TODO: Change any hyperparamers or optimizators to reach training accuracy in 20 epochs\n",
    "trainer = Trainer(model, dataset, SGD(), learning_rate=1e-1, num_epochs=20, batch_size=5)\n",
    "\n",
    "loss_history, train_history, val_history = trainer.fit()"
   ]
  },
  {
   "cell_type": "markdown",
   "metadata": {},
   "source": [
    "# Итак, основное мероприятие!\n",
    "\n",
    "Натренируйте лучшую нейросеть! Можно добавлять и изменять параметры, менять количество нейронов в слоях сети и как угодно экспериментировать. \n",
    "\n",
    "Добейтесь точности лучше **40%** на validation set."
   ]
  },
  {
   "cell_type": "code",
   "execution_count": null,
   "metadata": {
    "scrolled": true
   },
   "outputs": [],
   "source": [
    "# Let's train the best one-hidden-layer network we can\n",
    "\n",
    "learning_rates = 1e-4\n",
    "reg_strength = 1e-3\n",
    "learning_rate_decay = 0.999\n",
    "hidden_layer_size = 128\n",
    "num_epochs = 200\n",
    "batch_size = 64\n",
    "\n",
    "best_classifier = None\n",
    "best_val_accuracy = None\n",
    "\n",
    "loss_history = []\n",
    "train_history = []\n",
    "val_history = []\n",
    "\n",
    "# TODO find the best hyperparameters to train the network\n",
    "# Don't hesitate to add new values to the arrays above, perform experiments, use any tricks you want\n",
    "# You should expect to get to at least 40% of valudation accuracy\n",
    "# Save loss/train/history of the best classifier to the variables above\n",
    "\n",
    "print('best validation accuracy achieved: %f' % best_val_accuracy)"
   ]
  },
  {
   "cell_type": "code",
   "execution_count": null,
   "metadata": {},
   "outputs": [],
   "source": [
    "plt.figure(figsize=(15, 7))\n",
    "plt.subplot(211)\n",
    "plt.title(\"Loss\")\n",
    "plt.plot(loss_history)\n",
    "plt.subplot(212)\n",
    "plt.title(\"Train/validation accuracy\")\n",
    "plt.plot(train_history)\n",
    "plt.plot(val_history)"
   ]
  },
  {
   "cell_type": "markdown",
   "metadata": {},
   "source": [
    "# Как обычно, посмотрим, как наша лучшая модель работает на тестовых данных"
   ]
  },
  {
   "cell_type": "code",
   "execution_count": null,
   "metadata": {},
   "outputs": [],
   "source": [
    "test_pred = best_classifier.predict(test_X)\n",
    "test_accuracy = multiclass_accuracy(test_pred, test_y)\n",
    "print('Neural net test set accuracy: %f' % (test_accuracy, ))"
   ]
  }
 ],
 "metadata": {
  "kernelspec": {
   "display_name": "Python 3",
   "language": "python",
   "name": "python3"
  },
  "language_info": {
   "codemirror_mode": {
    "name": "ipython",
    "version": 3
   },
   "file_extension": ".py",
   "mimetype": "text/x-python",
   "name": "python",
   "nbconvert_exporter": "python",
   "pygments_lexer": "ipython3",
   "version": "3.7.3"
  },
  "varInspector": {
   "cols": {
    "lenName": 16,
    "lenType": 16,
    "lenVar": 40
   },
   "kernels_config": {
    "python": {
     "delete_cmd_postfix": "",
     "delete_cmd_prefix": "del ",
     "library": "var_list.py",
     "varRefreshCmd": "print(var_dic_list())"
    },
    "r": {
     "delete_cmd_postfix": ") ",
     "delete_cmd_prefix": "rm(",
     "library": "var_list.r",
     "varRefreshCmd": "cat(var_dic_list()) "
    }
   },
   "types_to_exclude": [
    "module",
    "function",
    "builtin_function_or_method",
    "instance",
    "_Feature"
   ],
   "window_display": false
  }
 },
 "nbformat": 4,
 "nbformat_minor": 2
}
