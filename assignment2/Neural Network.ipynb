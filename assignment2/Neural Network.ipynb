{
 "cells": [
  {
   "cell_type": "markdown",
   "metadata": {},
   "source": [
    "# Задание 2.1 - Нейронные сети\n",
    "\n",
    "В этом задании вы реализуете и натренируете настоящую нейроную сеть своими руками!\n",
    "\n",
    "В некотором смысле это будет расширением прошлого задания - нам нужно просто составить несколько линейных классификаторов вместе!\n",
    "\n",
    "<img src=\"https://i.redd.it/n9fgba8b0qr01.png\" alt=\"Stack_more_layers\" width=\"400px\"/>"
   ]
  },
  {
   "cell_type": "code",
   "execution_count": 1,
   "metadata": {
    "ExecuteTime": {
     "end_time": "2019-05-08T12:45:37.287955Z",
     "start_time": "2019-05-08T12:45:37.087816Z"
    }
   },
   "outputs": [],
   "source": [
    "import numpy as np\n",
    "import matplotlib.pyplot as plt\n",
    "\n",
    "%matplotlib inline\n",
    "\n",
    "%load_ext autoreload\n",
    "%autoreload 2"
   ]
  },
  {
   "cell_type": "code",
   "execution_count": 2,
   "metadata": {
    "ExecuteTime": {
     "end_time": "2019-05-08T12:45:37.406776Z",
     "start_time": "2019-05-08T12:45:37.288821Z"
    }
   },
   "outputs": [],
   "source": [
    "from dataset import load_svhn, random_split_train_val\n",
    "from gradient_check import check_layer_gradient, check_layer_param_gradient, check_model_gradient\n",
    "from layers import FullyConnectedLayer, ReLULayer\n",
    "from model import TwoLayerNet\n",
    "from trainer import Trainer, Dataset\n",
    "from optim import SGD, MomentumSGD\n",
    "from metrics import multiclass_accuracy"
   ]
  },
  {
   "cell_type": "code",
   "execution_count": 3,
   "metadata": {
    "ExecuteTime": {
     "end_time": "2019-05-08T12:45:37.440775Z",
     "start_time": "2019-05-08T12:45:37.407777Z"
    }
   },
   "outputs": [],
   "source": [
    "np.random.seed(42)"
   ]
  },
  {
   "cell_type": "markdown",
   "metadata": {},
   "source": [
    "# Загружаем данные\n",
    "\n",
    "И разделяем их на training и validation."
   ]
  },
  {
   "cell_type": "code",
   "execution_count": 4,
   "metadata": {
    "ExecuteTime": {
     "end_time": "2019-05-08T12:45:40.009533Z",
     "start_time": "2019-05-08T12:45:37.443810Z"
    }
   },
   "outputs": [],
   "source": [
    "def prepare_for_neural_network(train_X, test_X):\n",
    "    train_flat = train_X.reshape(train_X.shape[0], -1).astype(np.float) / 255.0\n",
    "    test_flat = test_X.reshape(test_X.shape[0], -1).astype(np.float) / 255.0\n",
    "    \n",
    "    # Subtract mean\n",
    "    mean_image = np.mean(train_flat, axis = 0)\n",
    "    train_flat -= mean_image\n",
    "    test_flat -= mean_image\n",
    "    \n",
    "    return train_flat, test_flat\n",
    "    \n",
    "train_X, train_y, test_X, test_y = load_svhn(\"data\", max_train=10000, max_test=1000)    \n",
    "train_X, test_X = prepare_for_neural_network(train_X, test_X)\n",
    "# Split train into train and val\n",
    "train_X, train_y, val_X, val_y = random_split_train_val(train_X, train_y, num_val = 1000)"
   ]
  },
  {
   "cell_type": "markdown",
   "metadata": {},
   "source": [
    "# Как всегда, начинаем с кирпичиков\n",
    "\n",
    "Мы будем реализовывать необходимые нам слои по очереди. Каждый слой должен реализовать:\n",
    "- прямой проход (forward pass), который генерирует выход слоя по входу и запоминает необходимые данные\n",
    "- обратный проход (backward pass), который получает градиент по выходу слоя и вычисляет градиент по входу и по параметрам\n",
    "\n",
    "Начнем с ReLU, у которого параметров нет."
   ]
  },
  {
   "cell_type": "code",
   "execution_count": 5,
   "metadata": {
    "ExecuteTime": {
     "end_time": "2019-05-08T12:45:40.048562Z",
     "start_time": "2019-05-08T12:45:40.010533Z"
    },
    "scrolled": false
   },
   "outputs": [
    {
     "name": "stdout",
     "output_type": "stream",
     "text": [
      "Gradient check passed!\n"
     ]
    }
   ],
   "source": [
    "# TODO: Implement ReLULayer layer in layers.py\n",
    "# Note: you'll need to copy implementation of the gradient_check function from the previous assignment\n",
    "\n",
    "X = np.array([[1,-2,3],\n",
    "              [-1, 2, 0.1]\n",
    "              ])\n",
    "\n",
    "assert check_layer_gradient(ReLULayer(), X)"
   ]
  },
  {
   "cell_type": "markdown",
   "metadata": {},
   "source": [
    "А теперь реализуем полносвязный слой (fully connected layer), у которого будет два массива параметров: W (weights) и B (bias).\n",
    "\n",
    "Все параметры наши слои будут использовать для параметров специальный класс `Param`, в котором будут храниться значения параметров и градиенты этих параметров, вычисляемые во время обратного прохода.\n",
    "\n",
    "Это даст возможность аккумулировать (суммировать) градиенты из разных частей функции потерь, например, из cross-entropy loss и regularization loss."
   ]
  },
  {
   "cell_type": "code",
   "execution_count": 6,
   "metadata": {
    "ExecuteTime": {
     "end_time": "2019-05-08T12:45:40.754702Z",
     "start_time": "2019-05-08T12:45:40.049534Z"
    }
   },
   "outputs": [
    {
     "name": "stdout",
     "output_type": "stream",
     "text": [
      "Gradient check passed!\n",
      "Gradient check passed!\n",
      "Gradient check passed!\n"
     ]
    }
   ],
   "source": [
    "# TODO: Implement FullyConnected layer forward and backward methods\n",
    "assert check_layer_gradient(FullyConnectedLayer(3, 4), X)\n",
    "# TODO: Implement storing gradients for W and B\n",
    "assert check_layer_param_gradient(FullyConnectedLayer(3, 4), X, 'W')\n",
    "assert check_layer_param_gradient(FullyConnectedLayer(3, 4), X, 'B')"
   ]
  },
  {
   "cell_type": "markdown",
   "metadata": {},
   "source": [
    "## Создаем нейронную сеть\n",
    "\n",
    "Теперь мы реализуем простейшую нейронную сеть с двумя полносвязным слоями и нелинейностью ReLU. Реализуйте функцию `compute_loss_and_gradients`, она должна запустить прямой и обратный проход через оба слоя для вычисления градиентов.\n",
    "\n",
    "Не забудьте реализовать очистку градиентов в начале функции."
   ]
  },
  {
   "cell_type": "code",
   "execution_count": 7,
   "metadata": {
    "ExecuteTime": {
     "end_time": "2019-05-08T12:45:44.958688Z",
     "start_time": "2019-05-08T12:45:40.762705Z"
    }
   },
   "outputs": [
    {
     "name": "stdout",
     "output_type": "stream",
     "text": [
      "Checking gradient for W0\n",
      "Gradient check passed!\n",
      "Checking gradient for B0\n",
      "Gradient check passed!\n",
      "Checking gradient for W1\n",
      "Gradient check passed!\n",
      "Checking gradient for B1\n",
      "Gradient check passed!\n"
     ]
    },
    {
     "data": {
      "text/plain": [
       "True"
      ]
     },
     "execution_count": 7,
     "metadata": {},
     "output_type": "execute_result"
    }
   ],
   "source": [
    "# TODO: In model.py, implement compute_loss_and_gradients function\n",
    "model = TwoLayerNet(n_input = train_X.shape[1], n_output = 10, hidden_layer_size = 3, reg = 0)\n",
    "loss = model.compute_loss_and_gradients(train_X[:2], train_y[:2])\n",
    "\n",
    "# TODO Now implement backward pass and aggregate all of the params\n",
    "check_model_gradient(model, train_X[:2], train_y[:2])"
   ]
  },
  {
   "cell_type": "markdown",
   "metadata": {},
   "source": [
    "Теперь добавьте к модели регуляризацию - она должна прибавляться к loss и делать свой вклад в градиенты."
   ]
  },
  {
   "cell_type": "code",
   "execution_count": 8,
   "metadata": {
    "ExecuteTime": {
     "end_time": "2019-05-08T12:45:49.005678Z",
     "start_time": "2019-05-08T12:45:44.962687Z"
    }
   },
   "outputs": [
    {
     "name": "stdout",
     "output_type": "stream",
     "text": [
      "Checking gradient for W0\n",
      "Gradient check passed!\n",
      "Checking gradient for B0\n",
      "Gradient check passed!\n",
      "Checking gradient for W1\n",
      "Gradient check passed!\n",
      "Checking gradient for B1\n",
      "Gradient check passed!\n"
     ]
    },
    {
     "data": {
      "text/plain": [
       "True"
      ]
     },
     "execution_count": 8,
     "metadata": {},
     "output_type": "execute_result"
    }
   ],
   "source": [
    "# TODO Now implement l2 regularization in the forward and backward pass\n",
    "model_with_reg = TwoLayerNet(n_input = train_X.shape[1], n_output = 10, hidden_layer_size = 3, reg = 1e1)\n",
    "loss_with_reg = model_with_reg.compute_loss_and_gradients(train_X[:2], train_y[:2])\n",
    "assert loss_with_reg > loss and not np.isclose(loss_with_reg, loss), \\\n",
    "    \"Loss with regularization (%2.4f) should be higher than without it (%2.4f)!\" % (loss, loss_with_reg)\n",
    "\n",
    "check_model_gradient(model_with_reg, train_X[:2], train_y[:2])"
   ]
  },
  {
   "cell_type": "markdown",
   "metadata": {},
   "source": [
    "Также реализуем функцию предсказания (вычисления значения) модели на новых данных.\n",
    "\n",
    "Какое значение точности мы ожидаем увидеть до начала тренировки?"
   ]
  },
  {
   "cell_type": "code",
   "execution_count": 9,
   "metadata": {
    "ExecuteTime": {
     "end_time": "2019-05-08T12:45:49.354213Z",
     "start_time": "2019-05-08T12:45:49.007679Z"
    }
   },
   "outputs": [
    {
     "data": {
      "text/plain": [
       "0.1"
      ]
     },
     "execution_count": 9,
     "metadata": {},
     "output_type": "execute_result"
    }
   ],
   "source": [
    "# Finally, implement predict function!\n",
    "\n",
    "# TODO: Implement predict function\n",
    "# What would be the value we expect?\n",
    "multiclass_accuracy(model_with_reg.predict(train_X[:30]), train_y[:30]) "
   ]
  },
  {
   "cell_type": "markdown",
   "metadata": {},
   "source": [
    "# Допишем код для процесса тренировки"
   ]
  },
  {
   "cell_type": "code",
   "execution_count": 10,
   "metadata": {
    "ExecuteTime": {
     "end_time": "2019-05-08T12:47:00.657835Z",
     "start_time": "2019-05-08T12:45:49.362209Z"
    }
   },
   "outputs": [
    {
     "name": "stdout",
     "output_type": "stream",
     "text": [
      "Loss: 1.894099, Train accuracy: 0.218778, val accuracy: 0.217000\n",
      "Loss: 1.847720, Train accuracy: 0.380778, val accuracy: 0.403000\n",
      "Loss: 1.698356, Train accuracy: 0.507556, val accuracy: 0.488000\n",
      "Loss: 0.880555, Train accuracy: 0.652556, val accuracy: 0.621000\n",
      "Loss: 1.475689, Train accuracy: 0.638111, val accuracy: 0.630000\n",
      "Loss: 0.928611, Train accuracy: 0.667889, val accuracy: 0.631000\n",
      "Loss: 1.231581, Train accuracy: 0.714556, val accuracy: 0.664000\n",
      "Loss: 0.687097, Train accuracy: 0.716111, val accuracy: 0.676000\n",
      "Loss: 1.013312, Train accuracy: 0.764333, val accuracy: 0.707000\n",
      "Loss: 0.493468, Train accuracy: 0.766556, val accuracy: 0.707000\n",
      "Loss: 1.037605, Train accuracy: 0.766000, val accuracy: 0.695000\n",
      "Loss: 0.880236, Train accuracy: 0.785222, val accuracy: 0.723000\n",
      "Loss: 0.308838, Train accuracy: 0.799778, val accuracy: 0.720000\n",
      "Loss: 0.656105, Train accuracy: 0.807222, val accuracy: 0.719000\n",
      "Loss: 1.284580, Train accuracy: 0.805778, val accuracy: 0.708000\n",
      "Loss: 0.764916, Train accuracy: 0.833444, val accuracy: 0.730000\n",
      "Loss: 0.822806, Train accuracy: 0.802000, val accuracy: 0.694000\n",
      "Loss: 0.747943, Train accuracy: 0.827000, val accuracy: 0.718000\n",
      "Loss: 0.577829, Train accuracy: 0.846778, val accuracy: 0.730000\n",
      "Loss: 0.489940, Train accuracy: 0.837778, val accuracy: 0.727000\n"
     ]
    }
   ],
   "source": [
    "np.random.seed(42)\n",
    "model = TwoLayerNet(n_input = train_X.shape[1], n_output = 10, hidden_layer_size = 100, reg = 1e-5)\n",
    "dataset = Dataset(train_X, train_y, val_X, val_y)\n",
    "trainer = Trainer(model, dataset, SGD(),learning_rate=1e-1)\n",
    "\n",
    "# TODO Implement missing pieces in Trainer.fit function\n",
    "# You should expect loss to go down and train and val accuracy go up for every epoch\n",
    "loss_history, train_history, val_history = trainer.fit()"
   ]
  },
  {
   "cell_type": "code",
   "execution_count": 11,
   "metadata": {
    "ExecuteTime": {
     "end_time": "2019-05-08T12:47:01.231085Z",
     "start_time": "2019-05-08T12:47:00.658836Z"
    }
   },
   "outputs": [
    {
     "data": {
      "text/plain": [
       "[<matplotlib.lines.Line2D at 0x1ca4b1d8a90>]"
      ]
     },
     "execution_count": 11,
     "metadata": {},
     "output_type": "execute_result"
    },
    {
     "data": {
      "image/png": "[encoded data removed]",
      "text/plain": [
       "<Figure size 432x288 with 1 Axes>"
      ]
     },
     "metadata": {
      "needs_background": "light"
     },
     "output_type": "display_data"
    }
   ],
   "source": [
    "plt.plot(train_history)\n",
    "plt.plot(val_history)"
   ]
  },
  {
   "cell_type": "markdown",
   "metadata": {},
   "source": [
    "# Улучшаем процесс тренировки\n",
    "\n",
    "Мы реализуем несколько ключевых оптимизаций, необходимых для тренировки современных нейросетей."
   ]
  },
  {
   "cell_type": "markdown",
   "metadata": {},
   "source": [
    "## Уменьшение скорости обучения (learning rate decay)\n",
    "\n",
    "Одна из необходимых оптимизаций во время тренировки нейронных сетей - постепенное уменьшение скорости обучения по мере тренировки.\n",
    "\n",
    "Один из стандартных методов - уменьшение скорости обучения (learning rate) каждые N эпох на коэффициент d (часто называемый decay). Значения N и d, как всегда, являются гиперпараметрами и должны подбираться на основе эффективности на проверочных данных (validation data). \n",
    "\n",
    "В нашем случае N будет равным 1."
   ]
  },
  {
   "cell_type": "code",
   "execution_count": 12,
   "metadata": {
    "ExecuteTime": {
     "end_time": "2019-05-08T12:48:17.396089Z",
     "start_time": "2019-05-08T12:47:01.232085Z"
    }
   },
   "outputs": [
    {
     "name": "stdout",
     "output_type": "stream",
     "text": [
      "Loss: 1.894099, Train accuracy: 0.218778, val accuracy: 0.217000\n",
      "Loss: 1.851354, Train accuracy: 0.379333, val accuracy: 0.410000\n",
      "Loss: 1.750399, Train accuracy: 0.503778, val accuracy: 0.484000\n",
      "Loss: 0.895720, Train accuracy: 0.645889, val accuracy: 0.617000\n",
      "Loss: 1.386286, Train accuracy: 0.633444, val accuracy: 0.628000\n",
      "Loss: 1.099104, Train accuracy: 0.680889, val accuracy: 0.655000\n",
      "Loss: 1.246884, Train accuracy: 0.726889, val accuracy: 0.678000\n",
      "Loss: 0.693453, Train accuracy: 0.725444, val accuracy: 0.683000\n",
      "Loss: 1.042394, Train accuracy: 0.764556, val accuracy: 0.709000\n",
      "Loss: 0.467926, Train accuracy: 0.750889, val accuracy: 0.694000\n",
      "Loss: 0.977893, Train accuracy: 0.763778, val accuracy: 0.684000\n",
      "Loss: 0.971348, Train accuracy: 0.778444, val accuracy: 0.725000\n",
      "Loss: 0.318231, Train accuracy: 0.789889, val accuracy: 0.730000\n",
      "Loss: 0.626480, Train accuracy: 0.822000, val accuracy: 0.738000\n",
      "Loss: 1.213307, Train accuracy: 0.800222, val accuracy: 0.724000\n",
      "Loss: 0.791266, Train accuracy: 0.827667, val accuracy: 0.730000\n",
      "Loss: 0.707971, Train accuracy: 0.826667, val accuracy: 0.727000\n",
      "Loss: 0.776515, Train accuracy: 0.813667, val accuracy: 0.720000\n",
      "Loss: 0.468159, Train accuracy: 0.846111, val accuracy: 0.735000\n",
      "Loss: 0.646357, Train accuracy: 0.845111, val accuracy: 0.753000\n"
     ]
    }
   ],
   "source": [
    "# TODO Implement learning rate decay inside Trainer.fit method\n",
    "# Decay should happen once per epoch\n",
    "np.random.seed(42)\n",
    "model = TwoLayerNet(n_input = train_X.shape[1], n_output = 10, hidden_layer_size = 100, reg = 1e-5)\n",
    "dataset = Dataset(train_X, train_y, val_X, val_y)\n",
    "trainer = Trainer(model, dataset, SGD(), learning_rate_decay=0.99,learning_rate=1e-1)\n",
    "\n",
    "initial_learning_rate = trainer.learning_rate\n",
    "loss_history, train_history, val_history = trainer.fit()\n",
    "\n",
    "assert trainer.learning_rate < initial_learning_rate, \"Learning rate should've been reduced\"\n",
    "assert trainer.learning_rate > 0.5*initial_learning_rate, \"Learning rate shouldn'tve been reduced that much!\""
   ]
  },
  {
   "cell_type": "markdown",
   "metadata": {},
   "source": [
    "# Накопление импульса (Momentum SGD)\n",
    "\n",
    "Другой большой класс оптимизаций - использование более эффективных методов градиентного спуска. Мы реализуем один из них - накопление импульса (Momentum SGD).\n",
    "\n",
    "Этот метод хранит скорость движения, использует градиент для ее изменения на каждом шаге, и изменяет веса пропорционально значению скорости.\n",
    "(Физическая аналогия: Вместо скорости градиенты теперь будут задавать ускорение, но будет присутствовать сила трения.)\n",
    "\n",
    "```\n",
    "velocity = momentum * velocity - learning_rate * gradient \n",
    "w = w + velocity\n",
    "```\n",
    "\n",
    "`momentum` здесь коэффициент затухания, который тоже является гиперпараметром (к счастью, для него часто есть хорошее значение по умолчанию, типичный диапазон -- 0.8-0.99).\n",
    "\n",
    "Несколько полезных ссылок, где метод разбирается более подробно:  \n",
    "http://cs231n.github.io/neural-networks-3/#sgd  \n",
    "https://distill.pub/2017/momentum/"
   ]
  },
  {
   "cell_type": "code",
   "execution_count": 13,
   "metadata": {
    "ExecuteTime": {
     "end_time": "2019-05-08T12:50:22.743406Z",
     "start_time": "2019-05-08T12:48:17.399089Z"
    }
   },
   "outputs": [
    {
     "name": "stdout",
     "output_type": "stream",
     "text": [
      "Loss: 1.967689, Train accuracy: 0.214667, val accuracy: 0.216000\n",
      "Loss: 1.965064, Train accuracy: 0.394111, val accuracy: 0.400000\n",
      "Loss: 1.671878, Train accuracy: 0.537667, val accuracy: 0.522000\n",
      "Loss: 0.865569, Train accuracy: 0.616222, val accuracy: 0.604000\n",
      "Loss: 1.421689, Train accuracy: 0.671111, val accuracy: 0.654000\n",
      "Loss: 0.902907, Train accuracy: 0.612778, val accuracy: 0.574000\n",
      "Loss: 1.003843, Train accuracy: 0.732556, val accuracy: 0.685000\n",
      "Loss: 0.789118, Train accuracy: 0.716222, val accuracy: 0.684000\n",
      "Loss: 0.892378, Train accuracy: 0.746444, val accuracy: 0.682000\n",
      "Loss: 0.329794, Train accuracy: 0.762444, val accuracy: 0.708000\n",
      "Loss: 1.268285, Train accuracy: 0.763444, val accuracy: 0.685000\n",
      "Loss: 1.013147, Train accuracy: 0.790889, val accuracy: 0.710000\n",
      "Loss: 0.384635, Train accuracy: 0.810444, val accuracy: 0.711000\n",
      "Loss: 0.631192, Train accuracy: 0.795556, val accuracy: 0.703000\n",
      "Loss: 0.843503, Train accuracy: 0.830000, val accuracy: 0.744000\n",
      "Loss: 0.720447, Train accuracy: 0.833222, val accuracy: 0.734000\n",
      "Loss: 0.546094, Train accuracy: 0.837333, val accuracy: 0.728000\n",
      "Loss: 0.674171, Train accuracy: 0.842000, val accuracy: 0.727000\n",
      "Loss: 0.680241, Train accuracy: 0.836556, val accuracy: 0.713000\n",
      "Loss: 0.146451, Train accuracy: 0.866889, val accuracy: 0.743000\n"
     ]
    }
   ],
   "source": [
    "# TODO: Implement MomentumSGD.update function in optim.py\n",
    "np.random.seed(42)\n",
    "model = TwoLayerNet(n_input = train_X.shape[1], n_output = 10, hidden_layer_size = 100, reg = 1e-5)\n",
    "dataset = Dataset(train_X, train_y, val_X, val_y)\n",
    "trainer = Trainer(model, dataset, MomentumSGD(), learning_rate=1e-2, learning_rate_decay=0.99)\n",
    "\n",
    "# You should see even better results than before!\n",
    "loss_history, train_history, val_history = trainer.fit()"
   ]
  },
  {
   "cell_type": "markdown",
   "metadata": {},
   "source": [
    "# Ну что, давайте уже тренировать сеть!"
   ]
  },
  {
   "cell_type": "markdown",
   "metadata": {},
   "source": [
    "## Последний тест - переобучимся (overfit) на маленьком наборе данных\n",
    "\n",
    "Хороший способ проверить, все ли реализовано корректно - переобучить сеть на маленьком наборе данных.  \n",
    "Наша модель обладает достаточной мощностью, чтобы приблизить маленький набор данных идеально, поэтому мы ожидаем, что на нем мы быстро дойдем до 100% точности на тренировочном наборе. \n",
    "\n",
    "Если этого не происходит, то где-то была допущена ошибка!"
   ]
  },
  {
   "cell_type": "code",
   "execution_count": 14,
   "metadata": {
    "ExecuteTime": {
     "end_time": "2019-05-08T12:50:27.908941Z",
     "start_time": "2019-05-08T12:50:22.746403Z"
    },
    "scrolled": true
   },
   "outputs": [
    {
     "name": "stdout",
     "output_type": "stream",
     "text": [
      "Loss: 2.303730, Train accuracy: 0.200000, val accuracy: 0.300000\n",
      "Loss: 2.300218, Train accuracy: 0.400000, val accuracy: 0.300000\n",
      "Loss: 2.276400, Train accuracy: 0.400000, val accuracy: 0.200000\n",
      "Loss: 2.284531, Train accuracy: 0.300000, val accuracy: 0.200000\n",
      "Loss: 2.246735, Train accuracy: 0.300000, val accuracy: 0.200000\n",
      "Loss: 2.224813, Train accuracy: 0.300000, val accuracy: 0.200000\n",
      "Loss: 2.249617, Train accuracy: 0.300000, val accuracy: 0.200000\n",
      "Loss: 2.230461, Train accuracy: 0.300000, val accuracy: 0.200000\n",
      "Loss: 2.235557, Train accuracy: 0.300000, val accuracy: 0.200000\n",
      "Loss: 1.923457, Train accuracy: 0.300000, val accuracy: 0.200000\n",
      "Loss: 1.871733, Train accuracy: 0.300000, val accuracy: 0.200000\n",
      "Loss: 1.520948, Train accuracy: 0.300000, val accuracy: 0.200000\n",
      "Loss: 1.844291, Train accuracy: 0.300000, val accuracy: 0.200000\n",
      "Loss: 1.839094, Train accuracy: 0.400000, val accuracy: 0.200000\n",
      "Loss: 1.798948, Train accuracy: 0.400000, val accuracy: 0.200000\n",
      "Loss: 1.615834, Train accuracy: 0.400000, val accuracy: 0.200000\n",
      "Loss: 1.970772, Train accuracy: 0.400000, val accuracy: 0.200000\n",
      "Loss: 2.067949, Train accuracy: 0.400000, val accuracy: 0.200000\n",
      "Loss: 1.502303, Train accuracy: 0.600000, val accuracy: 0.200000\n",
      "Loss: 1.799273, Train accuracy: 0.500000, val accuracy: 0.200000\n",
      "Loss: 1.148359, Train accuracy: 0.500000, val accuracy: 0.200000\n",
      "Loss: 1.529464, Train accuracy: 0.500000, val accuracy: 0.200000\n",
      "Loss: 1.553130, Train accuracy: 0.600000, val accuracy: 0.200000\n",
      "Loss: 1.264372, Train accuracy: 0.600000, val accuracy: 0.200000\n",
      "Loss: 1.395507, Train accuracy: 0.600000, val accuracy: 0.200000\n",
      "Loss: 1.002846, Train accuracy: 0.500000, val accuracy: 0.200000\n",
      "Loss: 1.308549, Train accuracy: 0.500000, val accuracy: 0.200000\n",
      "Loss: 0.673527, Train accuracy: 0.600000, val accuracy: 0.200000\n",
      "Loss: 0.796326, Train accuracy: 0.600000, val accuracy: 0.200000\n",
      "Loss: 0.744399, Train accuracy: 0.600000, val accuracy: 0.200000\n",
      "Loss: 1.342263, Train accuracy: 0.700000, val accuracy: 0.200000\n",
      "Loss: 0.629587, Train accuracy: 0.700000, val accuracy: 0.200000\n",
      "Loss: 0.855041, Train accuracy: 0.700000, val accuracy: 0.200000\n",
      "Loss: 0.567053, Train accuracy: 0.700000, val accuracy: 0.200000\n",
      "Loss: 1.144330, Train accuracy: 0.700000, val accuracy: 0.200000\n",
      "Loss: 0.937250, Train accuracy: 0.800000, val accuracy: 0.200000\n",
      "Loss: 0.832689, Train accuracy: 0.800000, val accuracy: 0.200000\n",
      "Loss: 0.532838, Train accuracy: 0.800000, val accuracy: 0.200000\n",
      "Loss: 0.305621, Train accuracy: 0.800000, val accuracy: 0.200000\n",
      "Loss: 0.786717, Train accuracy: 0.800000, val accuracy: 0.200000\n",
      "Loss: 0.750895, Train accuracy: 0.800000, val accuracy: 0.200000\n",
      "Loss: 0.642601, Train accuracy: 0.800000, val accuracy: 0.200000\n",
      "Loss: 0.468995, Train accuracy: 0.800000, val accuracy: 0.200000\n",
      "Loss: 0.945630, Train accuracy: 0.900000, val accuracy: 0.200000\n",
      "Loss: 0.372223, Train accuracy: 0.800000, val accuracy: 0.200000\n",
      "Loss: 0.380457, Train accuracy: 0.900000, val accuracy: 0.200000\n",
      "Loss: 0.574156, Train accuracy: 1.000000, val accuracy: 0.200000\n",
      "Loss: 0.791344, Train accuracy: 1.000000, val accuracy: 0.100000\n",
      "Loss: 0.762436, Train accuracy: 1.000000, val accuracy: 0.000000\n",
      "Loss: 0.380628, Train accuracy: 1.000000, val accuracy: 0.000000\n",
      "Loss: 0.667805, Train accuracy: 1.000000, val accuracy: 0.000000\n",
      "Loss: 0.686093, Train accuracy: 1.000000, val accuracy: 0.000000\n",
      "Loss: 0.663772, Train accuracy: 1.000000, val accuracy: 0.000000\n",
      "Loss: 0.215608, Train accuracy: 1.000000, val accuracy: 0.000000\n",
      "Loss: 0.609115, Train accuracy: 1.000000, val accuracy: 0.000000\n",
      "Loss: 0.601852, Train accuracy: 1.000000, val accuracy: 0.000000\n",
      "Loss: 0.131033, Train accuracy: 1.000000, val accuracy: 0.000000\n",
      "Loss: 0.241240, Train accuracy: 1.000000, val accuracy: 0.000000\n",
      "Loss: 0.484257, Train accuracy: 1.000000, val accuracy: 0.000000\n",
      "Loss: 0.522499, Train accuracy: 1.000000, val accuracy: 0.000000\n",
      "Loss: 0.182922, Train accuracy: 1.000000, val accuracy: 0.000000\n",
      "Loss: 0.510434, Train accuracy: 1.000000, val accuracy: 0.000000\n",
      "Loss: 0.433266, Train accuracy: 1.000000, val accuracy: 0.000000\n",
      "Loss: 0.476085, Train accuracy: 1.000000, val accuracy: 0.000000\n",
      "Loss: 0.458999, Train accuracy: 1.000000, val accuracy: 0.000000\n",
      "Loss: 0.455662, Train accuracy: 1.000000, val accuracy: 0.000000\n",
      "Loss: 0.423370, Train accuracy: 1.000000, val accuracy: 0.000000\n",
      "Loss: 0.196135, Train accuracy: 1.000000, val accuracy: 0.000000\n",
      "Loss: 0.416000, Train accuracy: 1.000000, val accuracy: 0.000000\n",
      "Loss: 0.385042, Train accuracy: 1.000000, val accuracy: 0.000000\n",
      "Loss: 0.154510, Train accuracy: 1.000000, val accuracy: 0.000000\n",
      "Loss: 0.392417, Train accuracy: 1.000000, val accuracy: 0.000000\n",
      "Loss: 0.151908, Train accuracy: 1.000000, val accuracy: 0.000000\n",
      "Loss: 0.161403, Train accuracy: 1.000000, val accuracy: 0.000000\n",
      "Loss: 0.335036, Train accuracy: 1.000000, val accuracy: 0.000000\n",
      "Loss: 0.182518, Train accuracy: 1.000000, val accuracy: 0.000000\n",
      "Loss: 0.313373, Train accuracy: 1.000000, val accuracy: 0.000000\n",
      "Loss: 0.328698, Train accuracy: 1.000000, val accuracy: 0.000000\n",
      "Loss: 0.311933, Train accuracy: 1.000000, val accuracy: 0.000000\n",
      "Loss: 0.173355, Train accuracy: 1.000000, val accuracy: 0.000000\n",
      "Loss: 0.292008, Train accuracy: 1.000000, val accuracy: 0.000000\n",
      "Loss: 0.156568, Train accuracy: 1.000000, val accuracy: 0.000000\n",
      "Loss: 0.147985, Train accuracy: 1.000000, val accuracy: 0.000000\n",
      "Loss: 0.264540, Train accuracy: 1.000000, val accuracy: 0.000000\n",
      "Loss: 0.266362, Train accuracy: 1.000000, val accuracy: 0.000000\n",
      "Loss: 0.167322, Train accuracy: 1.000000, val accuracy: 0.000000\n",
      "Loss: 0.159638, Train accuracy: 1.000000, val accuracy: 0.000000\n",
      "Loss: 0.162748, Train accuracy: 1.000000, val accuracy: 0.000000\n",
      "Loss: 0.167255, Train accuracy: 1.000000, val accuracy: 0.000000\n",
      "Loss: 0.224794, Train accuracy: 1.000000, val accuracy: 0.000000\n",
      "Loss: 0.235489, Train accuracy: 1.000000, val accuracy: 0.000000\n",
      "Loss: 0.157760, Train accuracy: 1.000000, val accuracy: 0.000000\n",
      "Loss: 0.156436, Train accuracy: 1.000000, val accuracy: 0.000000\n",
      "Loss: 0.170490, Train accuracy: 1.000000, val accuracy: 0.000000\n",
      "Loss: 0.173919, Train accuracy: 1.000000, val accuracy: 0.000000\n",
      "Loss: 0.218089, Train accuracy: 1.000000, val accuracy: 0.000000\n",
      "Loss: 0.208341, Train accuracy: 1.000000, val accuracy: 0.000000\n",
      "Loss: 0.159389, Train accuracy: 1.000000, val accuracy: 0.000000\n",
      "Loss: 0.174896, Train accuracy: 1.000000, val accuracy: 0.000000\n",
      "Loss: 0.196141, Train accuracy: 1.000000, val accuracy: 0.000000\n",
      "Loss: 0.168518, Train accuracy: 1.000000, val accuracy: 0.000000\n",
      "Loss: 0.165703, Train accuracy: 1.000000, val accuracy: 0.000000\n",
      "Loss: 0.196436, Train accuracy: 1.000000, val accuracy: 0.000000\n",
      "Loss: 0.190431, Train accuracy: 1.000000, val accuracy: 0.000000\n",
      "Loss: 0.162090, Train accuracy: 1.000000, val accuracy: 0.000000\n",
      "Loss: 0.163576, Train accuracy: 1.000000, val accuracy: 0.000000\n",
      "Loss: 0.168344, Train accuracy: 1.000000, val accuracy: 0.000000\n",
      "Loss: 0.184054, Train accuracy: 1.000000, val accuracy: 0.000000\n",
      "Loss: 0.162163, Train accuracy: 1.000000, val accuracy: 0.000000\n",
      "Loss: 0.186990, Train accuracy: 1.000000, val accuracy: 0.000000\n",
      "Loss: 0.168471, Train accuracy: 1.000000, val accuracy: 0.000000\n",
      "Loss: 0.189105, Train accuracy: 1.000000, val accuracy: 0.000000\n",
      "Loss: 0.185157, Train accuracy: 1.000000, val accuracy: 0.000000\n",
      "Loss: 0.180542, Train accuracy: 1.000000, val accuracy: 0.000000\n",
      "Loss: 0.179052, Train accuracy: 1.000000, val accuracy: 0.000000\n",
      "Loss: 0.158878, Train accuracy: 1.000000, val accuracy: 0.000000\n",
      "Loss: 0.167332, Train accuracy: 1.000000, val accuracy: 0.000000\n",
      "Loss: 0.182229, Train accuracy: 1.000000, val accuracy: 0.000000\n",
      "Loss: 0.155186, Train accuracy: 1.000000, val accuracy: 0.100000\n",
      "Loss: 0.166032, Train accuracy: 1.000000, val accuracy: 0.100000\n",
      "Loss: 0.160634, Train accuracy: 1.000000, val accuracy: 0.200000\n",
      "Loss: 0.162965, Train accuracy: 1.000000, val accuracy: 0.100000\n",
      "Loss: 0.175841, Train accuracy: 1.000000, val accuracy: 0.200000\n",
      "Loss: 0.163506, Train accuracy: 1.000000, val accuracy: 0.200000\n",
      "Loss: 0.159680, Train accuracy: 1.000000, val accuracy: 0.200000\n",
      "Loss: 0.173304, Train accuracy: 1.000000, val accuracy: 0.200000\n",
      "Loss: 0.185729, Train accuracy: 1.000000, val accuracy: 0.200000\n"
     ]
    },
    {
     "name": "stdout",
     "output_type": "stream",
     "text": [
      "Loss: 0.174357, Train accuracy: 1.000000, val accuracy: 0.200000\n",
      "Loss: 0.159115, Train accuracy: 1.000000, val accuracy: 0.200000\n",
      "Loss: 0.181904, Train accuracy: 1.000000, val accuracy: 0.200000\n",
      "Loss: 0.165961, Train accuracy: 1.000000, val accuracy: 0.100000\n",
      "Loss: 0.162553, Train accuracy: 1.000000, val accuracy: 0.200000\n",
      "Loss: 0.183367, Train accuracy: 1.000000, val accuracy: 0.100000\n",
      "Loss: 0.171697, Train accuracy: 1.000000, val accuracy: 0.200000\n",
      "Loss: 0.159571, Train accuracy: 1.000000, val accuracy: 0.200000\n",
      "Loss: 0.164942, Train accuracy: 1.000000, val accuracy: 0.200000\n",
      "Loss: 0.177635, Train accuracy: 1.000000, val accuracy: 0.100000\n",
      "Loss: 0.177525, Train accuracy: 1.000000, val accuracy: 0.100000\n",
      "Loss: 0.163986, Train accuracy: 1.000000, val accuracy: 0.200000\n",
      "Loss: 0.166667, Train accuracy: 1.000000, val accuracy: 0.100000\n",
      "Loss: 0.170800, Train accuracy: 1.000000, val accuracy: 0.100000\n",
      "Loss: 0.167304, Train accuracy: 1.000000, val accuracy: 0.100000\n",
      "Loss: 0.173184, Train accuracy: 1.000000, val accuracy: 0.200000\n",
      "Loss: 0.163083, Train accuracy: 1.000000, val accuracy: 0.100000\n",
      "Loss: 0.174782, Train accuracy: 1.000000, val accuracy: 0.100000\n",
      "Loss: 0.157262, Train accuracy: 1.000000, val accuracy: 0.100000\n",
      "Loss: 0.172533, Train accuracy: 1.000000, val accuracy: 0.100000\n",
      "Loss: 0.165551, Train accuracy: 1.000000, val accuracy: 0.100000\n",
      "Loss: 0.171988, Train accuracy: 1.000000, val accuracy: 0.100000\n",
      "Loss: 0.161726, Train accuracy: 1.000000, val accuracy: 0.100000\n",
      "Loss: 0.166014, Train accuracy: 1.000000, val accuracy: 0.100000\n",
      "Loss: 0.176863, Train accuracy: 1.000000, val accuracy: 0.100000\n",
      "Loss: 0.178241, Train accuracy: 1.000000, val accuracy: 0.100000\n",
      "Loss: 0.177796, Train accuracy: 1.000000, val accuracy: 0.100000\n",
      "Loss: 0.160598, Train accuracy: 1.000000, val accuracy: 0.100000\n",
      "Loss: 0.164671, Train accuracy: 1.000000, val accuracy: 0.100000\n",
      "Loss: 0.167844, Train accuracy: 1.000000, val accuracy: 0.100000\n",
      "Loss: 0.160982, Train accuracy: 1.000000, val accuracy: 0.100000\n",
      "Loss: 0.160641, Train accuracy: 1.000000, val accuracy: 0.100000\n",
      "Loss: 0.169991, Train accuracy: 1.000000, val accuracy: 0.100000\n",
      "Loss: 0.175824, Train accuracy: 1.000000, val accuracy: 0.100000\n",
      "Loss: 0.162979, Train accuracy: 1.000000, val accuracy: 0.100000\n",
      "Loss: 0.158802, Train accuracy: 1.000000, val accuracy: 0.100000\n",
      "Loss: 0.169476, Train accuracy: 1.000000, val accuracy: 0.200000\n",
      "Loss: 0.167012, Train accuracy: 1.000000, val accuracy: 0.200000\n",
      "Loss: 0.171771, Train accuracy: 1.000000, val accuracy: 0.200000\n",
      "Loss: 0.164495, Train accuracy: 1.000000, val accuracy: 0.200000\n",
      "Loss: 0.170021, Train accuracy: 1.000000, val accuracy: 0.100000\n",
      "Loss: 0.168684, Train accuracy: 1.000000, val accuracy: 0.100000\n",
      "Loss: 0.155762, Train accuracy: 1.000000, val accuracy: 0.200000\n",
      "Loss: 0.160584, Train accuracy: 1.000000, val accuracy: 0.200000\n",
      "Loss: 0.153786, Train accuracy: 1.000000, val accuracy: 0.200000\n",
      "Loss: 0.167331, Train accuracy: 1.000000, val accuracy: 0.200000\n",
      "Loss: 0.170153, Train accuracy: 1.000000, val accuracy: 0.200000\n",
      "Loss: 0.172850, Train accuracy: 1.000000, val accuracy: 0.100000\n",
      "Loss: 0.160514, Train accuracy: 1.000000, val accuracy: 0.200000\n",
      "Loss: 0.174125, Train accuracy: 1.000000, val accuracy: 0.100000\n",
      "Loss: 0.155610, Train accuracy: 1.000000, val accuracy: 0.200000\n",
      "Loss: 0.163897, Train accuracy: 1.000000, val accuracy: 0.200000\n",
      "Loss: 0.156111, Train accuracy: 1.000000, val accuracy: 0.200000\n",
      "Loss: 0.162017, Train accuracy: 1.000000, val accuracy: 0.200000\n",
      "Loss: 0.164717, Train accuracy: 1.000000, val accuracy: 0.200000\n",
      "Loss: 0.157478, Train accuracy: 1.000000, val accuracy: 0.100000\n",
      "Loss: 0.161108, Train accuracy: 1.000000, val accuracy: 0.200000\n",
      "Loss: 0.161875, Train accuracy: 1.000000, val accuracy: 0.200000\n",
      "Loss: 0.172062, Train accuracy: 1.000000, val accuracy: 0.200000\n",
      "Loss: 0.171956, Train accuracy: 1.000000, val accuracy: 0.200000\n",
      "Loss: 0.169916, Train accuracy: 1.000000, val accuracy: 0.100000\n",
      "Loss: 0.156846, Train accuracy: 1.000000, val accuracy: 0.100000\n",
      "Loss: 0.165778, Train accuracy: 1.000000, val accuracy: 0.100000\n",
      "Loss: 0.166259, Train accuracy: 1.000000, val accuracy: 0.100000\n",
      "Loss: 0.166691, Train accuracy: 1.000000, val accuracy: 0.100000\n",
      "Loss: 0.163552, Train accuracy: 1.000000, val accuracy: 0.100000\n",
      "Loss: 0.162899, Train accuracy: 1.000000, val accuracy: 0.200000\n",
      "Loss: 0.162482, Train accuracy: 1.000000, val accuracy: 0.200000\n",
      "Loss: 0.159214, Train accuracy: 1.000000, val accuracy: 0.100000\n",
      "Loss: 0.164054, Train accuracy: 1.000000, val accuracy: 0.100000\n",
      "Loss: 0.169027, Train accuracy: 1.000000, val accuracy: 0.100000\n",
      "Loss: 0.171907, Train accuracy: 1.000000, val accuracy: 0.100000\n",
      "Loss: 0.172580, Train accuracy: 1.000000, val accuracy: 0.100000\n"
     ]
    }
   ],
   "source": [
    "np.random.seed(42)\n",
    "data_size = 10\n",
    "model = TwoLayerNet(n_input = train_X.shape[1], n_output = 10, hidden_layer_size = 100, reg = 1e-2)\n",
    "dataset = Dataset(train_X[:data_size], train_y[:data_size], val_X[:data_size], val_y[:data_size])\n",
    "trainer = Trainer(model, dataset, SGD(), learning_rate=1e-1, num_epochs=200, batch_size=5)\n",
    "\n",
    "# You should expect this to reach 1.0 training accuracy \n",
    "loss_history, train_history, val_history = trainer.fit()"
   ]
  },
  {
   "cell_type": "markdown",
   "metadata": {},
   "source": [
    "Теперь найдем гипепараметры, для которых этот процесс сходится быстрее.\n",
    "Если все реализовано корректно, то существуют параметры, при которых процесс сходится в **20** эпох или еще быстрее.\n",
    "Найдите их!"
   ]
  },
  {
   "cell_type": "code",
   "execution_count": 15,
   "metadata": {
    "ExecuteTime": {
     "end_time": "2019-05-08T12:50:30.381055Z",
     "start_time": "2019-05-08T12:50:27.911942Z"
    },
    "scrolled": false
   },
   "outputs": [
    {
     "name": "stdout",
     "output_type": "stream",
     "text": [
      "Loss: 2.297668, Train accuracy: 0.200000, val accuracy: 0.100000\n",
      "Loss: 2.402199, Train accuracy: 0.200000, val accuracy: 0.100000\n",
      "Loss: 1.612343, Train accuracy: 0.400000, val accuracy: 0.200000\n",
      "Loss: 0.005829, Train accuracy: 0.400000, val accuracy: 0.200000\n",
      "Loss: 0.486161, Train accuracy: 0.500000, val accuracy: 0.100000\n",
      "Loss: 2.367919, Train accuracy: 0.500000, val accuracy: 0.200000\n",
      "Loss: 2.375234, Train accuracy: 0.500000, val accuracy: 0.200000\n",
      "Loss: 0.001068, Train accuracy: 0.700000, val accuracy: 0.100000\n",
      "Loss: 2.240030, Train accuracy: 0.700000, val accuracy: 0.200000\n",
      "Loss: 0.224212, Train accuracy: 0.700000, val accuracy: 0.200000\n",
      "Loss: 2.307680, Train accuracy: 0.800000, val accuracy: 0.200000\n",
      "Loss: 1.759529, Train accuracy: 1.000000, val accuracy: 0.100000\n",
      "Loss: 0.138615, Train accuracy: 0.900000, val accuracy: 0.000000\n",
      "Loss: 0.005232, Train accuracy: 1.000000, val accuracy: 0.000000\n",
      "Loss: 0.050187, Train accuracy: 1.000000, val accuracy: 0.000000\n",
      "Loss: 0.037446, Train accuracy: 1.000000, val accuracy: 0.000000\n",
      "Loss: 0.033814, Train accuracy: 1.000000, val accuracy: 0.000000\n",
      "Loss: 0.003956, Train accuracy: 1.000000, val accuracy: 0.000000\n",
      "Loss: 0.002378, Train accuracy: 1.000000, val accuracy: 0.000000\n",
      "Loss: 0.380377, Train accuracy: 1.000000, val accuracy: 0.000000\n"
     ]
    }
   ],
   "source": [
    "# Now, tweak some hyper parameters and make it train to 1.0 accuracy in 20 epochs or less\n",
    "np.random.seed(42)\n",
    "model = TwoLayerNet(n_input = train_X.shape[1], n_output = 10, hidden_layer_size = 100, reg = 1e-5)\n",
    "dataset = Dataset(train_X[:data_size], train_y[:data_size], val_X[:data_size], val_y[:data_size])\n",
    "# TODO: Change any hyperparamers or optimizators to reach training accuracy in 20 epochs\n",
    "trainer = Trainer(model, dataset, SGD(), learning_rate=1e-1, num_epochs=20, batch_size=1)\n",
    "\n",
    "loss_history, train_history, val_history = trainer.fit()"
   ]
  },
  {
   "cell_type": "markdown",
   "metadata": {},
   "source": [
    "# Итак, основное мероприятие!\n",
    "\n",
    "Натренируйте лучшую нейросеть! Можно добавлять и изменять параметры, менять количество нейронов в слоях сети и как угодно экспериментировать. \n",
    "\n",
    "Добейтесь точности лучше **40%** на validation set."
   ]
  },
  {
   "cell_type": "code",
   "execution_count": 16,
   "metadata": {
    "ExecuteTime": {
     "end_time": "2019-05-08T12:50:30.457052Z",
     "start_time": "2019-05-08T12:50:30.383055Z"
    }
   },
   "outputs": [],
   "source": [
    "dataset = Dataset(train_X, train_y, val_X, val_y)\n",
    "\n",
    "best_classifier = None\n",
    "best_val_accuracy = None\n",
    "\n",
    "loss_history = []\n",
    "train_history = []\n",
    "val_history = []"
   ]
  },
  {
   "cell_type": "code",
   "execution_count": 17,
   "metadata": {
    "ExecuteTime": {
     "end_time": "2019-05-08T12:55:25.151953Z",
     "start_time": "2019-05-08T12:50:30.459056Z"
    },
    "scrolled": true
   },
   "outputs": [
    {
     "name": "stdout",
     "output_type": "stream",
     "text": [
      "Loss: 2.083887, Train accuracy: 0.207889, val accuracy: 0.203000\n",
      "Loss: 1.636458, Train accuracy: 0.371889, val accuracy: 0.355000\n",
      "Loss: 1.535169, Train accuracy: 0.522333, val accuracy: 0.522000\n",
      "Loss: 1.703453, Train accuracy: 0.642111, val accuracy: 0.643000\n",
      "Loss: 1.548144, Train accuracy: 0.647556, val accuracy: 0.634000\n",
      "Loss: 1.502545, Train accuracy: 0.702444, val accuracy: 0.679000\n",
      "Loss: 1.016468, Train accuracy: 0.728889, val accuracy: 0.683000\n",
      "Loss: 0.847236, Train accuracy: 0.731889, val accuracy: 0.677000\n",
      "Loss: 0.538307, Train accuracy: 0.756333, val accuracy: 0.710000\n",
      "Loss: 0.945190, Train accuracy: 0.750333, val accuracy: 0.695000\n",
      "Loss: 0.862827, Train accuracy: 0.781667, val accuracy: 0.708000\n",
      "Loss: 0.518437, Train accuracy: 0.771556, val accuracy: 0.708000\n",
      "Loss: 0.365799, Train accuracy: 0.806556, val accuracy: 0.731000\n",
      "Loss: 0.438843, Train accuracy: 0.809444, val accuracy: 0.711000\n",
      "Loss: 0.396618, Train accuracy: 0.833444, val accuracy: 0.735000\n",
      "Loss: 0.294616, Train accuracy: 0.828444, val accuracy: 0.726000\n",
      "Loss: 0.466660, Train accuracy: 0.841778, val accuracy: 0.724000\n",
      "Loss: 0.667371, Train accuracy: 0.842667, val accuracy: 0.715000\n",
      "Loss: 0.658418, Train accuracy: 0.854111, val accuracy: 0.736000\n",
      "Loss: 0.637569, Train accuracy: 0.864222, val accuracy: 0.737000\n",
      "Loss: 0.919880, Train accuracy: 0.872778, val accuracy: 0.731000\n",
      "Loss: 0.620250, Train accuracy: 0.878889, val accuracy: 0.746000\n",
      "Loss: 0.435051, Train accuracy: 0.887444, val accuracy: 0.737000\n",
      "Loss: 0.170549, Train accuracy: 0.893111, val accuracy: 0.753000\n",
      "Loss: 0.208848, Train accuracy: 0.895778, val accuracy: 0.755000\n",
      "Loss: 0.441038, Train accuracy: 0.900444, val accuracy: 0.745000\n",
      "Loss: 0.266494, Train accuracy: 0.899778, val accuracy: 0.747000\n",
      "Loss: 0.598886, Train accuracy: 0.903444, val accuracy: 0.748000\n",
      "Loss: 0.281908, Train accuracy: 0.904444, val accuracy: 0.752000\n",
      "Loss: 0.584716, Train accuracy: 0.916444, val accuracy: 0.753000\n",
      "Loss: 0.171392, Train accuracy: 0.911111, val accuracy: 0.747000\n",
      "Loss: 0.402396, Train accuracy: 0.917556, val accuracy: 0.748000\n",
      "Loss: 0.581416, Train accuracy: 0.925222, val accuracy: 0.750000\n",
      "Loss: 0.245156, Train accuracy: 0.919667, val accuracy: 0.750000\n",
      "Loss: 0.255600, Train accuracy: 0.925667, val accuracy: 0.752000\n",
      "Loss: 0.321256, Train accuracy: 0.928000, val accuracy: 0.749000\n",
      "Loss: 0.380488, Train accuracy: 0.931222, val accuracy: 0.756000\n",
      "Loss: 0.180960, Train accuracy: 0.930444, val accuracy: 0.750000\n",
      "Loss: 0.316680, Train accuracy: 0.933111, val accuracy: 0.742000\n",
      "Loss: 0.493316, Train accuracy: 0.937333, val accuracy: 0.748000\n",
      "Loss: 0.159068, Train accuracy: 0.934778, val accuracy: 0.753000\n",
      "Loss: 0.309074, Train accuracy: 0.935556, val accuracy: 0.758000\n",
      "Loss: 0.415008, Train accuracy: 0.938111, val accuracy: 0.762000\n",
      "Loss: 0.171418, Train accuracy: 0.940556, val accuracy: 0.752000\n",
      "Loss: 0.220445, Train accuracy: 0.940889, val accuracy: 0.757000\n",
      "Loss: 0.140311, Train accuracy: 0.942778, val accuracy: 0.749000\n",
      "Loss: 0.180579, Train accuracy: 0.943444, val accuracy: 0.754000\n",
      "Loss: 0.275462, Train accuracy: 0.946000, val accuracy: 0.756000\n",
      "Loss: 0.280426, Train accuracy: 0.945778, val accuracy: 0.755000\n",
      "Loss: 0.167866, Train accuracy: 0.950333, val accuracy: 0.760000\n",
      "current accuracy: 0.760000\n",
      "best validation accuracy achieved: 0.760000\n"
     ]
    }
   ],
   "source": [
    "# Let's train the best one-hidden-layer network we can\n",
    "np.random.seed(42)\n",
    "\n",
    "learning_rate = 1e-2\n",
    "reg_strength = 1e-5\n",
    "learning_rate_decay = 0.95\n",
    "hidden_layer_size = 128\n",
    "num_epochs = 50\n",
    "batch_size = 64\n",
    "\n",
    "# TODO find the best hyperparameters to train the network\n",
    "# Don't hesitate to add new values to the arrays above, perform experiments, use any tricks you want\n",
    "# You should expect to get to at least 40% of valudation accuracy\n",
    "# Save loss/train/history of the best classifier to the variables above\n",
    "\n",
    "model = TwoLayerNet(n_input=train_X.shape[1], n_output=10, hidden_layer_size=hidden_layer_size, reg=reg_strength)\n",
    "trainer = Trainer(model, dataset, MomentumSGD(), num_epochs=num_epochs, learning_rate=learning_rate, learning_rate_decay=learning_rate_decay)\n",
    "loss_history_, train_history_, val_history_ = trainer.fit()\n",
    "if not best_classifier:\n",
    "    best_classifier = model\n",
    "    best_val_accuracy = val_history_[-1]\n",
    "    loss_history = loss_history_\n",
    "    val_history = val_history_\n",
    "    train_history = train_history_\n",
    "    \n",
    "if val_history_[-1]>best_val_accuracy:\n",
    "    best_classifier = model\n",
    "    best_val_accuracy = val_history_[-1]\n",
    "    loss_history = loss_history_\n",
    "    val_history = val_history_\n",
    "    train_history = train_history_\n",
    "\n",
    "print('current accuracy: %f' % val_history_[-1])\n",
    "print('best validation accuracy achieved: %f' % best_val_accuracy)"
   ]
  },
  {
   "cell_type": "code",
   "execution_count": 18,
   "metadata": {
    "ExecuteTime": {
     "end_time": "2019-05-08T12:55:25.436975Z",
     "start_time": "2019-05-08T12:55:25.153954Z"
    }
   },
   "outputs": [
    {
     "data": {
      "text/plain": [
       "[<matplotlib.lines.Line2D at 0x1ca4b2b97b8>]"
      ]
     },
     "execution_count": 18,
     "metadata": {},
     "output_type": "execute_result"
    },
    {
     "data": {
      "image/png": "[encoded data removed]",
      "text/plain": [
       "<Figure size 1080x504 with 2 Axes>"
      ]
     },
     "metadata": {
      "needs_background": "light"
     },
     "output_type": "display_data"
    }
   ],
   "source": [
    "plt.figure(figsize=(15, 7))\n",
    "plt.subplot(211)\n",
    "plt.title(\"Loss\")\n",
    "plt.plot(loss_history)\n",
    "plt.subplot(212)\n",
    "plt.title(\"Train/validation accuracy\")\n",
    "plt.plot(train_history)\n",
    "plt.plot(val_history)"
   ]
  },
  {
   "cell_type": "markdown",
   "metadata": {},
   "source": [
    "# Как обычно, посмотрим, как наша лучшая модель работает на тестовых данных"
   ]
  },
  {
   "cell_type": "code",
   "execution_count": 19,
   "metadata": {
    "ExecuteTime": {
     "end_time": "2019-05-08T12:55:25.696953Z",
     "start_time": "2019-05-08T12:55:25.437973Z"
    }
   },
   "outputs": [
    {
     "name": "stdout",
     "output_type": "stream",
     "text": [
      "Neural net test set accuracy: 0.752000\n"
     ]
    }
   ],
   "source": [
    "test_pred = best_classifier.predict(test_X)\n",
    "test_accuracy = multiclass_accuracy(test_pred, test_y)\n",
    "print('Neural net test set accuracy: %f' % (test_accuracy, ))"
   ]
  },
  {
   "cell_type": "code",
   "execution_count": null,
   "metadata": {},
   "outputs": [],
   "source": []
  }
 ],
 "metadata": {
  "kernelspec": {
   "display_name": "Python 3",
   "language": "python",
   "name": "python3"
  },
  "language_info": {
   "codemirror_mode": {
    "name": "ipython",
    "version": 3
   },
   "file_extension": ".py",
   "mimetype": "text/x-python",
   "name": "python",
   "nbconvert_exporter": "python",
   "pygments_lexer": "ipython3",
   "version": "3.7.3"
  },
  "varInspector": {
   "cols": {
    "lenName": 16,
    "lenType": 16,
    "lenVar": 40
   },
   "kernels_config": {
    "python": {
     "delete_cmd_postfix": "",
     "delete_cmd_prefix": "del ",
     "library": "var_list.py",
     "varRefreshCmd": "print(var_dic_list())"
    },
    "r": {
     "delete_cmd_postfix": ") ",
     "delete_cmd_prefix": "rm(",
     "library": "var_list.r",
     "varRefreshCmd": "cat(var_dic_list()) "
    }
   },
   "types_to_exclude": [
    "module",
    "function",
    "builtin_function_or_method",
    "instance",
    "_Feature"
   ],
   "window_display": false
  }
 },
 "nbformat": 4,
 "nbformat_minor": 2
}
