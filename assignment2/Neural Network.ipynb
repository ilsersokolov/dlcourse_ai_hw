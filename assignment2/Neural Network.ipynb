{
 "cells": [
  {
   "cell_type": "markdown",
   "metadata": {},
   "source": [
    "# Задание 2.1 - Нейронные сети\n",
    "\n",
    "В этом задании вы реализуете и натренируете настоящую нейроную сеть своими руками!\n",
    "\n",
    "В некотором смысле это будет расширением прошлого задания - нам нужно просто составить несколько линейных классификаторов вместе!\n",
    "\n",
    "<img src=\"https://i.redd.it/n9fgba8b0qr01.png\" alt=\"Stack_more_layers\" width=\"400px\"/>"
   ]
  },
  {
   "cell_type": "code",
   "execution_count": 1,
   "metadata": {
    "ExecuteTime": {
     "end_time": "2019-05-07T10:40:35.945745Z",
     "start_time": "2019-05-07T10:40:34.428530Z"
    }
   },
   "outputs": [],
   "source": [
    "import numpy as np\n",
    "import matplotlib.pyplot as plt\n",
    "\n",
    "%matplotlib inline\n",
    "\n",
    "%load_ext autoreload\n",
    "%autoreload 2"
   ]
  },
  {
   "cell_type": "code",
   "execution_count": 2,
   "metadata": {
    "ExecuteTime": {
     "end_time": "2019-05-07T10:40:37.023198Z",
     "start_time": "2019-05-07T10:40:35.948710Z"
    }
   },
   "outputs": [],
   "source": [
    "from dataset import load_svhn, random_split_train_val\n",
    "from gradient_check import check_layer_gradient, check_layer_param_gradient, check_model_gradient\n",
    "from layers import FullyConnectedLayer, ReLULayer\n",
    "from model import TwoLayerNet\n",
    "from trainer import Trainer, Dataset\n",
    "from optim import SGD, MomentumSGD\n",
    "from metrics import multiclass_accuracy"
   ]
  },
  {
   "cell_type": "code",
   "execution_count": 3,
   "metadata": {
    "ExecuteTime": {
     "end_time": "2019-05-07T10:40:37.267031Z",
     "start_time": "2019-05-07T10:40:37.026155Z"
    }
   },
   "outputs": [],
   "source": [
    "np.random.seed(42)"
   ]
  },
  {
   "cell_type": "markdown",
   "metadata": {},
   "source": [
    "# Загружаем данные\n",
    "\n",
    "И разделяем их на training и validation."
   ]
  },
  {
   "cell_type": "code",
   "execution_count": 4,
   "metadata": {
    "ExecuteTime": {
     "end_time": "2019-05-07T10:40:43.686410Z",
     "start_time": "2019-05-07T10:40:37.270016Z"
    }
   },
   "outputs": [],
   "source": [
    "def prepare_for_neural_network(train_X, test_X):\n",
    "    train_flat = train_X.reshape(train_X.shape[0], -1).astype(np.float) / 255.0\n",
    "    test_flat = test_X.reshape(test_X.shape[0], -1).astype(np.float) / 255.0\n",
    "    \n",
    "    # Subtract mean\n",
    "    mean_image = np.mean(train_flat, axis = 0)\n",
    "    train_flat -= mean_image\n",
    "    test_flat -= mean_image\n",
    "    \n",
    "    return train_flat, test_flat\n",
    "    \n",
    "train_X, train_y, test_X, test_y = load_svhn(\"data\", max_train=10000, max_test=1000)    \n",
    "train_X, test_X = prepare_for_neural_network(train_X, test_X)\n",
    "# Split train into train and val\n",
    "train_X, train_y, val_X, val_y = random_split_train_val(train_X, train_y, num_val = 1000)"
   ]
  },
  {
   "cell_type": "markdown",
   "metadata": {},
   "source": [
    "# Как всегда, начинаем с кирпичиков\n",
    "\n",
    "Мы будем реализовывать необходимые нам слои по очереди. Каждый слой должен реализовать:\n",
    "- прямой проход (forward pass), который генерирует выход слоя по входу и запоминает необходимые данные\n",
    "- обратный проход (backward pass), который получает градиент по выходу слоя и вычисляет градиент по входу и по параметрам\n",
    "\n",
    "Начнем с ReLU, у которого параметров нет."
   ]
  },
  {
   "cell_type": "code",
   "execution_count": 5,
   "metadata": {
    "ExecuteTime": {
     "end_time": "2019-05-07T10:40:44.047200Z",
     "start_time": "2019-05-07T10:40:43.695408Z"
    },
    "scrolled": false
   },
   "outputs": [
    {
     "name": "stdout",
     "output_type": "stream",
     "text": [
      "Gradient check passed!\n"
     ]
    }
   ],
   "source": [
    "# TODO: Implement ReLULayer layer in layers.py\n",
    "# Note: you'll need to copy implementation of the gradient_check function from the previous assignment\n",
    "\n",
    "X = np.array([[1,-2,3],\n",
    "              [-1, 2, 0.1]\n",
    "              ])\n",
    "\n",
    "assert check_layer_gradient(ReLULayer(), X)"
   ]
  },
  {
   "cell_type": "markdown",
   "metadata": {},
   "source": [
    "А теперь реализуем полносвязный слой (fully connected layer), у которого будет два массива параметров: W (weights) и B (bias).\n",
    "\n",
    "Все параметры наши слои будут использовать для параметров специальный класс `Param`, в котором будут храниться значения параметров и градиенты этих параметров, вычисляемые во время обратного прохода.\n",
    "\n",
    "Это даст возможность аккумулировать (суммировать) градиенты из разных частей функции потерь, например, из cross-entropy loss и regularization loss."
   ]
  },
  {
   "cell_type": "code",
   "execution_count": 6,
   "metadata": {
    "ExecuteTime": {
     "end_time": "2019-05-07T10:40:44.427175Z",
     "start_time": "2019-05-07T10:40:44.050199Z"
    }
   },
   "outputs": [
    {
     "name": "stdout",
     "output_type": "stream",
     "text": [
      "Gradient check passed!\n",
      "Gradient check passed!\n",
      "Gradient check passed!\n"
     ]
    }
   ],
   "source": [
    "# TODO: Implement FullyConnected layer forward and backward methods\n",
    "assert check_layer_gradient(FullyConnectedLayer(3, 4), X)\n",
    "# TODO: Implement storing gradients for W and B\n",
    "assert check_layer_param_gradient(FullyConnectedLayer(3, 4), X, 'W')\n",
    "assert check_layer_param_gradient(FullyConnectedLayer(3, 4), X, 'B')"
   ]
  },
  {
   "cell_type": "markdown",
   "metadata": {},
   "source": [
    "## Создаем нейронную сеть\n",
    "\n",
    "Теперь мы реализуем простейшую нейронную сеть с двумя полносвязным слоями и нелинейностью ReLU. Реализуйте функцию `compute_loss_and_gradients`, она должна запустить прямой и обратный проход через оба слоя для вычисления градиентов.\n",
    "\n",
    "Не забудьте реализовать очистку градиентов в начале функции."
   ]
  },
  {
   "cell_type": "code",
   "execution_count": 7,
   "metadata": {
    "ExecuteTime": {
     "end_time": "2019-05-07T10:40:56.408317Z",
     "start_time": "2019-05-07T10:40:44.431172Z"
    }
   },
   "outputs": [
    {
     "name": "stdout",
     "output_type": "stream",
     "text": [
      "Checking gradient for W0\n",
      "Gradient check passed!\n",
      "Checking gradient for B0\n",
      "Gradient check passed!\n",
      "Checking gradient for W1\n",
      "Gradient check passed!\n",
      "Checking gradient for B1\n",
      "Gradient check passed!\n"
     ]
    },
    {
     "data": {
      "text/plain": [
       "True"
      ]
     },
     "execution_count": 7,
     "metadata": {},
     "output_type": "execute_result"
    }
   ],
   "source": [
    "# TODO: In model.py, implement compute_loss_and_gradients function\n",
    "model = TwoLayerNet(n_input = train_X.shape[1], n_output = 10, hidden_layer_size = 3, reg = 0)\n",
    "loss = model.compute_loss_and_gradients(train_X[:2], train_y[:2])\n",
    "\n",
    "# TODO Now implement backward pass and aggregate all of the params\n",
    "check_model_gradient(model, train_X[:2], train_y[:2])"
   ]
  },
  {
   "cell_type": "markdown",
   "metadata": {},
   "source": [
    "Теперь добавьте к модели регуляризацию - она должна прибавляться к loss и делать свой вклад в градиенты."
   ]
  },
  {
   "cell_type": "code",
   "execution_count": 8,
   "metadata": {
    "ExecuteTime": {
     "end_time": "2019-05-07T10:41:06.507539Z",
     "start_time": "2019-05-07T10:40:56.421309Z"
    }
   },
   "outputs": [
    {
     "name": "stdout",
     "output_type": "stream",
     "text": [
      "Checking gradient for W0\n",
      "Gradient check passed!\n",
      "Checking gradient for B0\n",
      "Gradient check passed!\n",
      "Checking gradient for W1\n",
      "Gradient check passed!\n",
      "Checking gradient for B1\n",
      "Gradient check passed!\n"
     ]
    },
    {
     "data": {
      "text/plain": [
       "True"
      ]
     },
     "execution_count": 8,
     "metadata": {},
     "output_type": "execute_result"
    }
   ],
   "source": [
    "# TODO Now implement l2 regularization in the forward and backward pass\n",
    "model_with_reg = TwoLayerNet(n_input = train_X.shape[1], n_output = 10, hidden_layer_size = 3, reg = 1e1)\n",
    "loss_with_reg = model_with_reg.compute_loss_and_gradients(train_X[:2], train_y[:2])\n",
    "assert loss_with_reg > loss and not np.isclose(loss_with_reg, loss), \\\n",
    "    \"Loss with regularization (%2.4f) should be higher than without it (%2.4f)!\" % (loss, loss_with_reg)\n",
    "\n",
    "check_model_gradient(model_with_reg, train_X[:2], train_y[:2])"
   ]
  },
  {
   "cell_type": "markdown",
   "metadata": {},
   "source": [
    "Также реализуем функцию предсказания (вычисления значения) модели на новых данных.\n",
    "\n",
    "Какое значение точности мы ожидаем увидеть до начала тренировки?"
   ]
  },
  {
   "cell_type": "code",
   "execution_count": 9,
   "metadata": {
    "ExecuteTime": {
     "end_time": "2019-05-07T10:41:06.808366Z",
     "start_time": "2019-05-07T10:41:06.512537Z"
    }
   },
   "outputs": [
    {
     "data": {
      "text/plain": [
       "0.1"
      ]
     },
     "execution_count": 9,
     "metadata": {},
     "output_type": "execute_result"
    }
   ],
   "source": [
    "# Finally, implement predict function!\n",
    "\n",
    "# TODO: Implement predict function\n",
    "# What would be the value we expect?\n",
    "multiclass_accuracy(model_with_reg.predict(train_X[:30]), train_y[:30]) "
   ]
  },
  {
   "cell_type": "markdown",
   "metadata": {},
   "source": [
    "# Допишем код для процесса тренировки"
   ]
  },
  {
   "cell_type": "code",
   "execution_count": 10,
   "metadata": {
    "ExecuteTime": {
     "end_time": "2019-05-07T10:44:25.109919Z",
     "start_time": "2019-05-07T10:41:06.812366Z"
    }
   },
   "outputs": [
    {
     "name": "stdout",
     "output_type": "stream",
     "text": [
      "Loss: 1.973762, Train accuracy: 0.230889, val accuracy: 0.252000\n",
      "Loss: 1.751880, Train accuracy: 0.428667, val accuracy: 0.434000\n",
      "Loss: 1.161730, Train accuracy: 0.514444, val accuracy: 0.530000\n",
      "Loss: 1.198346, Train accuracy: 0.604667, val accuracy: 0.587000\n",
      "Loss: 1.090121, Train accuracy: 0.671111, val accuracy: 0.651000\n",
      "Loss: 0.471595, Train accuracy: 0.710889, val accuracy: 0.680000\n",
      "Loss: 0.737977, Train accuracy: 0.713111, val accuracy: 0.682000\n",
      "Loss: 0.547223, Train accuracy: 0.747222, val accuracy: 0.689000\n",
      "Loss: 1.080923, Train accuracy: 0.738556, val accuracy: 0.706000\n",
      "Loss: 0.420400, Train accuracy: 0.755222, val accuracy: 0.704000\n",
      "Loss: 1.235172, Train accuracy: 0.769778, val accuracy: 0.715000\n",
      "Loss: 0.805038, Train accuracy: 0.775000, val accuracy: 0.712000\n",
      "Loss: 0.663206, Train accuracy: 0.787111, val accuracy: 0.713000\n",
      "Loss: 0.669235, Train accuracy: 0.798000, val accuracy: 0.710000\n",
      "Loss: 0.961730, Train accuracy: 0.792000, val accuracy: 0.716000\n",
      "Loss: 0.388600, Train accuracy: 0.798444, val accuracy: 0.706000\n",
      "Loss: 0.946049, Train accuracy: 0.810889, val accuracy: 0.711000\n",
      "Loss: 0.873645, Train accuracy: 0.790889, val accuracy: 0.716000\n",
      "Loss: 0.895232, Train accuracy: 0.839778, val accuracy: 0.736000\n",
      "Loss: 1.301066, Train accuracy: 0.854889, val accuracy: 0.732000\n"
     ]
    }
   ],
   "source": [
    "np.random.seed(42)\n",
    "model = TwoLayerNet(n_input = train_X.shape[1], n_output = 10, hidden_layer_size = 100, reg = 1e-5)\n",
    "dataset = Dataset(train_X, train_y, val_X, val_y)\n",
    "trainer = Trainer(model, dataset, SGD(),learning_rate=1e-1)\n",
    "\n",
    "# TODO Implement missing pieces in Trainer.fit function\n",
    "# You should expect loss to go down and train and val accuracy go up for every epoch\n",
    "loss_history, train_history, val_history = trainer.fit()"
   ]
  },
  {
   "cell_type": "code",
   "execution_count": 11,
   "metadata": {
    "ExecuteTime": {
     "end_time": "2019-05-07T10:44:25.613875Z",
     "start_time": "2019-05-07T10:44:25.112917Z"
    }
   },
   "outputs": [
    {
     "data": {
      "text/plain": [
       "[<matplotlib.lines.Line2D at 0x22102202d68>]"
      ]
     },
     "execution_count": 11,
     "metadata": {},
     "output_type": "execute_result"
    },
    {
     "data": {
      "image/png": "[encoded data removed]",
      "text/plain": [
       "<Figure size 432x288 with 1 Axes>"
      ]
     },
     "metadata": {
      "needs_background": "light"
     },
     "output_type": "display_data"
    }
   ],
   "source": [
    "plt.plot(train_history)\n",
    "plt.plot(val_history)"
   ]
  },
  {
   "cell_type": "markdown",
   "metadata": {},
   "source": [
    "# Улучшаем процесс тренировки\n",
    "\n",
    "Мы реализуем несколько ключевых оптимизаций, необходимых для тренировки современных нейросетей."
   ]
  },
  {
   "cell_type": "markdown",
   "metadata": {},
   "source": [
    "## Уменьшение скорости обучения (learning rate decay)\n",
    "\n",
    "Одна из необходимых оптимизаций во время тренировки нейронных сетей - постепенное уменьшение скорости обучения по мере тренировки.\n",
    "\n",
    "Один из стандартных методов - уменьшение скорости обучения (learning rate) каждые N эпох на коэффициент d (часто называемый decay). Значения N и d, как всегда, являются гиперпараметрами и должны подбираться на основе эффективности на проверочных данных (validation data). \n",
    "\n",
    "В нашем случае N будет равным 1."
   ]
  },
  {
   "cell_type": "code",
   "execution_count": 12,
   "metadata": {
    "ExecuteTime": {
     "end_time": "2019-05-07T10:47:58.126298Z",
     "start_time": "2019-05-07T10:44:25.617872Z"
    }
   },
   "outputs": [
    {
     "name": "stdout",
     "output_type": "stream",
     "text": [
      "Loss: 2.148966, Train accuracy: 0.238000, val accuracy: 0.254000\n",
      "Loss: 2.027115, Train accuracy: 0.434889, val accuracy: 0.431000\n",
      "Loss: 1.637466, Train accuracy: 0.540556, val accuracy: 0.537000\n",
      "Loss: 0.885861, Train accuracy: 0.640333, val accuracy: 0.623000\n",
      "Loss: 1.212719, Train accuracy: 0.681222, val accuracy: 0.652000\n",
      "Loss: 1.645805, Train accuracy: 0.704778, val accuracy: 0.696000\n",
      "Loss: 0.868166, Train accuracy: 0.728778, val accuracy: 0.709000\n",
      "Loss: 1.027291, Train accuracy: 0.738778, val accuracy: 0.694000\n",
      "Loss: 1.559749, Train accuracy: 0.754556, val accuracy: 0.698000\n",
      "Loss: 0.612039, Train accuracy: 0.774778, val accuracy: 0.723000\n",
      "Loss: 0.629401, Train accuracy: 0.764667, val accuracy: 0.724000\n",
      "Loss: 0.290798, Train accuracy: 0.801889, val accuracy: 0.725000\n",
      "Loss: 0.956165, Train accuracy: 0.801222, val accuracy: 0.713000\n",
      "Loss: 0.412601, Train accuracy: 0.821444, val accuracy: 0.732000\n",
      "Loss: 0.750260, Train accuracy: 0.808556, val accuracy: 0.717000\n",
      "Loss: 0.811737, Train accuracy: 0.839222, val accuracy: 0.752000\n",
      "Loss: 0.684198, Train accuracy: 0.820556, val accuracy: 0.720000\n",
      "Loss: 0.361419, Train accuracy: 0.866556, val accuracy: 0.751000\n",
      "Loss: 0.528125, Train accuracy: 0.855333, val accuracy: 0.723000\n",
      "Loss: 0.431705, Train accuracy: 0.858444, val accuracy: 0.750000\n"
     ]
    }
   ],
   "source": [
    "# TODO Implement learning rate decay inside Trainer.fit method\n",
    "# Decay should happen once per epoch\n",
    "np.random.seed(42)\n",
    "model = TwoLayerNet(n_input = train_X.shape[1], n_output = 10, hidden_layer_size = 100, reg = 1e-5)\n",
    "dataset = Dataset(train_X, train_y, val_X, val_y)\n",
    "trainer = Trainer(model, dataset, SGD(), learning_rate_decay=0.99,learning_rate=1e-1)\n",
    "\n",
    "initial_learning_rate = trainer.learning_rate\n",
    "loss_history, train_history, val_history = trainer.fit()\n",
    "\n",
    "assert trainer.learning_rate < initial_learning_rate, \"Learning rate should've been reduced\"\n",
    "assert trainer.learning_rate > 0.5*initial_learning_rate, \"Learning rate shouldn'tve been reduced that much!\""
   ]
  },
  {
   "cell_type": "markdown",
   "metadata": {},
   "source": [
    "# Накопление импульса (Momentum SGD)\n",
    "\n",
    "Другой большой класс оптимизаций - использование более эффективных методов градиентного спуска. Мы реализуем один из них - накопление импульса (Momentum SGD).\n",
    "\n",
    "Этот метод хранит скорость движения, использует градиент для ее изменения на каждом шаге, и изменяет веса пропорционально значению скорости.\n",
    "(Физическая аналогия: Вместо скорости градиенты теперь будут задавать ускорение, но будет присутствовать сила трения.)\n",
    "\n",
    "```\n",
    "velocity = momentum * velocity - learning_rate * gradient \n",
    "w = w + velocity\n",
    "```\n",
    "\n",
    "`momentum` здесь коэффициент затухания, который тоже является гиперпараметром (к счастью, для него часто есть хорошее значение по умолчанию, типичный диапазон -- 0.8-0.99).\n",
    "\n",
    "Несколько полезных ссылок, где метод разбирается более подробно:  \n",
    "http://cs231n.github.io/neural-networks-3/#sgd  \n",
    "https://distill.pub/2017/momentum/"
   ]
  },
  {
   "cell_type": "code",
   "execution_count": 13,
   "metadata": {
    "ExecuteTime": {
     "end_time": "2019-05-07T10:52:43.877818Z",
     "start_time": "2019-05-07T10:47:58.131296Z"
    }
   },
   "outputs": [
    {
     "name": "stdout",
     "output_type": "stream",
     "text": [
      "Loss: 2.144626, Train accuracy: 0.197333, val accuracy: 0.206000\n",
      "Loss: 1.622121, Train accuracy: 0.355222, val accuracy: 0.358000\n",
      "Loss: 1.265590, Train accuracy: 0.554000, val accuracy: 0.547000\n",
      "Loss: 1.426333, Train accuracy: 0.609222, val accuracy: 0.590000\n",
      "Loss: 1.316831, Train accuracy: 0.673889, val accuracy: 0.653000\n",
      "Loss: 1.585551, Train accuracy: 0.671222, val accuracy: 0.662000\n",
      "Loss: 0.881241, Train accuracy: 0.727556, val accuracy: 0.678000\n",
      "Loss: 0.963371, Train accuracy: 0.728889, val accuracy: 0.666000\n",
      "Loss: 0.960361, Train accuracy: 0.750222, val accuracy: 0.703000\n",
      "Loss: 1.111276, Train accuracy: 0.773000, val accuracy: 0.697000\n",
      "Loss: 0.505593, Train accuracy: 0.783444, val accuracy: 0.709000\n",
      "Loss: 0.590929, Train accuracy: 0.811667, val accuracy: 0.725000\n",
      "Loss: 0.583194, Train accuracy: 0.829333, val accuracy: 0.728000\n",
      "Loss: 0.286914, Train accuracy: 0.804000, val accuracy: 0.719000\n",
      "Loss: 1.040563, Train accuracy: 0.835000, val accuracy: 0.731000\n",
      "Loss: 0.458959, Train accuracy: 0.829111, val accuracy: 0.744000\n",
      "Loss: 0.643442, Train accuracy: 0.835778, val accuracy: 0.732000\n",
      "Loss: 0.731865, Train accuracy: 0.836111, val accuracy: 0.727000\n",
      "Loss: 0.157285, Train accuracy: 0.869444, val accuracy: 0.763000\n",
      "Loss: 0.417178, Train accuracy: 0.863222, val accuracy: 0.741000\n"
     ]
    }
   ],
   "source": [
    "# TODO: Implement MomentumSGD.update function in optim.py\n",
    "np.random.seed(42)\n",
    "model = TwoLayerNet(n_input = train_X.shape[1], n_output = 10, hidden_layer_size = 100, reg = 1e-5)\n",
    "dataset = Dataset(train_X, train_y, val_X, val_y)\n",
    "trainer = Trainer(model, dataset, MomentumSGD(), learning_rate=1e-2, learning_rate_decay=0.99)\n",
    "\n",
    "# You should see even better results than before!\n",
    "loss_history, train_history, val_history = trainer.fit()"
   ]
  },
  {
   "cell_type": "markdown",
   "metadata": {},
   "source": [
    "# Ну что, давайте уже тренировать сеть!"
   ]
  },
  {
   "cell_type": "markdown",
   "metadata": {},
   "source": [
    "## Последний тест - переобучимся (overfit) на маленьком наборе данных\n",
    "\n",
    "Хороший способ проверить, все ли реализовано корректно - переобучить сеть на маленьком наборе данных.  \n",
    "Наша модель обладает достаточной мощностью, чтобы приблизить маленький набор данных идеально, поэтому мы ожидаем, что на нем мы быстро дойдем до 100% точности на тренировочном наборе. \n",
    "\n",
    "Если этого не происходит, то где-то была допущена ошибка!"
   ]
  },
  {
   "cell_type": "code",
   "execution_count": 14,
   "metadata": {
    "ExecuteTime": {
     "end_time": "2019-05-07T10:52:52.871672Z",
     "start_time": "2019-05-07T10:52:43.881815Z"
    },
    "scrolled": true
   },
   "outputs": [
    {
     "name": "stdout",
     "output_type": "stream",
     "text": [
      "Loss: 2.304002, Train accuracy: 0.300000, val accuracy: 0.200000\n",
      "Loss: 2.299659, Train accuracy: 0.400000, val accuracy: 0.300000\n",
      "Loss: 2.288539, Train accuracy: 0.500000, val accuracy: 0.200000\n",
      "Loss: 2.261236, Train accuracy: 0.400000, val accuracy: 0.200000\n",
      "Loss: 2.246106, Train accuracy: 0.400000, val accuracy: 0.200000\n",
      "Loss: 2.250431, Train accuracy: 0.300000, val accuracy: 0.200000\n",
      "Loss: 2.229301, Train accuracy: 0.300000, val accuracy: 0.200000\n",
      "Loss: 2.211588, Train accuracy: 0.300000, val accuracy: 0.200000\n",
      "Loss: 2.159868, Train accuracy: 0.300000, val accuracy: 0.200000\n",
      "Loss: 2.003427, Train accuracy: 0.300000, val accuracy: 0.200000\n",
      "Loss: 1.973151, Train accuracy: 0.300000, val accuracy: 0.200000\n",
      "Loss: 1.466269, Train accuracy: 0.300000, val accuracy: 0.200000\n",
      "Loss: 2.227071, Train accuracy: 0.300000, val accuracy: 0.200000\n",
      "Loss: 1.428905, Train accuracy: 0.400000, val accuracy: 0.200000\n",
      "Loss: 1.345447, Train accuracy: 0.400000, val accuracy: 0.200000\n",
      "Loss: 1.661391, Train accuracy: 0.400000, val accuracy: 0.200000\n",
      "Loss: 1.121492, Train accuracy: 0.400000, val accuracy: 0.200000\n",
      "Loss: 1.244630, Train accuracy: 0.400000, val accuracy: 0.200000\n",
      "Loss: 1.700197, Train accuracy: 0.500000, val accuracy: 0.200000\n",
      "Loss: 1.313963, Train accuracy: 0.600000, val accuracy: 0.200000\n",
      "Loss: 1.701162, Train accuracy: 0.500000, val accuracy: 0.200000\n",
      "Loss: 1.275568, Train accuracy: 0.500000, val accuracy: 0.200000\n",
      "Loss: 1.588846, Train accuracy: 0.500000, val accuracy: 0.200000\n",
      "Loss: 1.517263, Train accuracy: 0.500000, val accuracy: 0.200000\n",
      "Loss: 1.390795, Train accuracy: 0.500000, val accuracy: 0.200000\n",
      "Loss: 1.395931, Train accuracy: 0.600000, val accuracy: 0.200000\n",
      "Loss: 1.334155, Train accuracy: 0.600000, val accuracy: 0.200000\n",
      "Loss: 1.244307, Train accuracy: 0.700000, val accuracy: 0.200000\n",
      "Loss: 0.860868, Train accuracy: 0.700000, val accuracy: 0.200000\n",
      "Loss: 1.411644, Train accuracy: 0.700000, val accuracy: 0.200000\n",
      "Loss: 0.820691, Train accuracy: 0.700000, val accuracy: 0.200000\n",
      "Loss: 0.548000, Train accuracy: 0.700000, val accuracy: 0.200000\n",
      "Loss: 1.013365, Train accuracy: 0.700000, val accuracy: 0.100000\n",
      "Loss: 0.806282, Train accuracy: 0.700000, val accuracy: 0.200000\n",
      "Loss: 0.876687, Train accuracy: 0.700000, val accuracy: 0.200000\n",
      "Loss: 0.585323, Train accuracy: 0.700000, val accuracy: 0.200000\n",
      "Loss: 0.851634, Train accuracy: 0.700000, val accuracy: 0.200000\n",
      "Loss: 1.022787, Train accuracy: 0.800000, val accuracy: 0.100000\n",
      "Loss: 0.814167, Train accuracy: 0.800000, val accuracy: 0.200000\n",
      "Loss: 0.759374, Train accuracy: 0.900000, val accuracy: 0.200000\n",
      "Loss: 0.555493, Train accuracy: 0.900000, val accuracy: 0.200000\n",
      "Loss: 0.530260, Train accuracy: 0.900000, val accuracy: 0.200000\n",
      "Loss: 0.188689, Train accuracy: 0.900000, val accuracy: 0.100000\n",
      "Loss: 0.982029, Train accuracy: 1.000000, val accuracy: 0.100000\n",
      "Loss: 0.194714, Train accuracy: 1.000000, val accuracy: 0.000000\n",
      "Loss: 0.353181, Train accuracy: 1.000000, val accuracy: 0.100000\n",
      "Loss: 0.690371, Train accuracy: 1.000000, val accuracy: 0.100000\n",
      "Loss: 0.279116, Train accuracy: 1.000000, val accuracy: 0.100000\n",
      "Loss: 0.770046, Train accuracy: 1.000000, val accuracy: 0.000000\n",
      "Loss: 0.539220, Train accuracy: 1.000000, val accuracy: 0.000000\n",
      "Loss: 0.469093, Train accuracy: 1.000000, val accuracy: 0.100000\n",
      "Loss: 0.496983, Train accuracy: 1.000000, val accuracy: 0.000000\n",
      "Loss: 0.513146, Train accuracy: 1.000000, val accuracy: 0.000000\n",
      "Loss: 0.501978, Train accuracy: 1.000000, val accuracy: 0.000000\n",
      "Loss: 0.289475, Train accuracy: 1.000000, val accuracy: 0.000000\n",
      "Loss: 0.211234, Train accuracy: 1.000000, val accuracy: 0.000000\n",
      "Loss: 0.469546, Train accuracy: 1.000000, val accuracy: 0.000000\n",
      "Loss: 0.247697, Train accuracy: 1.000000, val accuracy: 0.000000\n",
      "Loss: 0.233358, Train accuracy: 1.000000, val accuracy: 0.000000\n",
      "Loss: 0.221094, Train accuracy: 1.000000, val accuracy: 0.000000\n",
      "Loss: 0.156550, Train accuracy: 1.000000, val accuracy: 0.000000\n",
      "Loss: 0.454395, Train accuracy: 1.000000, val accuracy: 0.000000\n",
      "Loss: 0.479481, Train accuracy: 1.000000, val accuracy: 0.000000\n",
      "Loss: 0.434766, Train accuracy: 1.000000, val accuracy: 0.000000\n",
      "Loss: 0.429541, Train accuracy: 1.000000, val accuracy: 0.000000\n",
      "Loss: 0.456716, Train accuracy: 1.000000, val accuracy: 0.000000\n",
      "Loss: 0.176167, Train accuracy: 1.000000, val accuracy: 0.000000\n",
      "Loss: 0.187339, Train accuracy: 1.000000, val accuracy: 0.000000\n",
      "Loss: 0.394489, Train accuracy: 1.000000, val accuracy: 0.000000\n",
      "Loss: 0.385724, Train accuracy: 1.000000, val accuracy: 0.000000\n",
      "Loss: 0.370862, Train accuracy: 1.000000, val accuracy: 0.000000\n",
      "Loss: 0.150677, Train accuracy: 1.000000, val accuracy: 0.000000\n",
      "Loss: 0.166641, Train accuracy: 1.000000, val accuracy: 0.000000\n",
      "Loss: 0.175849, Train accuracy: 1.000000, val accuracy: 0.000000\n",
      "Loss: 0.154319, Train accuracy: 1.000000, val accuracy: 0.000000\n",
      "Loss: 0.341811, Train accuracy: 1.000000, val accuracy: 0.000000\n",
      "Loss: 0.166721, Train accuracy: 1.000000, val accuracy: 0.000000\n",
      "Loss: 0.169729, Train accuracy: 1.000000, val accuracy: 0.000000\n",
      "Loss: 0.316509, Train accuracy: 1.000000, val accuracy: 0.000000\n",
      "Loss: 0.289491, Train accuracy: 1.000000, val accuracy: 0.000000\n",
      "Loss: 0.161269, Train accuracy: 1.000000, val accuracy: 0.000000\n",
      "Loss: 0.278328, Train accuracy: 1.000000, val accuracy: 0.000000\n",
      "Loss: 0.285497, Train accuracy: 1.000000, val accuracy: 0.000000\n",
      "Loss: 0.166979, Train accuracy: 1.000000, val accuracy: 0.000000\n",
      "Loss: 0.265201, Train accuracy: 1.000000, val accuracy: 0.000000\n",
      "Loss: 0.253889, Train accuracy: 1.000000, val accuracy: 0.000000\n",
      "Loss: 0.166253, Train accuracy: 1.000000, val accuracy: 0.000000\n",
      "Loss: 0.247228, Train accuracy: 1.000000, val accuracy: 0.000000\n",
      "Loss: 0.241982, Train accuracy: 1.000000, val accuracy: 0.000000\n",
      "Loss: 0.222465, Train accuracy: 1.000000, val accuracy: 0.000000\n",
      "Loss: 0.162283, Train accuracy: 1.000000, val accuracy: 0.000000\n",
      "Loss: 0.228504, Train accuracy: 1.000000, val accuracy: 0.000000\n",
      "Loss: 0.232148, Train accuracy: 1.000000, val accuracy: 0.000000\n",
      "Loss: 0.214237, Train accuracy: 1.000000, val accuracy: 0.000000\n",
      "Loss: 0.169781, Train accuracy: 1.000000, val accuracy: 0.000000\n",
      "Loss: 0.212854, Train accuracy: 1.000000, val accuracy: 0.000000\n",
      "Loss: 0.154592, Train accuracy: 1.000000, val accuracy: 0.000000\n",
      "Loss: 0.161338, Train accuracy: 1.000000, val accuracy: 0.000000\n",
      "Loss: 0.198245, Train accuracy: 1.000000, val accuracy: 0.000000\n",
      "Loss: 0.208519, Train accuracy: 1.000000, val accuracy: 0.000000\n",
      "Loss: 0.157616, Train accuracy: 1.000000, val accuracy: 0.000000\n",
      "Loss: 0.190002, Train accuracy: 1.000000, val accuracy: 0.000000\n",
      "Loss: 0.158231, Train accuracy: 1.000000, val accuracy: 0.000000\n",
      "Loss: 0.164073, Train accuracy: 1.000000, val accuracy: 0.000000\n",
      "Loss: 0.170777, Train accuracy: 1.000000, val accuracy: 0.000000\n",
      "Loss: 0.162069, Train accuracy: 1.000000, val accuracy: 0.000000\n",
      "Loss: 0.189589, Train accuracy: 1.000000, val accuracy: 0.100000\n",
      "Loss: 0.165151, Train accuracy: 1.000000, val accuracy: 0.100000\n",
      "Loss: 0.156501, Train accuracy: 1.000000, val accuracy: 0.100000\n",
      "Loss: 0.166638, Train accuracy: 1.000000, val accuracy: 0.000000\n",
      "Loss: 0.171883, Train accuracy: 1.000000, val accuracy: 0.000000\n",
      "Loss: 0.165281, Train accuracy: 1.000000, val accuracy: 0.000000\n",
      "Loss: 0.166447, Train accuracy: 1.000000, val accuracy: 0.000000\n",
      "Loss: 0.163914, Train accuracy: 1.000000, val accuracy: 0.000000\n",
      "Loss: 0.163549, Train accuracy: 1.000000, val accuracy: 0.100000\n",
      "Loss: 0.160455, Train accuracy: 1.000000, val accuracy: 0.100000\n",
      "Loss: 0.189455, Train accuracy: 1.000000, val accuracy: 0.100000\n",
      "Loss: 0.181760, Train accuracy: 1.000000, val accuracy: 0.100000\n",
      "Loss: 0.167755, Train accuracy: 1.000000, val accuracy: 0.100000\n",
      "Loss: 0.178896, Train accuracy: 1.000000, val accuracy: 0.100000\n",
      "Loss: 0.186339, Train accuracy: 1.000000, val accuracy: 0.100000\n",
      "Loss: 0.177598, Train accuracy: 1.000000, val accuracy: 0.100000\n",
      "Loss: 0.184106, Train accuracy: 1.000000, val accuracy: 0.100000\n",
      "Loss: 0.157801, Train accuracy: 1.000000, val accuracy: 0.100000\n",
      "Loss: 0.163674, Train accuracy: 1.000000, val accuracy: 0.100000\n",
      "Loss: 0.163277, Train accuracy: 1.000000, val accuracy: 0.100000\n",
      "Loss: 0.162215, Train accuracy: 1.000000, val accuracy: 0.100000\n",
      "Loss: 0.161422, Train accuracy: 1.000000, val accuracy: 0.100000\n"
     ]
    },
    {
     "name": "stdout",
     "output_type": "stream",
     "text": [
      "Loss: 0.165742, Train accuracy: 1.000000, val accuracy: 0.100000\n",
      "Loss: 0.171381, Train accuracy: 1.000000, val accuracy: 0.100000\n",
      "Loss: 0.176117, Train accuracy: 1.000000, val accuracy: 0.100000\n",
      "Loss: 0.183517, Train accuracy: 1.000000, val accuracy: 0.100000\n",
      "Loss: 0.158840, Train accuracy: 1.000000, val accuracy: 0.100000\n",
      "Loss: 0.158182, Train accuracy: 1.000000, val accuracy: 0.100000\n",
      "Loss: 0.165103, Train accuracy: 1.000000, val accuracy: 0.200000\n",
      "Loss: 0.170311, Train accuracy: 1.000000, val accuracy: 0.200000\n",
      "Loss: 0.160870, Train accuracy: 1.000000, val accuracy: 0.200000\n",
      "Loss: 0.163734, Train accuracy: 1.000000, val accuracy: 0.200000\n",
      "Loss: 0.164074, Train accuracy: 1.000000, val accuracy: 0.200000\n",
      "Loss: 0.169953, Train accuracy: 1.000000, val accuracy: 0.200000\n",
      "Loss: 0.173124, Train accuracy: 1.000000, val accuracy: 0.200000\n",
      "Loss: 0.169892, Train accuracy: 1.000000, val accuracy: 0.200000\n",
      "Loss: 0.155778, Train accuracy: 1.000000, val accuracy: 0.200000\n",
      "Loss: 0.167414, Train accuracy: 1.000000, val accuracy: 0.200000\n",
      "Loss: 0.165057, Train accuracy: 1.000000, val accuracy: 0.200000\n",
      "Loss: 0.173258, Train accuracy: 1.000000, val accuracy: 0.200000\n",
      "Loss: 0.171495, Train accuracy: 1.000000, val accuracy: 0.200000\n",
      "Loss: 0.170426, Train accuracy: 1.000000, val accuracy: 0.200000\n",
      "Loss: 0.160760, Train accuracy: 1.000000, val accuracy: 0.200000\n",
      "Loss: 0.173980, Train accuracy: 1.000000, val accuracy: 0.200000\n",
      "Loss: 0.160842, Train accuracy: 1.000000, val accuracy: 0.200000\n",
      "Loss: 0.171075, Train accuracy: 1.000000, val accuracy: 0.200000\n",
      "Loss: 0.171607, Train accuracy: 1.000000, val accuracy: 0.200000\n",
      "Loss: 0.170631, Train accuracy: 1.000000, val accuracy: 0.200000\n",
      "Loss: 0.164843, Train accuracy: 1.000000, val accuracy: 0.200000\n",
      "Loss: 0.166372, Train accuracy: 1.000000, val accuracy: 0.200000\n",
      "Loss: 0.168978, Train accuracy: 1.000000, val accuracy: 0.200000\n",
      "Loss: 0.159666, Train accuracy: 1.000000, val accuracy: 0.200000\n",
      "Loss: 0.163068, Train accuracy: 1.000000, val accuracy: 0.200000\n",
      "Loss: 0.158795, Train accuracy: 1.000000, val accuracy: 0.200000\n",
      "Loss: 0.168805, Train accuracy: 1.000000, val accuracy: 0.200000\n",
      "Loss: 0.163774, Train accuracy: 1.000000, val accuracy: 0.200000\n",
      "Loss: 0.164334, Train accuracy: 1.000000, val accuracy: 0.200000\n",
      "Loss: 0.161226, Train accuracy: 1.000000, val accuracy: 0.200000\n",
      "Loss: 0.172742, Train accuracy: 1.000000, val accuracy: 0.200000\n",
      "Loss: 0.167918, Train accuracy: 1.000000, val accuracy: 0.200000\n",
      "Loss: 0.166381, Train accuracy: 1.000000, val accuracy: 0.200000\n",
      "Loss: 0.168843, Train accuracy: 1.000000, val accuracy: 0.200000\n",
      "Loss: 0.170147, Train accuracy: 1.000000, val accuracy: 0.200000\n",
      "Loss: 0.172216, Train accuracy: 1.000000, val accuracy: 0.200000\n",
      "Loss: 0.162286, Train accuracy: 1.000000, val accuracy: 0.200000\n",
      "Loss: 0.167230, Train accuracy: 1.000000, val accuracy: 0.200000\n",
      "Loss: 0.171119, Train accuracy: 1.000000, val accuracy: 0.200000\n",
      "Loss: 0.171708, Train accuracy: 1.000000, val accuracy: 0.200000\n",
      "Loss: 0.168567, Train accuracy: 1.000000, val accuracy: 0.200000\n",
      "Loss: 0.159987, Train accuracy: 1.000000, val accuracy: 0.200000\n",
      "Loss: 0.161064, Train accuracy: 1.000000, val accuracy: 0.200000\n",
      "Loss: 0.173395, Train accuracy: 1.000000, val accuracy: 0.200000\n",
      "Loss: 0.161747, Train accuracy: 1.000000, val accuracy: 0.200000\n",
      "Loss: 0.173082, Train accuracy: 1.000000, val accuracy: 0.200000\n",
      "Loss: 0.170770, Train accuracy: 1.000000, val accuracy: 0.200000\n",
      "Loss: 0.159168, Train accuracy: 1.000000, val accuracy: 0.200000\n",
      "Loss: 0.162374, Train accuracy: 1.000000, val accuracy: 0.200000\n",
      "Loss: 0.155960, Train accuracy: 1.000000, val accuracy: 0.200000\n",
      "Loss: 0.168973, Train accuracy: 1.000000, val accuracy: 0.200000\n",
      "Loss: 0.158617, Train accuracy: 1.000000, val accuracy: 0.200000\n",
      "Loss: 0.156564, Train accuracy: 1.000000, val accuracy: 0.200000\n",
      "Loss: 0.168058, Train accuracy: 1.000000, val accuracy: 0.200000\n",
      "Loss: 0.167955, Train accuracy: 1.000000, val accuracy: 0.200000\n",
      "Loss: 0.160640, Train accuracy: 1.000000, val accuracy: 0.200000\n",
      "Loss: 0.162798, Train accuracy: 1.000000, val accuracy: 0.200000\n",
      "Loss: 0.173755, Train accuracy: 1.000000, val accuracy: 0.200000\n",
      "Loss: 0.156721, Train accuracy: 1.000000, val accuracy: 0.200000\n",
      "Loss: 0.154146, Train accuracy: 1.000000, val accuracy: 0.200000\n",
      "Loss: 0.152537, Train accuracy: 1.000000, val accuracy: 0.200000\n",
      "Loss: 0.163205, Train accuracy: 1.000000, val accuracy: 0.200000\n",
      "Loss: 0.160758, Train accuracy: 1.000000, val accuracy: 0.200000\n",
      "Loss: 0.165265, Train accuracy: 1.000000, val accuracy: 0.200000\n",
      "Loss: 0.164318, Train accuracy: 1.000000, val accuracy: 0.200000\n",
      "Loss: 0.158365, Train accuracy: 1.000000, val accuracy: 0.200000\n"
     ]
    }
   ],
   "source": [
    "np.random.seed(42)\n",
    "data_size = 10\n",
    "model = TwoLayerNet(n_input = train_X.shape[1], n_output = 10, hidden_layer_size = 100, reg = 1e-2)\n",
    "dataset = Dataset(train_X[:data_size], train_y[:data_size], val_X[:data_size], val_y[:data_size])\n",
    "trainer = Trainer(model, dataset, SGD(), learning_rate=1e-1, num_epochs=200, batch_size=5)\n",
    "\n",
    "# You should expect this to reach 1.0 training accuracy \n",
    "loss_history, train_history, val_history = trainer.fit()"
   ]
  },
  {
   "cell_type": "markdown",
   "metadata": {},
   "source": [
    "Теперь найдем гипепараметры, для которых этот процесс сходится быстрее.\n",
    "Если все реализовано корректно, то существуют параметры, при которых процесс сходится в **20** эпох или еще быстрее.\n",
    "Найдите их!"
   ]
  },
  {
   "cell_type": "code",
   "execution_count": 22,
   "metadata": {
    "ExecuteTime": {
     "end_time": "2019-05-07T10:54:17.795771Z",
     "start_time": "2019-05-07T10:54:13.135437Z"
    },
    "scrolled": false
   },
   "outputs": [
    {
     "name": "stdout",
     "output_type": "stream",
     "text": [
      "Loss: 2.297668, Train accuracy: 0.200000, val accuracy: 0.100000\n",
      "Loss: 2.402199, Train accuracy: 0.200000, val accuracy: 0.100000\n",
      "Loss: 1.612343, Train accuracy: 0.400000, val accuracy: 0.200000\n",
      "Loss: 0.005829, Train accuracy: 0.400000, val accuracy: 0.200000\n",
      "Loss: 0.486161, Train accuracy: 0.500000, val accuracy: 0.100000\n",
      "Loss: 2.367919, Train accuracy: 0.500000, val accuracy: 0.200000\n",
      "Loss: 2.375234, Train accuracy: 0.500000, val accuracy: 0.200000\n",
      "Loss: 0.001068, Train accuracy: 0.700000, val accuracy: 0.100000\n",
      "Loss: 2.240030, Train accuracy: 0.700000, val accuracy: 0.200000\n",
      "Loss: 0.224212, Train accuracy: 0.700000, val accuracy: 0.200000\n",
      "Loss: 2.307680, Train accuracy: 0.800000, val accuracy: 0.200000\n",
      "Loss: 1.759529, Train accuracy: 1.000000, val accuracy: 0.100000\n",
      "Loss: 0.138615, Train accuracy: 0.900000, val accuracy: 0.000000\n",
      "Loss: 0.005232, Train accuracy: 1.000000, val accuracy: 0.000000\n",
      "Loss: 0.050187, Train accuracy: 1.000000, val accuracy: 0.000000\n",
      "Loss: 0.037446, Train accuracy: 1.000000, val accuracy: 0.000000\n",
      "Loss: 0.033814, Train accuracy: 1.000000, val accuracy: 0.000000\n",
      "Loss: 0.003956, Train accuracy: 1.000000, val accuracy: 0.000000\n",
      "Loss: 0.002378, Train accuracy: 1.000000, val accuracy: 0.000000\n",
      "Loss: 0.380377, Train accuracy: 1.000000, val accuracy: 0.000000\n"
     ]
    }
   ],
   "source": [
    "# Now, tweak some hyper parameters and make it train to 1.0 accuracy in 20 epochs or less\n",
    "np.random.seed(42)\n",
    "model = TwoLayerNet(n_input = train_X.shape[1], n_output = 10, hidden_layer_size = 100, reg = 1e-5)\n",
    "dataset = Dataset(train_X[:data_size], train_y[:data_size], val_X[:data_size], val_y[:data_size])\n",
    "# TODO: Change any hyperparamers or optimizators to reach training accuracy in 20 epochs\n",
    "trainer = Trainer(model, dataset, SGD(), learning_rate=1e-1, num_epochs=20, batch_size=1)\n",
    "\n",
    "loss_history, train_history, val_history = trainer.fit()"
   ]
  },
  {
   "cell_type": "markdown",
   "metadata": {},
   "source": [
    "# Итак, основное мероприятие!\n",
    "\n",
    "Натренируйте лучшую нейросеть! Можно добавлять и изменять параметры, менять количество нейронов в слоях сети и как угодно экспериментировать. \n",
    "\n",
    "Добейтесь точности лучше **40%** на validation set."
   ]
  },
  {
   "cell_type": "code",
   "execution_count": 40,
   "metadata": {
    "ExecuteTime": {
     "end_time": "2019-05-07T12:05:12.118441Z",
     "start_time": "2019-05-07T12:05:11.743655Z"
    }
   },
   "outputs": [],
   "source": [
    "dataset = Dataset(train_X, train_y, val_X, val_y)\n",
    "\n",
    "best_classifier = None\n",
    "best_val_accuracy = None\n",
    "\n",
    "loss_history = []\n",
    "train_history = []\n",
    "val_history = []"
   ]
  },
  {
   "cell_type": "code",
   "execution_count": 41,
   "metadata": {
    "ExecuteTime": {
     "end_time": "2019-05-07T12:18:39.388288Z",
     "start_time": "2019-05-07T12:05:13.324752Z"
    },
    "scrolled": true
   },
   "outputs": [
    {
     "name": "stdout",
     "output_type": "stream",
     "text": [
      "Loss: 2.083887, Train accuracy: 0.207889, val accuracy: 0.203000\n",
      "Loss: 1.636458, Train accuracy: 0.371889, val accuracy: 0.355000\n",
      "Loss: 1.535169, Train accuracy: 0.522333, val accuracy: 0.522000\n",
      "Loss: 1.703453, Train accuracy: 0.642111, val accuracy: 0.643000\n",
      "Loss: 1.548144, Train accuracy: 0.647556, val accuracy: 0.634000\n",
      "Loss: 1.502545, Train accuracy: 0.702444, val accuracy: 0.679000\n",
      "Loss: 1.016468, Train accuracy: 0.728889, val accuracy: 0.683000\n",
      "Loss: 0.847236, Train accuracy: 0.731889, val accuracy: 0.677000\n",
      "Loss: 0.538307, Train accuracy: 0.756333, val accuracy: 0.710000\n",
      "Loss: 0.945190, Train accuracy: 0.750333, val accuracy: 0.695000\n",
      "Loss: 0.862827, Train accuracy: 0.781667, val accuracy: 0.708000\n",
      "Loss: 0.518437, Train accuracy: 0.771556, val accuracy: 0.708000\n",
      "Loss: 0.365799, Train accuracy: 0.806556, val accuracy: 0.731000\n",
      "Loss: 0.438843, Train accuracy: 0.809444, val accuracy: 0.711000\n",
      "Loss: 0.396618, Train accuracy: 0.833444, val accuracy: 0.735000\n",
      "Loss: 0.294616, Train accuracy: 0.828444, val accuracy: 0.726000\n",
      "Loss: 0.466660, Train accuracy: 0.841778, val accuracy: 0.724000\n",
      "Loss: 0.667371, Train accuracy: 0.842667, val accuracy: 0.715000\n",
      "Loss: 0.658418, Train accuracy: 0.854111, val accuracy: 0.736000\n",
      "Loss: 0.637569, Train accuracy: 0.864222, val accuracy: 0.737000\n",
      "Loss: 0.919880, Train accuracy: 0.872778, val accuracy: 0.731000\n",
      "Loss: 0.620250, Train accuracy: 0.878889, val accuracy: 0.746000\n",
      "Loss: 0.435051, Train accuracy: 0.887444, val accuracy: 0.737000\n",
      "Loss: 0.170549, Train accuracy: 0.893111, val accuracy: 0.753000\n",
      "Loss: 0.208848, Train accuracy: 0.895778, val accuracy: 0.755000\n",
      "Loss: 0.441038, Train accuracy: 0.900444, val accuracy: 0.745000\n",
      "Loss: 0.266494, Train accuracy: 0.899778, val accuracy: 0.747000\n",
      "Loss: 0.598886, Train accuracy: 0.903444, val accuracy: 0.748000\n",
      "Loss: 0.281908, Train accuracy: 0.904444, val accuracy: 0.752000\n",
      "Loss: 0.584716, Train accuracy: 0.916444, val accuracy: 0.753000\n",
      "Loss: 0.171392, Train accuracy: 0.911111, val accuracy: 0.747000\n",
      "Loss: 0.402396, Train accuracy: 0.917556, val accuracy: 0.748000\n",
      "Loss: 0.581416, Train accuracy: 0.925222, val accuracy: 0.750000\n",
      "Loss: 0.245156, Train accuracy: 0.919667, val accuracy: 0.750000\n",
      "Loss: 0.255600, Train accuracy: 0.925667, val accuracy: 0.752000\n",
      "Loss: 0.321256, Train accuracy: 0.928000, val accuracy: 0.749000\n",
      "Loss: 0.380488, Train accuracy: 0.931222, val accuracy: 0.756000\n",
      "Loss: 0.180960, Train accuracy: 0.930444, val accuracy: 0.750000\n",
      "Loss: 0.316680, Train accuracy: 0.933111, val accuracy: 0.742000\n",
      "Loss: 0.493316, Train accuracy: 0.937333, val accuracy: 0.748000\n",
      "Loss: 0.159068, Train accuracy: 0.934778, val accuracy: 0.753000\n",
      "Loss: 0.309074, Train accuracy: 0.935556, val accuracy: 0.758000\n",
      "Loss: 0.415008, Train accuracy: 0.938111, val accuracy: 0.762000\n",
      "Loss: 0.171418, Train accuracy: 0.940556, val accuracy: 0.752000\n",
      "Loss: 0.220445, Train accuracy: 0.940889, val accuracy: 0.757000\n",
      "Loss: 0.140311, Train accuracy: 0.942778, val accuracy: 0.749000\n",
      "Loss: 0.180579, Train accuracy: 0.943444, val accuracy: 0.754000\n",
      "Loss: 0.275462, Train accuracy: 0.946000, val accuracy: 0.756000\n",
      "Loss: 0.280426, Train accuracy: 0.945778, val accuracy: 0.755000\n",
      "Loss: 0.167866, Train accuracy: 0.950333, val accuracy: 0.760000\n",
      "current accuracy: 0.760000\n",
      "best validation accuracy achieved: 0.760000\n"
     ]
    }
   ],
   "source": [
    "# Let's train the best one-hidden-layer network we can\n",
    "np.random.seed(42)\n",
    "\n",
    "learning_rate = 1e-2\n",
    "reg_strength = 1e-5\n",
    "learning_rate_decay = 0.95\n",
    "hidden_layer_size = 128\n",
    "num_epochs = 50\n",
    "batch_size = 64\n",
    "\n",
    "# TODO find the best hyperparameters to train the network\n",
    "# Don't hesitate to add new values to the arrays above, perform experiments, use any tricks you want\n",
    "# You should expect to get to at least 40% of valudation accuracy\n",
    "# Save loss/train/history of the best classifier to the variables above\n",
    "\n",
    "model = TwoLayerNet(n_input=train_X.shape[1], n_output=10, hidden_layer_size=hidden_layer_size, reg=reg_strength)\n",
    "trainer = Trainer(model, dataset, MomentumSGD(), num_epochs=num_epochs, learning_rate=learning_rate, learning_rate_decay=learning_rate_decay)\n",
    "loss_history_, train_history_, val_history_ = trainer.fit()\n",
    "if not best_classifier:\n",
    "    best_classifier = model\n",
    "    best_val_accuracy = val_history_[-1]\n",
    "    loss_history = loss_history_\n",
    "    val_history = val_history_\n",
    "    train_history = train_history_\n",
    "    \n",
    "if val_history_[-1]>best_val_accuracy:\n",
    "    best_classifier = model\n",
    "    best_val_accuracy = val_history_[-1]\n",
    "    loss_history = loss_history_\n",
    "    val_history = val_history_\n",
    "    train_history = train_history_\n",
    "\n",
    "print('current accuracy: %f' % val_history_[-1])\n",
    "print('best validation accuracy achieved: %f' % best_val_accuracy)"
   ]
  },
  {
   "cell_type": "code",
   "execution_count": 42,
   "metadata": {
    "ExecuteTime": {
     "end_time": "2019-05-07T12:18:40.711784Z",
     "start_time": "2019-05-07T12:18:40.164992Z"
    }
   },
   "outputs": [
    {
     "data": {
      "text/plain": [
       "[<matplotlib.lines.Line2D at 0x2210342e6d8>]"
      ]
     },
     "execution_count": 42,
     "metadata": {},
     "output_type": "execute_result"
    },
    {
     "data": {
      "image/png": "[encoded data removed]",
      "text/plain": [
       "<Figure size 1080x504 with 2 Axes>"
      ]
     },
     "metadata": {
      "needs_background": "light"
     },
     "output_type": "display_data"
    }
   ],
   "source": [
    "plt.figure(figsize=(15, 7))\n",
    "plt.subplot(211)\n",
    "plt.title(\"Loss\")\n",
    "plt.plot(loss_history)\n",
    "plt.subplot(212)\n",
    "plt.title(\"Train/validation accuracy\")\n",
    "plt.plot(train_history)\n",
    "plt.plot(val_history)"
   ]
  },
  {
   "cell_type": "markdown",
   "metadata": {},
   "source": [
    "# Как обычно, посмотрим, как наша лучшая модель работает на тестовых данных"
   ]
  },
  {
   "cell_type": "code",
   "execution_count": 43,
   "metadata": {
    "ExecuteTime": {
     "end_time": "2019-05-07T12:18:41.737261Z",
     "start_time": "2019-05-07T12:18:41.388395Z"
    }
   },
   "outputs": [
    {
     "name": "stdout",
     "output_type": "stream",
     "text": [
      "Neural net test set accuracy: 0.752000\n"
     ]
    }
   ],
   "source": [
    "test_pred = best_classifier.predict(test_X)\n",
    "test_accuracy = multiclass_accuracy(test_pred, test_y)\n",
    "print('Neural net test set accuracy: %f' % (test_accuracy, ))"
   ]
  },
  {
   "cell_type": "code",
   "execution_count": null,
   "metadata": {},
   "outputs": [],
   "source": []
  }
 ],
 "metadata": {
  "kernelspec": {
   "display_name": "Python 3",
   "language": "python",
   "name": "python3"
  },
  "language_info": {
   "codemirror_mode": {
    "name": "ipython",
    "version": 3
   },
   "file_extension": ".py",
   "mimetype": "text/x-python",
   "name": "python",
   "nbconvert_exporter": "python",
   "pygments_lexer": "ipython3",
   "version": "3.7.3"
  },
  "varInspector": {
   "cols": {
    "lenName": 16,
    "lenType": 16,
    "lenVar": 40
   },
   "kernels_config": {
    "python": {
     "delete_cmd_postfix": "",
     "delete_cmd_prefix": "del ",
     "library": "var_list.py",
     "varRefreshCmd": "print(var_dic_list())"
    },
    "r": {
     "delete_cmd_postfix": ") ",
     "delete_cmd_prefix": "rm(",
     "library": "var_list.r",
     "varRefreshCmd": "cat(var_dic_list()) "
    }
   },
   "types_to_exclude": [
    "module",
    "function",
    "builtin_function_or_method",
    "instance",
    "_Feature"
   ],
   "window_display": false
  }
 },
 "nbformat": 4,
 "nbformat_minor": 2
}
